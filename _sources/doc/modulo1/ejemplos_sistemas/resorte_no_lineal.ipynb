{
 "cells": [
  {
   "cell_type": "markdown",
   "id": "0be21d7f",
   "metadata": {},
   "source": [
    "# Sistema masa resorte amortiguador"
   ]
  },
  {
   "cell_type": "markdown",
   "id": "1c7138d6",
   "metadata": {},
   "source": [
    "## Ecuaciones de movimiento"
   ]
  },
  {
   "cell_type": "markdown",
   "id": "2d379af2",
   "metadata": {},
   "source": [
    "Supongamos que el resorte no cumple la ley de Hook, sino que produce una fuerza que es:\n",
    "\n",
    "$$f_k = Kx^3$$"
   ]
  },
  {
   "cell_type": "markdown",
   "id": "5e9c117c",
   "metadata": {},
   "source": [
    "Entonces las ecuaciones de movimiento son\n",
    "\n",
    "$$ ma(t) = F+mg - f_b - f_k \\implies m \\ddot x(t) = F + mg - b \\dot x(t) - K x^3(t)$$"
   ]
  },
  {
   "cell_type": "markdown",
   "id": "98032c27",
   "metadata": {},
   "source": [
    "Podemos escribir las ecuaciones de estado, suponiendo los estados son $\\dot x = x_1$ y $x = x_2$. Entonces resultan:\n",
    "\n",
    "$$\n",
    "  \\left\\{\n",
    "    \\begin{array}{ll}\n",
    "      \\dot x_1(t) =  & -\\dfrac{b}{m} x_1(t) - \\dfrac{K} {m} x_2^3(t) +\\dfrac{F(t)}{m} + g\\\\\n",
    "      \\dot x_2(t) =  & x_1(t)\n",
    "    \\end{array}\n",
    "  \\right.\n",
    "$$"
   ]
  },
  {
   "cell_type": "markdown",
   "id": "2a677520",
   "metadata": {},
   "source": [
    "El objetivo es linealizar el sistema en torno al punto de operación. Vamos a obtener el punto de operación para $F=0$."
   ]
  },
  {
   "cell_type": "markdown",
   "id": "2c4db682",
   "metadata": {},
   "source": [
    "Usaremos para este trabajo `SymPy` para que nos ayude con la matemática simbólica."
   ]
  },
  {
   "cell_type": "markdown",
   "id": "9495ba0a",
   "metadata": {},
   "source": [
    "## SymPy para la linealización\n",
    "\n",
    "Primero importamos el paquete de cálculo simbólico e inicializamos la forma en que este paquete mostrará las formulas en pantalla."
   ]
  },
  {
   "cell_type": "code",
   "execution_count": 1,
   "id": "62f1a846",
   "metadata": {},
   "outputs": [],
   "source": [
    "import sympy as sp\n",
    "sp.init_printing()"
   ]
  },
  {
   "cell_type": "markdown",
   "id": "124b6ff4",
   "metadata": {},
   "source": [
    "Ahora definimos los símbolos que estará presentes en las ecuaciones y luego las ecuaciones usando estos símbolos"
   ]
  },
  {
   "cell_type": "code",
   "execution_count": 2,
   "id": "342de97f",
   "metadata": {},
   "outputs": [],
   "source": [
    "F, m,  g, K, b, x1, x2 = sp.symbols('F, m,  g, K, b, x1, x2')\n",
    "dx1 = -b/m*x1-K/m*x2**3+F/m+g\n",
    "dx2 = x1"
   ]
  },
  {
   "cell_type": "markdown",
   "id": "6ee1b4e2",
   "metadata": {},
   "source": [
    "Ahora vemos como muestra `SymPy` las ecuaciones"
   ]
  },
  {
   "cell_type": "code",
   "execution_count": 3,
   "id": "8a72fa1c",
   "metadata": {},
   "outputs": [
    {
     "data": {
      "image/png": "[encoded data removed]",
      "text/latex": [
       "$\\displaystyle \\frac{F}{m} - \\frac{K x_{2}^{3}}{m} - \\frac{b x_{1}}{m} + g$"
      ],
      "text/plain": [
       "        3           \n",
       "F   K⋅x₂    b⋅x₁    \n",
       "─ - ───── - ──── + g\n",
       "m     m      m      "
      ]
     },
     "execution_count": 3,
     "metadata": {
      "filenames": {
       "image/png": "/home/runner/work/control-ceaten-2021-ebook/control-ceaten-2021-ebook/ceaten_2021/_build/jupyter_execute/doc/modulo1/ejemplos_sistemas/resorte_no_lineal_12_0.png"
      }
     },
     "output_type": "execute_result"
    }
   ],
   "source": [
    "dx1"
   ]
  },
  {
   "cell_type": "code",
   "execution_count": 4,
   "id": "e53a0ba9",
   "metadata": {},
   "outputs": [],
   "source": [
    "ec_est=sp.Matrix([dx1,dx2])\n",
    "x=sp.Matrix([x1,x2])\n",
    "u = sp.Matrix([F])"
   ]
  },
  {
   "cell_type": "markdown",
   "id": "9811e276",
   "metadata": {},
   "source": [
    "Recordando un poco lo visto en teoría, podemos resolver la linealización rápidamente obteniendo el Jacobiano de las ecuaciones de estado."
   ]
  },
  {
   "cell_type": "code",
   "execution_count": 5,
   "id": "7fcb7d2d",
   "metadata": {},
   "outputs": [],
   "source": [
    "A = ec_est.jacobian(x)\n",
    "B = ec_est.jacobian(u)"
   ]
  },
  {
   "cell_type": "markdown",
   "id": "af9c3d73",
   "metadata": {},
   "source": [
    "Veamos el resultado:"
   ]
  },
  {
   "cell_type": "code",
   "execution_count": 6,
   "id": "3685c73d",
   "metadata": {},
   "outputs": [
    {
     "data": {
      "text/latex": [
       "$\\displaystyle \\left[\\begin{matrix}- \\frac{b}{m} & - \\frac{3 K x_{2}^{2}}{m}\\\\1 & 0\\end{matrix}\\right]$"
      ],
      "text/plain": [
       "⎡            2 ⎤\n",
       "⎢-b   -3⋅K⋅x₂  ⎥\n",
       "⎢───  ─────────⎥\n",
       "⎢ m       m    ⎥\n",
       "⎢              ⎥\n",
       "⎣ 1       0    ⎦"
      ]
     },
     "execution_count": 6,
     "metadata": {},
     "output_type": "execute_result"
    }
   ],
   "source": [
    "A"
   ]
  },
  {
   "cell_type": "code",
   "execution_count": 7,
   "id": "239f8451",
   "metadata": {},
   "outputs": [
    {
     "data": {
      "text/latex": [
       "$\\displaystyle \\left[\\begin{matrix}\\frac{1}{m}\\\\0\\end{matrix}\\right]$"
      ],
      "text/plain": [
       "⎡1⎤\n",
       "⎢─⎥\n",
       "⎢m⎥\n",
       "⎢ ⎥\n",
       "⎣0⎦"
      ]
     },
     "execution_count": 7,
     "metadata": {},
     "output_type": "execute_result"
    }
   ],
   "source": [
    "B"
   ]
  },
  {
   "cell_type": "markdown",
   "id": "1dcb8c25",
   "metadata": {},
   "source": [
    "El punto de equilibrio de un sistema es donde el sistema está quieto o permanece si variar nada. Para obtener el punto de equilibrio, por lo tanto tenemos que hacer que las variables de estados $x_1$ y$ x_2$ permanezcan constantes. Esto ocurre cuando todas las derivadas $\\dot x_1$ y $\\dot x_2$ son igual a 0 (el sistema esta quieto). Vamos a considerar en un primer momento $F=0$."
   ]
  },
  {
   "cell_type": "code",
   "execution_count": 8,
   "id": "8cc4c06f",
   "metadata": {},
   "outputs": [
    {
     "data": {
      "image/png": "[encoded data removed]",
      "text/latex": [
       "$\\displaystyle \\left[ \\left\\{ x_{1} : 0, \\  x_{2} : \\sqrt[3]{\\frac{g m}{K}}\\right\\}, \\  \\left\\{ x_{1} : 0, \\  x_{2} : - \\frac{\\sqrt[3]{\\frac{g m}{K}}}{2} - \\frac{\\sqrt{3} i \\sqrt[3]{\\frac{g m}{K}}}{2}\\right\\}, \\  \\left\\{ x_{1} : 0, \\  x_{2} : - \\frac{\\sqrt[3]{\\frac{g m}{K}}}{2} + \\frac{\\sqrt{3} i \\sqrt[3]{\\frac{g m}{K}}}{2}\\right\\}\\right]$"
      ],
      "text/plain": [
       "⎡                        ⎧                 _____            _____⎫  ⎧         \n",
       "⎢                        ⎪                ╱ g⋅m            ╱ g⋅m ⎪  ⎪         \n",
       "⎢⎧               _____⎫  ⎪             3 ╱  ───    √3⋅ⅈ⋅3 ╱  ─── ⎪  ⎪         \n",
       "⎢⎪              ╱ g⋅m ⎪  ⎨             ╲╱    K          ╲╱    K  ⎬  ⎨         \n",
       "⎢⎨x₁: 0, x₂: 3 ╱  ─── ⎬, ⎪x₁: 0, x₂: - ───────── - ──────────────⎪, ⎪x₁: 0, x₂\n",
       "⎢⎪           ╲╱    K  ⎪  ⎪                 2             2       ⎪  ⎪         \n",
       "⎣⎩                    ⎭  ⎩                                       ⎭  ⎩         \n",
       "\n",
       "        _____            _____⎫⎤\n",
       "       ╱ g⋅m            ╱ g⋅m ⎪⎥\n",
       "    3 ╱  ───    √3⋅ⅈ⋅3 ╱  ─── ⎪⎥\n",
       "    ╲╱    K          ╲╱    K  ⎬⎥\n",
       ": - ───────── + ──────────────⎪⎥\n",
       "        2             2       ⎪⎥\n",
       "                              ⎭⎦"
      ]
     },
     "execution_count": 8,
     "metadata": {
      "filenames": {
       "image/png": "/home/runner/work/control-ceaten-2021-ebook/control-ceaten-2021-ebook/ceaten_2021/_build/jupyter_execute/doc/modulo1/ejemplos_sistemas/resorte_no_lineal_20_0.png"
      }
     },
     "output_type": "execute_result"
    }
   ],
   "source": [
    "ec_est_f0 = ec_est.subs([(F,0)]) # substituímos F con 0\n",
    "sol0 = sp.solve(ec_est_f0,(x1,x2), dict=True) # resolvemos X1, y x2\n",
    "sol0"
   ]
  },
  {
   "cell_type": "markdown",
   "id": "3815cd6d",
   "metadata": {},
   "source": [
    "Me quedo solo con la solución real, por ser la única con sentido físico"
   ]
  },
  {
   "cell_type": "code",
   "execution_count": 9,
   "id": "8de31bd3",
   "metadata": {},
   "outputs": [
    {
     "data": {
      "image/png": "[encoded data removed]",
      "text/latex": [
       "$\\displaystyle \\left\\{ x_{1} : 0, \\  x_{2} : \\sqrt[3]{\\frac{g m}{K}}\\right\\}$"
      ],
      "text/plain": [
       "⎧               _____⎫\n",
       "⎪              ╱ g⋅m ⎪\n",
       "⎨x₁: 0, x₂: 3 ╱  ─── ⎬\n",
       "⎪           ╲╱    K  ⎪\n",
       "⎩                    ⎭"
      ]
     },
     "execution_count": 9,
     "metadata": {
      "filenames": {
       "image/png": "/home/runner/work/control-ceaten-2021-ebook/control-ceaten-2021-ebook/ceaten_2021/_build/jupyter_execute/doc/modulo1/ejemplos_sistemas/resorte_no_lineal_22_0.png"
      }
     },
     "output_type": "execute_result"
    }
   ],
   "source": [
    "sol0 = sol0[0]\n",
    "sol0"
   ]
  },
  {
   "cell_type": "code",
   "execution_count": 10,
   "id": "3fcc90e0",
   "metadata": {},
   "outputs": [
    {
     "data": {
      "text/latex": [
       "$\\displaystyle \\left[\\begin{matrix}\\frac{1}{m}\\\\0\\end{matrix}\\right]$"
      ],
      "text/plain": [
       "⎡1⎤\n",
       "⎢─⎥\n",
       "⎢m⎥\n",
       "⎢ ⎥\n",
       "⎣0⎦"
      ]
     },
     "execution_count": 10,
     "metadata": {},
     "output_type": "execute_result"
    }
   ],
   "source": [
    "A.subs(sol0)\n",
    "B.subs(sol0)"
   ]
  },
  {
   "cell_type": "markdown",
   "id": "dc3a3b63",
   "metadata": {},
   "source": [
    "Podemos resolver también ahora si ponemos una $F=1$"
   ]
  },
  {
   "cell_type": "code",
   "execution_count": 11,
   "id": "cdd74c8a",
   "metadata": {
    "tags": []
   },
   "outputs": [
    {
     "data": {
      "image/png": "[encoded data removed]",
      "text/latex": [
       "$\\displaystyle \\left[ \\left\\{ x_{1} : 0, \\  x_{2} : \\sqrt[3]{\\frac{g m}{K} + \\frac{1}{K}}\\right\\}, \\  \\left\\{ x_{1} : 0, \\  x_{2} : - \\frac{\\sqrt[3]{\\frac{g m}{K} + \\frac{1}{K}}}{2} - \\frac{\\sqrt{3} i \\sqrt[3]{\\frac{g m}{K} + \\frac{1}{K}}}{2}\\right\\}, \\  \\left\\{ x_{1} : 0, \\  x_{2} : - \\frac{\\sqrt[3]{\\frac{g m}{K} + \\frac{1}{K}}}{2} + \\frac{\\sqrt{3} i \\sqrt[3]{\\frac{g m}{K} + \\frac{1}{K}}}{2}\\right\\}\\right]$"
      ],
      "text/plain": [
       "⎡                            ⎧                 _________            _________⎫\n",
       "⎢                            ⎪                ╱ g⋅m   1            ╱ g⋅m   1 ⎪\n",
       "⎢⎧               _________⎫  ⎪             3 ╱  ─── + ─    √3⋅ⅈ⋅3 ╱  ─── + ─ ⎪\n",
       "⎢⎪              ╱ g⋅m   1 ⎪  ⎨             ╲╱    K    K         ╲╱    K    K ⎬\n",
       "⎢⎨x₁: 0, x₂: 3 ╱  ─── + ─ ⎬, ⎪x₁: 0, x₂: - ───────────── - ──────────────────⎪\n",
       "⎢⎪           ╲╱    K    K ⎪  ⎪                   2                 2         ⎪\n",
       "⎣⎩                        ⎭  ⎩                                               ⎭\n",
       "\n",
       "  ⎧                 _________            _________⎫⎤\n",
       "  ⎪                ╱ g⋅m   1            ╱ g⋅m   1 ⎪⎥\n",
       "  ⎪             3 ╱  ─── + ─    √3⋅ⅈ⋅3 ╱  ─── + ─ ⎪⎥\n",
       "  ⎨             ╲╱    K    K         ╲╱    K    K ⎬⎥\n",
       ", ⎪x₁: 0, x₂: - ───────────── + ──────────────────⎪⎥\n",
       "  ⎪                   2                 2         ⎪⎥\n",
       "  ⎩                                               ⎭⎦"
      ]
     },
     "execution_count": 11,
     "metadata": {
      "filenames": {
       "image/png": "/home/runner/work/control-ceaten-2021-ebook/control-ceaten-2021-ebook/ceaten_2021/_build/jupyter_execute/doc/modulo1/ejemplos_sistemas/resorte_no_lineal_25_0.png"
      }
     },
     "output_type": "execute_result"
    }
   ],
   "source": [
    "ec_est_f1 = ec_est.subs([(F,1)]) \n",
    "sol1 = sp.solve(ec_est_f1,(x1,x2),dict=True)\n",
    "sol1"
   ]
  },
  {
   "cell_type": "markdown",
   "id": "29e0c317",
   "metadata": {},
   "source": [
    "Me quedo con la única solución real posible que es la primera (recodar que python indexa de 0)."
   ]
  },
  {
   "cell_type": "code",
   "execution_count": 12,
   "id": "0af9c38a",
   "metadata": {},
   "outputs": [
    {
     "data": {
      "text/latex": [
       "$\\displaystyle \\left( \\left[\\begin{matrix}- \\frac{b}{m} & - \\frac{3 K \\left(\\frac{g m}{K} + \\frac{1}{K}\\right)^{\\frac{2}{3}}}{m}\\\\1 & 0\\end{matrix}\\right], \\  \\left[\\begin{matrix}\\frac{1}{m}\\\\0\\end{matrix}\\right]\\right)$"
      ],
      "text/plain": [
       "⎛⎡                   2/3 ⎤     ⎞\n",
       "⎜⎢          ⎛g⋅m   1⎞    ⎥     ⎟\n",
       "⎜⎢     -3⋅K⋅⎜─── + ─⎟    ⎥  ⎡1⎤⎟\n",
       "⎜⎢-b        ⎝ K    K⎠    ⎥  ⎢─⎥⎟\n",
       "⎜⎢───  ──────────────────⎥, ⎢m⎥⎟\n",
       "⎜⎢ m           m         ⎥  ⎢ ⎥⎟\n",
       "⎜⎢                       ⎥  ⎣0⎦⎟\n",
       "⎝⎣ 1           0         ⎦     ⎠"
      ]
     },
     "execution_count": 12,
     "metadata": {},
     "output_type": "execute_result"
    }
   ],
   "source": [
    "sol1 = sol1[0]\n",
    "A.subs(sol1), B.subs(sol1) "
   ]
  },
  {
   "cell_type": "markdown",
   "id": "cea4f365",
   "metadata": {},
   "source": [
    "Vemos que esta es una matriz que posee símbolos. Para poder usarla con el paquete de control, debemos pasarla a una matriz puramente numérica. esto lo haremos substituyendo los símbolos por valores"
   ]
  },
  {
   "cell_type": "code",
   "execution_count": 13,
   "id": "11e482f0",
   "metadata": {},
   "outputs": [],
   "source": [
    "An=A.subs(sol1).subs([(b,1),(K,2),(m,3),(g,9.8)])\n",
    "Bn=B.subs(sol1).subs([(b,1),(K,2),(m,3),(g,9.8)])"
   ]
  },
  {
   "cell_type": "markdown",
   "id": "35a43852",
   "metadata": {},
   "source": [
    "Ahora veamos los resultados"
   ]
  },
  {
   "cell_type": "code",
   "execution_count": 14,
   "id": "6bdd09e2",
   "metadata": {},
   "outputs": [
    {
     "data": {
      "text/latex": [
       "$\\displaystyle \\left[\\begin{matrix}- \\frac{1}{3} & -12.2722931550313\\\\1 & 0\\end{matrix}\\right]$"
      ],
      "text/plain": [
       "⎡-1/3  -12.2722931550313⎤\n",
       "⎢                       ⎥\n",
       "⎣ 1            0        ⎦"
      ]
     },
     "execution_count": 14,
     "metadata": {},
     "output_type": "execute_result"
    }
   ],
   "source": [
    "An"
   ]
  },
  {
   "cell_type": "code",
   "execution_count": 15,
   "id": "48160a48",
   "metadata": {},
   "outputs": [
    {
     "data": {
      "text/latex": [
       "$\\displaystyle \\left[\\begin{matrix}\\frac{1}{3}\\\\0\\end{matrix}\\right]$"
      ],
      "text/plain": [
       "⎡1/3⎤\n",
       "⎢   ⎥\n",
       "⎣ 0 ⎦"
      ]
     },
     "execution_count": 15,
     "metadata": {},
     "output_type": "execute_result"
    }
   ],
   "source": [
    "Bn"
   ]
  },
  {
   "cell_type": "markdown",
   "id": "bbc7fdd8",
   "metadata": {},
   "source": [
    "Analicemos un poco que son Bn y An"
   ]
  },
  {
   "cell_type": "code",
   "execution_count": 16,
   "id": "7e9baef5",
   "metadata": {},
   "outputs": [
    {
     "data": {
      "text/plain": [
       "sympy.matrices.dense.MutableDenseMatrix"
      ]
     },
     "execution_count": 16,
     "metadata": {},
     "output_type": "execute_result"
    }
   ],
   "source": [
    "type(An)"
   ]
  },
  {
   "cell_type": "markdown",
   "id": "befdede8",
   "metadata": {},
   "source": [
    "Esto nos dice que es un objeto de tipo simbólico. Para poder usarlo aún debemos pasarlo a un tipo numérico."
   ]
  },
  {
   "cell_type": "markdown",
   "id": "29a66368",
   "metadata": {},
   "source": [
    "## Utilización numérica de los resultados simbólicos"
   ]
  },
  {
   "cell_type": "code",
   "execution_count": 17,
   "id": "434d1910",
   "metadata": {
    "tags": [
     "hide-input"
    ]
   },
   "outputs": [],
   "source": [
    "import numpy as np\n",
    "import control as ctrl\n",
    "import matplotlib.pyplot as plt\n",
    "# descomentar la siguiente linea para ver la imagen e una ventana emergente\n",
    "# %matplotlib qt5"
   ]
  },
  {
   "cell_type": "code",
   "execution_count": 18,
   "id": "51b6b080",
   "metadata": {},
   "outputs": [],
   "source": [
    "A1 = np.float64(An)\n",
    "B1 = np.float64(Bn)"
   ]
  },
  {
   "cell_type": "markdown",
   "id": "d37878ba",
   "metadata": {},
   "source": [
    "Chequeemos ahora el tipo de datos de la matriz A1:"
   ]
  },
  {
   "cell_type": "code",
   "execution_count": 19,
   "id": "60bcd644",
   "metadata": {},
   "outputs": [
    {
     "data": {
      "text/plain": [
       "numpy.ndarray"
      ]
     },
     "execution_count": 19,
     "metadata": {},
     "output_type": "execute_result"
    }
   ],
   "source": [
    "type(A1)"
   ]
  },
  {
   "cell_type": "markdown",
   "id": "e4f6f895",
   "metadata": {},
   "source": [
    "Vemos que ahora es de tipo `ndarray` de numpy, que es software de algebra numérico  (no simbólico). Este tipo de datos es aceptado por el paquete de control, por lo que podemos usar las matrices A1 y B1 para definir nuestro sistema en espacio de estados."
   ]
  },
  {
   "cell_type": "code",
   "execution_count": 20,
   "id": "1663ce13",
   "metadata": {},
   "outputs": [],
   "source": [
    "sys = ctrl.ss(A1,B1,[0,1],0)"
   ]
  },
  {
   "cell_type": "markdown",
   "id": "67b4044d",
   "metadata": {},
   "source": [
    "Con este modelo podemos fácilmente simular la respuesta al escalón"
   ]
  },
  {
   "cell_type": "code",
   "execution_count": 21,
   "id": "c7d3146c",
   "metadata": {},
   "outputs": [],
   "source": [
    "t,y = ctrl.step_response(sys, T=np.linspace(0,40,1000))"
   ]
  },
  {
   "cell_type": "markdown",
   "id": "9d7e6d02",
   "metadata": {},
   "source": [
    "Ahora utilizaremos lo visto en el cuaderno de figuras"
   ]
  },
  {
   "cell_type": "code",
   "execution_count": 22,
   "id": "f57d34a0",
   "metadata": {
    "tags": [
     "hide-input"
    ]
   },
   "outputs": [],
   "source": [
    "fig = plt.figure(figsize=(10, 4))\n",
    "ax = fig.add_axes([0.1, 0.1, 0.8, 0.8])\n",
    "ax.plot(t,y)\n",
    "ax.set_title('Respuesta al escalón')\n",
    "ax.set_xlabel('Tiempo [s]')\n",
    "ax.set_ylabel('Posición $x$');\n",
    "ax.grid()"
   ]
  },
  {
   "cell_type": "markdown",
   "id": "494373b6",
   "metadata": {},
   "source": [
    "## Simulación No-Lineal"
   ]
  },
  {
   "cell_type": "markdown",
   "id": "7eb8d60d",
   "metadata": {},
   "source": [
    "Primero debemos definir el sistema no lineal en una función para que después podamos integrarlo con los métodos de integración del paquete scipy (otro paquete más de Python)."
   ]
  },
  {
   "cell_type": "code",
   "execution_count": 23,
   "id": "c759f6bf",
   "metadata": {},
   "outputs": [],
   "source": [
    "def resorte_no_lineal(t, x, b=1, m=3, K=2, g=9.8, step_amp=1):\n",
    "    F=1+step_amp # Hacemos la entrada igual a 2 ya que al sistema lineal le aplicamos \n",
    "                 # un escalón unitario sobre el punto de trabajo que era F=1\n",
    "    x1,x2 = x\n",
    "    dx1 = -b/m*x1-K/m*x2**3+F/m+g\n",
    "    dx2 = x1\n",
    "    return dx1, dx2"
   ]
  },
  {
   "cell_type": "markdown",
   "id": "e7e6b638",
   "metadata": {},
   "source": [
    "Para comenzar necesitamos también los valores numéricos de las condiciones iniciales"
   ]
  },
  {
   "cell_type": "code",
   "execution_count": 24,
   "id": "773de566",
   "metadata": {},
   "outputs": [
    {
     "data": {
      "image/png": "[encoded data removed]",
      "text/latex": [
       "$\\displaystyle \\left( 0.0, \\  2.4771246592603418\\right)$"
      ],
      "text/plain": [
       "(0.0, 2.4771246592603418)"
      ]
     },
     "execution_count": 24,
     "metadata": {
      "filenames": {
       "image/png": "/home/runner/work/control-ceaten-2021-ebook/control-ceaten-2021-ebook/ceaten_2021/_build/jupyter_execute/doc/modulo1/ejemplos_sistemas/resorte_no_lineal_51_0.png"
      }
     },
     "output_type": "execute_result"
    }
   ],
   "source": [
    "x0 = np.float64(sol1[x1].subs([(b,1),(K,2),(m,3),(g,9.8)])), np.float64(sol1[x2].subs([(b,1),(K,2),(m,3),(g,9.8)]))\n",
    "x0"
   ]
  },
  {
   "cell_type": "code",
   "execution_count": 25,
   "id": "8b18a260",
   "metadata": {},
   "outputs": [],
   "source": [
    "import scipy.integrate as integ\n",
    "tspan = (0, 40)\n",
    "t1= np.linspace(*tspan, 1000)\n",
    "\n",
    "def simulate():\n",
    "    r = integ.solve_ivp(resorte_no_lineal, tspan, x0, t_eval=t1)\n",
    "    return r.y\n",
    "\n",
    "x1,x2 = simulate()"
   ]
  },
  {
   "cell_type": "markdown",
   "id": "561d1baa",
   "metadata": {},
   "source": [
    "Ahora veamos los resultados de la simulación del sistema no lineal"
   ]
  },
  {
   "cell_type": "code",
   "execution_count": 26,
   "id": "aaa2447e",
   "metadata": {
    "tags": [
     "hide-input"
    ]
   },
   "outputs": [],
   "source": [
    "fig = plt.figure(figsize=(10, 4))\n",
    "ax = fig.add_axes([0.1, 0.1, 0.8, 0.8])\n",
    "ax.plot(t1,x2, label='$x$')\n",
    "ax.set_title('Respuesta al escalón')\n",
    "ax.set_xlabel('Tiempo [s]')\n",
    "ax.set_ylabel('Posición $x$')\n",
    "ax.legend()\n",
    "ax.grid();"
   ]
  },
  {
   "cell_type": "markdown",
   "id": "a34be8bf",
   "metadata": {},
   "source": [
    "Para poder evaluar las diferencias me falta agregarle a la salida del sistema lineal el valor de equilibrio."
   ]
  },
  {
   "cell_type": "code",
   "execution_count": 27,
   "id": "21594179",
   "metadata": {},
   "outputs": [],
   "source": [
    "yc = y+x0[1]"
   ]
  },
  {
   "cell_type": "code",
   "execution_count": 28,
   "id": "1321a13f",
   "metadata": {
    "tags": [
     "hide-input"
    ]
   },
   "outputs": [],
   "source": [
    "fig = plt.figure(figsize=(10, 4))\n",
    "ax = fig.add_axes([0.1, 0.1, 0.8, 0.8])\n",
    "ax.plot(t,yc, label=r'$x$ del sistema linealizado')\n",
    "ax.plot(t1, x2, label=r'$x$ del sistema no lienal', alpha=0.6)\n",
    "ax.set_title('Respuesta al escalón')\n",
    "ax.set_xlabel('Tiempo [s]')\n",
    "ax.set_ylabel('Posición $x$')\n",
    "ax.legend()\n",
    "ax.grid();"
   ]
  },
  {
   "cell_type": "markdown",
   "id": "fe34f877",
   "metadata": {},
   "source": [
    "Podemos ver que la respuesta al escalón del sistema lineal y del sistema no lineal dan bastante parecidos.\n",
    "\n",
    "Dejamos como ejercicio al lector evaluar que sucede si el escalón es más grande (5 o 10 veces más grande)."
   ]
  },
  {
   "cell_type": "code",
   "execution_count": null,
   "id": "0eb2d279",
   "metadata": {},
   "outputs": [],
   "source": []
  }
 ],
 "metadata": {
  "jupytext": {
   "formats": "ipynb,md:myst",
   "text_representation": {
    "extension": ".md",
    "format_name": "myst",
    "format_version": 0.13,
    "jupytext_version": "1.11.0"
   }
  },
  "kernelspec": {
   "display_name": "Python 3",
   "language": "python",
   "name": "python3"
  },
  "language_info": {
   "codemirror_mode": {
    "name": "ipython",
    "version": 3
   },
   "file_extension": ".py",
   "mimetype": "text/x-python",
   "name": "python",
   "nbconvert_exporter": "python",
   "pygments_lexer": "ipython3",
   "version": "3.8.12"
  },
  "source_map": [
   13,
   17,
   21,
   27,
   33,
   46,
   50,
   54,
   60,
   63,
   67,
   71,
   75,
   79,
   83,
   87,
   90,
   94,
   98,
   100,
   104,
   108,
   112,
   117,
   120,
   124,
   130,
   134,
   137,
   141,
   144,
   148,
   152,
   154,
   158,
   160,
   164,
   168,
   178,
   181,
   185,
   187,
   191,
   193,
   197,
   199,
   203,
   213,
   217,
   221,
   229,
   233,
   238,
   248,
   252,
   263,
   267,
   271,
   283,
   289
  ]
 },
 "nbformat": 4,
 "nbformat_minor": 5
}