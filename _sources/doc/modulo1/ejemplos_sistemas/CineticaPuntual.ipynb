{
 "cells": [
  {
   "cell_type": "markdown",
   "id": "72f6c0a8",
   "metadata": {},
   "source": [
    "# Ecuaciones de Cinética Puntual"
   ]
  },
  {
   "cell_type": "markdown",
   "id": "cc60f872",
   "metadata": {},
   "source": [
    "## Ecuaciones de cinética de un reactor nuclear"
   ]
  },
  {
   "cell_type": "markdown",
   "id": "2450ce84",
   "metadata": {},
   "source": [
    "Las ecuaciones de cinética puntual del núcleo de un reactor a un grupo de energía y a un grupo de precursores sin fuente de neutrones son:\n",
    "\n",
    "$$\n",
    "\\begin{eqnarray}\n",
    "\\frac{dn(t)}{dt}&=&\\frac{\\rho(t)-\\beta}{\\Lambda}n(t)+\\lambda c(t)\\\\\n",
    "\\frac{dc(t)}{dt}&=&\\frac{\\beta}{\\Lambda}n(t)-\\lambda c(t)\n",
    "\\end{eqnarray}\n",
    "$$\n",
    "\n",
    "con $n$ el flujo neutrónico normalizado (en realidad es población de neutrones, pero bajo ciertas condiciones se puede considerar proporcional al flujo neutrónico o potencia nuclear), $c$ la concentración de precursores, y $\\rho$ la reactividad introducida en el mismo por las barras de control. Los parámetros del sistema son: $\\Lambda = 1,76e^{-4} s$ (tiempo de reproducción de los neutrones rápidos), $\\lambda = 0,076 1/s$ (constante de decaimiento de los precursores) y $\\beta = 765$pcm (fracción de neutrones retardados que son emitidos por los precursores)."
   ]
  },
  {
   "cell_type": "code",
   "execution_count": 1,
   "id": "b5bf79cd",
   "metadata": {},
   "outputs": [],
   "source": [
    "import sympy as sp\n",
    "sp.init_printing()\n",
    "n, r, b, L, l, c = sp.symbols('n, rho, beta, Lambda, lambda, c')"
   ]
  },
  {
   "cell_type": "markdown",
   "id": "dadf3b3a",
   "metadata": {},
   "source": [
    "Definimos las ecuaciones de estados, es decir, las derivadas de las variables de estados en función de los estados y las entradas."
   ]
  },
  {
   "cell_type": "code",
   "execution_count": 2,
   "id": "4857cd2e",
   "metadata": {},
   "outputs": [
    {
     "data": {
      "image/png": "[encoded data removed]",
      "text/latex": [
       "$\\displaystyle c \\lambda + \\frac{n \\left(- \\beta + \\rho\\right)}{\\Lambda}$"
      ],
      "text/plain": [
       "      n⋅(-β + ρ)\n",
       "c⋅λ + ──────────\n",
       "          Λ     "
      ]
     },
     "execution_count": 2,
     "metadata": {
      "filenames": {
       "image/png": "/home/runner/work/control-ceaten-2021-ebook/control-ceaten-2021-ebook/ceaten_2021/_build/jupyter_execute/doc/modulo1/ejemplos_sistemas/CineticaPuntual_5_0.png"
      }
     },
     "output_type": "execute_result"
    }
   ],
   "source": [
    "dn=(r-b)/L*n+l*c\n",
    "dn"
   ]
  },
  {
   "cell_type": "code",
   "execution_count": 3,
   "id": "568458eb",
   "metadata": {},
   "outputs": [
    {
     "data": {
      "image/png": "[encoded data removed]",
      "text/latex": [
       "$\\displaystyle - c \\lambda + \\frac{\\beta n}{\\Lambda}$"
      ],
      "text/plain": [
       "       β⋅n\n",
       "-c⋅λ + ───\n",
       "        Λ "
      ]
     },
     "execution_count": 3,
     "metadata": {
      "filenames": {
       "image/png": "/home/runner/work/control-ceaten-2021-ebook/control-ceaten-2021-ebook/ceaten_2021/_build/jupyter_execute/doc/modulo1/ejemplos_sistemas/CineticaPuntual_6_0.png"
      }
     },
     "output_type": "execute_result"
    }
   ],
   "source": [
    "dc=b/L*n-l*c\n",
    "dc"
   ]
  },
  {
   "cell_type": "markdown",
   "id": "0293df62",
   "metadata": {},
   "source": [
    "Ahora le decimos a sympy que lo represente en forma matricial:"
   ]
  },
  {
   "cell_type": "code",
   "execution_count": 4,
   "id": "cdbe3298",
   "metadata": {},
   "outputs": [
    {
     "data": {
      "text/latex": [
       "$\\displaystyle \\left[\\begin{matrix}c \\lambda + \\frac{n \\left(- \\beta + \\rho\\right)}{\\Lambda}\\\\- c \\lambda + \\frac{\\beta n}{\\Lambda}\\end{matrix}\\right]$"
      ],
      "text/plain": [
       "⎡      n⋅(-β + ρ)⎤\n",
       "⎢c⋅λ + ──────────⎥\n",
       "⎢          Λ     ⎥\n",
       "⎢                ⎥\n",
       "⎢          β⋅n   ⎥\n",
       "⎢   -c⋅λ + ───   ⎥\n",
       "⎣           Λ    ⎦"
      ]
     },
     "execution_count": 4,
     "metadata": {},
     "output_type": "execute_result"
    }
   ],
   "source": [
    "s=sp.Matrix([dn,dc]) #las ecuaciones de estados\n",
    "s"
   ]
  },
  {
   "cell_type": "code",
   "execution_count": 5,
   "id": "5f69c1d1",
   "metadata": {},
   "outputs": [
    {
     "data": {
      "text/latex": [
       "$\\displaystyle \\left[\\begin{matrix}n\\\\c\\end{matrix}\\right]$"
      ],
      "text/plain": [
       "⎡n⎤\n",
       "⎢ ⎥\n",
       "⎣c⎦"
      ]
     },
     "execution_count": 5,
     "metadata": {},
     "output_type": "execute_result"
    }
   ],
   "source": [
    "x=sp.Matrix([n,c]) #definimos el vector de estados\n",
    "x"
   ]
  },
  {
   "cell_type": "code",
   "execution_count": 6,
   "id": "98cd57a9",
   "metadata": {},
   "outputs": [
    {
     "data": {
      "text/latex": [
       "$\\displaystyle \\left[\\begin{matrix}\\rho\\end{matrix}\\right]$"
      ],
      "text/plain": [
       "[ρ]"
      ]
     },
     "execution_count": 6,
     "metadata": {},
     "output_type": "execute_result"
    }
   ],
   "source": [
    "u=sp.Matrix([r]) #definimos el vector de entradas\n",
    "u"
   ]
  },
  {
   "cell_type": "markdown",
   "id": "2e45b6e8",
   "metadata": {},
   "source": [
    "## Linealización utilizando SymPy"
   ]
  },
  {
   "cell_type": "markdown",
   "id": "c8dab255",
   "metadata": {},
   "source": [
    "Recordando la función Jacobiano, podemos valernos de esta para linealizar el sistema"
   ]
  },
  {
   "cell_type": "code",
   "execution_count": 7,
   "id": "775bdd85",
   "metadata": {},
   "outputs": [],
   "source": [
    "A=s.jacobian(x) # la matriz A del espacio de estados\n",
    "B=s.jacobian(u) #la matriz B del espacio de estados"
   ]
  },
  {
   "cell_type": "code",
   "execution_count": 8,
   "id": "d4f8bd4f",
   "metadata": {},
   "outputs": [
    {
     "data": {
      "text/latex": [
       "$\\displaystyle \\left[\\begin{matrix}\\frac{- \\beta + \\rho}{\\Lambda} & \\lambda\\\\\\frac{\\beta}{\\Lambda} & - \\lambda\\end{matrix}\\right]$"
      ],
      "text/plain": [
       "⎡-β + ρ    ⎤\n",
       "⎢──────  λ ⎥\n",
       "⎢  Λ       ⎥\n",
       "⎢          ⎥\n",
       "⎢  β       ⎥\n",
       "⎢  ─     -λ⎥\n",
       "⎣  Λ       ⎦"
      ]
     },
     "execution_count": 8,
     "metadata": {},
     "output_type": "execute_result"
    }
   ],
   "source": [
    "A"
   ]
  },
  {
   "cell_type": "code",
   "execution_count": 9,
   "id": "1d0b5df5",
   "metadata": {},
   "outputs": [
    {
     "data": {
      "text/latex": [
       "$\\displaystyle \\left[\\begin{matrix}\\frac{n}{\\Lambda}\\\\0\\end{matrix}\\right]$"
      ],
      "text/plain": [
       "⎡n⎤\n",
       "⎢─⎥\n",
       "⎢Λ⎥\n",
       "⎢ ⎥\n",
       "⎣0⎦"
      ]
     },
     "execution_count": 9,
     "metadata": {},
     "output_type": "execute_result"
    }
   ],
   "source": [
    "B"
   ]
  },
  {
   "cell_type": "markdown",
   "id": "b3fa6f19",
   "metadata": {},
   "source": [
    "Finalmente evaluamos las matrices A y B en los valores de los parámetros que tenemos dados."
   ]
  },
  {
   "cell_type": "code",
   "execution_count": 10,
   "id": "cc3d94d9",
   "metadata": {},
   "outputs": [
    {
     "data": {
      "text/latex": [
       "$\\displaystyle \\left[\\begin{matrix}5681.81818181818 \\rho - 43.4659090909091 & 0.076\\\\43.4659090909091 & -0.076\\end{matrix}\\right]$"
      ],
      "text/plain": [
       "⎡5681.81818181818⋅ρ - 43.4659090909091  0.076 ⎤\n",
       "⎢                                             ⎥\n",
       "⎣          43.4659090909091             -0.076⎦"
      ]
     },
     "execution_count": 10,
     "metadata": {},
     "output_type": "execute_result"
    }
   ],
   "source": [
    "A.subs([(l, 0.076), (b,765e-5),(L,1.76e-4)])"
   ]
  },
  {
   "cell_type": "code",
   "execution_count": 11,
   "id": "6653b114",
   "metadata": {},
   "outputs": [
    {
     "data": {
      "text/latex": [
       "$\\displaystyle \\left[\\begin{matrix}5681.81818181818 n\\\\0\\end{matrix}\\right]$"
      ],
      "text/plain": [
       "⎡5681.81818181818⋅n⎤\n",
       "⎢                  ⎥\n",
       "⎣        0         ⎦"
      ]
     },
     "execution_count": 11,
     "metadata": {},
     "output_type": "execute_result"
    }
   ],
   "source": [
    "B.subs([(l, 0.076), (B,765e-5),(L,1.76e-4)])"
   ]
  },
  {
   "cell_type": "markdown",
   "id": "15297b71",
   "metadata": {},
   "source": [
    "Para obtener el punto de equilibrio, suponemos que trabajaremos alrededor de $n=1$, y lo que se hace es igualar a cero las ecuaciones de la derivada."
   ]
  },
  {
   "cell_type": "code",
   "execution_count": 12,
   "id": "70a6bfa6",
   "metadata": {},
   "outputs": [],
   "source": [
    "s2=s.subs([(l, 0.076), (b,765e-5),(L,1.76e-4),(n,1)])\n",
    "sol0=sp.solve(s2,(c,r))"
   ]
  },
  {
   "cell_type": "code",
   "execution_count": 13,
   "id": "cc063ad9",
   "metadata": {},
   "outputs": [],
   "source": [
    "c0=sol0[c]\n",
    "r0=sol0[r]"
   ]
  },
  {
   "cell_type": "code",
   "execution_count": 14,
   "id": "f0a9711f",
   "metadata": {},
   "outputs": [],
   "source": [
    "An=A.subs([(l, 0.076), (b,765e-5),(L,1.76e-4),(n,1),(r,r0),(c,c0)])\n",
    "Bn=B.subs([(l, 0.076), (b,765e-5),(L,1.76e-4),(n,1),(r,r0),(c,c0)])"
   ]
  },
  {
   "cell_type": "markdown",
   "id": "21bce5e8",
   "metadata": {},
   "source": [
    "## Simulación numérica"
   ]
  },
  {
   "cell_type": "code",
   "execution_count": 15,
   "id": "f8da5d63",
   "metadata": {},
   "outputs": [],
   "source": [
    "from scipy.integrate import solve_ivp\n",
    "import matplotlib.pyplot as plt\n",
    "# %matplotlib qt5  # descomentar para ver las figuras en ventanas emergentes"
   ]
  },
  {
   "cell_type": "code",
   "execution_count": 16,
   "id": "c87cf58e",
   "metadata": {},
   "outputs": [],
   "source": [
    "l=0.076\n",
    "b=765e-5\n",
    "L=1.76e-4\n",
    "n0=1"
   ]
  },
  {
   "cell_type": "code",
   "execution_count": 17,
   "id": "81f9fa08",
   "metadata": {},
   "outputs": [],
   "source": [
    "def dx(t,x):\n",
    "    n=x[0]\n",
    "    c=x[1]\n",
    "    r= r0 if t<0 else r0 -10e-5 #1000pcm para poner un valor\n",
    "    dn=(r-b)/L*n+l*c\n",
    "    dc=b/L*n-l*c\n",
    "    return ([dn,dc])"
   ]
  },
  {
   "cell_type": "code",
   "execution_count": 18,
   "id": "13e186a8",
   "metadata": {},
   "outputs": [],
   "source": [
    "sol = solve_ivp(dx, (0,7), (n0,c0), method='BDF')\n",
    "t= sol.t\n",
    "n=sol.y[0]\n",
    "c=sol.y[1]"
   ]
  },
  {
   "cell_type": "markdown",
   "id": "86577e90",
   "metadata": {},
   "source": [
    "La simulación dinámica del sistema lineal la podemos hacer usando directamente el módulo de control."
   ]
  },
  {
   "cell_type": "code",
   "execution_count": 19,
   "id": "8f706948",
   "metadata": {},
   "outputs": [],
   "source": [
    "import control as ctrl\n",
    "import numpy as np"
   ]
  },
  {
   "cell_type": "code",
   "execution_count": 20,
   "id": "9b5cfd9d",
   "metadata": {},
   "outputs": [],
   "source": [
    "Cn=np.eye(2)\n",
    "Dn=np.zeros((2,1))"
   ]
  },
  {
   "cell_type": "code",
   "execution_count": 21,
   "id": "b79625be",
   "metadata": {},
   "outputs": [],
   "source": [
    "sys = ctrl.ss(An,Bn,Cn,Dn)\n",
    "t2,y2 = ctrl.step_response(sys, T=np.linspace(0,7,1001))"
   ]
  },
  {
   "cell_type": "markdown",
   "id": "b0b2d2b7",
   "metadata": {},
   "source": [
    "Entonces ahora podemos visualizar los resultados en las siguientes figuras:"
   ]
  },
  {
   "cell_type": "code",
   "execution_count": 22,
   "id": "a2e3028c",
   "metadata": {
    "tags": [
     "hide-input"
    ]
   },
   "outputs": [],
   "source": [
    "fig = plt.figure(figsize=(10,4))\n",
    "ax = fig.add_axes([0.1, 0.1, 0.8, 0.8])\n",
    "ax.plot(t,n,'r', label='Modelo no lineal')\n",
    "ax.plot(t2,(y2[0,:]*-10e-5+n0).T,'b', alpha=0.6, label='Modelo lineal')\n",
    "ax.grid()\n",
    "ax.legend()\n",
    "ax.set_title('Respuesta al escalón de -10pcm')\n",
    "ax.set_xlabel('Tiempo [s]')\n",
    "ax.set_ylabel('Flujo neutrónico');"
   ]
  },
  {
   "cell_type": "code",
   "execution_count": 23,
   "id": "e01138a3",
   "metadata": {
    "tags": [
     "hide-input"
    ]
   },
   "outputs": [],
   "source": [
    "fig = plt.figure(figsize=(10,4))\n",
    "ax = fig.add_axes([0.1, 0.1, 0.8, 0.8])\n",
    "ax.plot(t,c,'r', label='Modelo no lineal')\n",
    "ax.plot(t2,(y2[1,:]*-10e-5+c0).T,'b', alpha=0.6, label='Modelo lineal')\n",
    "ax.grid()\n",
    "ax.legend()\n",
    "ax.set_title('Respuesta al escalón de -10pcm')\n",
    "ax.set_xlabel('Tiempo [s]')\n",
    "ax.set_ylabel('Concentración de precursores');"
   ]
  },
  {
   "cell_type": "markdown",
   "id": "adff67cf",
   "metadata": {},
   "source": [
    "Vemos que el sistema linealizado es una muy buena aproximación del no lineal. Esto es por que la perturbación de 10pcm es suficientemente chica y el sistema no se aleja demasiado del punto del cual linealizamos."
   ]
  },
  {
   "cell_type": "markdown",
   "id": "48595558",
   "metadata": {},
   "source": [
    "## Probemos aumentado un poco más la reactividad de entrada a 200 pcm"
   ]
  },
  {
   "cell_type": "code",
   "execution_count": 24,
   "id": "f99709cc",
   "metadata": {},
   "outputs": [],
   "source": [
    "def dx(t,x):\n",
    "    n=x[0]\n",
    "    c=x[1]\n",
    "    r= r0 if t<0 else r0 -200e-5 #1000pcm para poner un valor\n",
    "    dn=(r-b)/L*n+l*c\n",
    "    dc=b/L*n-l*c\n",
    "    return ([dn,dc])"
   ]
  },
  {
   "cell_type": "code",
   "execution_count": 25,
   "id": "1ab88ced",
   "metadata": {},
   "outputs": [],
   "source": [
    "sol = solve_ivp(dx, (0,7), (n0,c0), method='BDF')\n",
    "t= sol.t\n",
    "n=sol.y[0]\n",
    "c=sol.y[1]"
   ]
  },
  {
   "cell_type": "markdown",
   "id": "38450918",
   "metadata": {},
   "source": [
    "Y los resultados los vemos en las siguientes gráficas:"
   ]
  },
  {
   "cell_type": "code",
   "execution_count": 26,
   "id": "1a58bd58",
   "metadata": {
    "tags": [
     "hide-input"
    ]
   },
   "outputs": [],
   "source": [
    "fig = plt.figure(figsize=(10,4))\n",
    "ax = fig.add_axes([0.1, 0.1, 0.8, 0.8])\n",
    "ax.plot(t,n,'r', label='Modelo no lineal')\n",
    "ax.plot(t2,(y2[0,:]*-200e-5+n0).T,'b', alpha=0.6, label='Modelo lineal')\n",
    "ax.grid()\n",
    "ax.set_title('Respuesta al escalón de -200pcm')\n",
    "ax.set_xlabel('Tiempo [s]')\n",
    "ax.legend()\n",
    "ax.set_ylabel('Flujo neutrónico');"
   ]
  },
  {
   "cell_type": "code",
   "execution_count": 27,
   "id": "73bf01a9",
   "metadata": {
    "tags": [
     "hide-input"
    ]
   },
   "outputs": [],
   "source": [
    "fig = plt.figure(figsize=(10,4))\n",
    "ax = fig.add_axes([0.1, 0.1, 0.8, 0.8])\n",
    "ax.plot(t,c,'r', label='Modelo no lineal')\n",
    "ax.plot(t2,(y2[1,:]*-200e-5+c0).T,'b', alpha=0.6, label='Modelo lineal')\n",
    "ax.grid()\n",
    "ax.set_title('Respuesta al escalón de -200pcm')\n",
    "ax.set_xlabel('Tiempo [s]')\n",
    "ax.legend()\n",
    "ax.set_ylabel('Concentración de precursores');"
   ]
  },
  {
   "cell_type": "markdown",
   "id": "167bd48b",
   "metadata": {},
   "source": [
    "Vemos como ahora la aproximación es bastante peor a la que teníamos cuando lo perturbamos con 10 pcm."
   ]
  }
 ],
 "metadata": {
  "jupytext": {
   "formats": "ipynb,md:myst",
   "text_representation": {
    "extension": ".md",
    "format_name": "myst",
    "format_version": 0.13,
    "jupytext_version": "1.11.0"
   }
  },
  "kernelspec": {
   "display_name": "Python 3",
   "language": "python",
   "name": "python3"
  },
  "language_info": {
   "codemirror_mode": {
    "name": "ipython",
    "version": 3
   },
   "file_extension": ".py",
   "mimetype": "text/x-python",
   "name": "python",
   "nbconvert_exporter": "python",
   "pygments_lexer": "ipython3",
   "version": "3.8.12"
  },
  "source_map": [
   13,
   17,
   21,
   34,
   38,
   42,
   47,
   50,
   54,
   59,
   64,
   67,
   71,
   75,
   80,
   84,
   86,
   90,
   94,
   96,
   100,
   105,
   110,
   113,
   117,
   123,
   130,
   140,
   145,
   149,
   154,
   159,
   162,
   166,
   180,
   192,
   196,
   200,
   210,
   215,
   219,
   233,
   245
  ]
 },
 "nbformat": 4,
 "nbformat_minor": 5
}