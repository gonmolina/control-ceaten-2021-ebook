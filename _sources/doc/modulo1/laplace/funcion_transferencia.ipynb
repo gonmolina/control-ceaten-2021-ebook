{
 "cells": [
  {
   "cell_type": "markdown",
   "id": "decb5b23",
   "metadata": {},
   "source": [
    "# Función transferencia"
   ]
  },
  {
   "cell_type": "markdown",
   "id": "82d30d79",
   "metadata": {
    "slideshow": {
     "slide_type": "slide"
    }
   },
   "source": [
    "## Modelos de sistemas lineales e invariantes en el tiempo\n",
    "\n",
    "La forma típica de representar un sistema lineal e invariante en el tiempo (LTI) SISO, es mediante el uso de la transformada de Laplace.\n",
    "\n",
    "Sea un sistema con condiciones iniciales nulas, entonces el sistema se puede expresar matemáticamente como:\n",
    "\n",
    "$$\\frac{Y(s)}{U(s)}=H(s)$$\n",
    "\n",
    "donde $Y(s)$ es la transformada de Laplace de la salida $y(t)$ para una entrada arbitraria $u(t)$, cuya transformada de Laplace es $U(s)$. \n",
    "\n",
    "Notar que con esta definición, lo que se transforma al dominio de Laplace son las **señales** de entrada y salida. No es un sistema."
   ]
  },
  {
   "cell_type": "markdown",
   "id": "b3f79af2",
   "metadata": {
    "slideshow": {
     "slide_type": "subslide"
    }
   },
   "source": [
    "### Notas importantes:\n",
    "- Se puede demostrar **que** $H(s)$ **es la respuesta del sistema a una señal de entrada impulso unitario** $\\delta(t)$.\n",
    "- Para sistemas Lineales Invariantes en el Tiempo (LTI), la relación $\\dfrac{Y(s)}{U(s)}$ se mantiene constante para todo $U(s)$."
   ]
  },
  {
   "cell_type": "markdown",
   "id": "a6d0f362",
   "metadata": {
    "slideshow": {
     "slide_type": "slide"
    }
   },
   "source": [
    "### Obtención de la función transferencia de un sistema:\n",
    "\n",
    "La función transferencia de un sistema se puede obtener de varias formas:\n",
    "\n",
    "1. Aplicando la definición, es decir, aplicando $u(t)$ para medir $y(t)$, transformar ambas señales al dominio de Laplace y luego obtener $H(s)=\\dfrac{Y(s)}{U(s)}$. Esto no es práctico.\n",
    "1. Aplicar un impulso $u(t)=\\rho(t)$ y hacer las transformada de Laplace de la respuesta. Es un caso particular del método anterior haciendo que $U(s)=1$.\n",
    "1. A partir de las ecuaciones temporales que dominan la dinámica del sistema se resuelve $\\dfrac{Y(s)}{U(s)}$. Esta es la forma en que por lo general se obtienen las funciones transferencias de los sistemas en forma analítica."
   ]
  },
  {
   "cell_type": "markdown",
   "id": "09ca5f3f",
   "metadata": {
    "slideshow": {
     "slide_type": "slide"
    }
   },
   "source": [
    "### Ejemplo general:\n",
    "En general un sistema dinámico se representa como una ecuación diferencial de orden $n$, Es decir:\n",
    "\n",
    "$$ \\begin{aligned}\n",
    " & a_n\\frac{d^ny(t)}{dt^n}+a_{n-1}\\frac{d^{n-1}y(t)}{dt^{n-1}}+\\cdots+a_{1}\\frac{dy(t)}{dt}+a_0y(t) = \\dots \\\\\n",
    "  &\\dots  b_p\\frac{d^pu(t)}{dt^p}+b_{p-1}\\frac{d^{p-1}u(t)}{dt^{p-1}}+\\cdots+b_{1}\\frac{du(t)}{dt}+b_0u(t)\n",
    "  \\end{aligned}\n",
    " $$\n",
    "\n",
    "Donde $y(t)$ es la salida del sistema y $u(t)$ es la entrada del sistema, haciendo la transformando por Laplace sabiendo que $\\mathcal{L}\\{u(t)\\}=U(s)$ y que $\\mathcal{L}\\{y(t)\\}=Y(s)$, tenemos:\n",
    "\n",
    "$$\n",
    "\\begin{aligned}\n",
    " & a_ns^nY(s)+a_{n-1}s^{n-1}Y(s)+\\cdots+a_1sY(s)+a_0Y(s)+ \\mbox{term. cond. iniciales de y(t)} = \\cdots \\\\\n",
    " \\dots & b_ps^pU(s)+b_{p-1}s^{p-1}U(s)+\\cdots+b_1sU(s)+b_0U(s)+ \\mbox{term. cond. iniciales de u(t)} \n",
    " \\end{aligned}\n",
    "$$\n",
    " \n",
    "\n",
    "si asumimos que las condiciones iniciales para $y(t)$ y $u(t)$ son nulas, se reduce a:\n",
    "\n",
    "$$\n",
    "\\begin{aligned}\n",
    " & a_ns^nY(s)+a_{n-1}s^{n-1}Y(s)+\\cdots+a_1sY(s)+a_0Y(s) = \\cdots \\\\ \n",
    "\\cdots & b_ps^nU(s)+b_{p-1}s^{p-1}U(s)+\\cdots+b_1sU(s)+b_0U(s)\n",
    "\\end{aligned}\n",
    "$$\n",
    "\n",
    "Despejando podemos obtener:\n",
    "\n",
    "$$H(s)=\\frac{Y(s)}{U(s)}=\\frac{b_ps^p+b_{p-1}s^{p-1}+\\cdots+b_1s+b_0}{a_ns^n+a_{n-1}s^{n-1}+\\cdots+a_1s+a_0}$$"
   ]
  },
  {
   "cell_type": "markdown",
   "id": "9e125bda",
   "metadata": {},
   "source": [
    "### Importante\n",
    "\n",
    "En general los sistemas dinámicos en el dominio temporal se describen matemáticamente a partir de ecuaciones diferenciales. \n",
    "Es importante notar, que en el dominio transformado de Laplace estas ecuaciones diferenciales se transforman en ecuaciones algebraicas, resultando en un tratamiento matemático más sencillo."
   ]
  },
  {
   "cell_type": "markdown",
   "id": "121602ca",
   "metadata": {},
   "source": [
    "## Ejemplo #1: Sistema electromecánico (motor eléctrico)\n",
    "\n",
    "### Desarrollo\n",
    "\n",
    "Supongamos CI nulas, es decir $i_a(t=0)=0$ y $(\\theta_m(t=0)=0)$ entonces de las ecuaciones del motor obtenidas en ejemplos anteriores y aplicando la transformada de Laplace, tenemos:\n",
    "\n",
    "$$ \n",
    "\\left\\{\\begin{array}{c}\n",
    "s~I_a(s) = \\frac{1}{L_a} E_a(s) -\\frac{ R_a}{L_a} I_a(s) -  \\frac{K_b}{L_a} s~\\Theta_m(s)  \\\\\n",
    "s^2~\\Theta_m(s) =   \\frac{K_t}{J_m} I_a(s) - \\frac{D_m}{J_m}s~\\Theta_m(s) - \\frac{1}{J_m} T_r(s)\n",
    "\\end{array}\\right.\n",
    "$$"
   ]
  },
  {
   "cell_type": "markdown",
   "id": "05b6c446",
   "metadata": {},
   "source": [
    "agrupando las variables y despejando de la segunda ecuación la corriente $I_a(s)$:\n",
    "\n",
    "$$ \n",
    "\\begin{aligned}\n",
    "\\left(s+ \\frac{ R_a}{L_a}\\right)I_a(s) &= \\frac{1}{L_a} E_a(s) - \\frac{K_b}{L_a} s~\\Theta_m(s)  \\\\\n",
    " I_a(s) &= \\frac{J_m}{K_t}\\left(s^2+ \\frac{D_m}{J_m}s\\right)~\\Theta_m(s) + \\frac{1}{K_t} T_r(s)\n",
    "\\end{aligned}\n",
    "$$"
   ]
  },
  {
   "cell_type": "markdown",
   "id": "228f61b7",
   "metadata": {},
   "source": [
    "Este sistema tiene 2 entradas, la entrada que podemos controlar $E_a(s)$ y la entrada de perturbación $T_r(s)$, por ser un sistema LTI podemos hallar las FTs de la siguiente forma:\n",
    "\n",
    "$$ \n",
    "\\left(s+ \\frac{ R_a}{L_a}\\right)\\frac{J_m}{K_t}\\left(s^2+ \\frac{D_m}{J_m}s\\right)\\Theta_m(s) + \\left(s+ \\frac{ R_a}{L_a}\\right)\\frac{1}{K_t} T_r(s) = \\frac{1}{L_a} E_a(s) - \\frac{K_b}{L_a} s\\Theta_m(s) \n",
    "$$\n",
    "\n",
    "luego,\n",
    "\n",
    "$$ \n",
    "\\left(\\left(s+ \\frac{ R_a}{L_a}\\right)~\\frac{J_m}{K_t}\\left(s^2+ \\frac{D_m}{J_m}s\\right)+\\frac{K_b}{L_a} s\\right)\\Theta_m(s)  = \\frac{1}{L_a} E_a(s) - \\left(s+ \\frac{ R_a}{L_a}\\right)\\frac{1}{K_t} T_r(s)\n",
    "$$"
   ]
  },
  {
   "cell_type": "markdown",
   "id": "87431eab",
   "metadata": {},
   "source": [
    "luego considerando $T_r=0$, hallamos la FT desde la entrada $E_a$ a la salida $\\Theta_m$:\n",
    "\n",
    "$$ \n",
    "\\frac{\\Theta_m(s)} {E_a(s)}  = \\frac{\\frac{1}{L_a}}{\\left(s+ \\frac{ R_a}{L_a}\\right)\\frac{J_m}{K_t}\\left(s^2+ \\frac{D_m}{J_m}s\\right)+\\frac{K_b}{L_a} s}  \n",
    "$$\n",
    "\n",
    "finalmente si consideramos que $E_a=0$, hallamos la FT desde la entrada de perturbación $T_r$ a la salida $\\Theta_m$:\n",
    "\n",
    "$$\n",
    "\\frac{\\Theta_m(s)} {T_r(s)}  =- \\frac{\\left(s+ \\frac{ R_a}{L_a}\\right)\\frac{1}{K_t} }{\\left(s+ \\frac{ R_a}{L_a}\\right)\\frac{J_m}{K_t}\\left(s^2+ \\frac{D_m}{J_m}s\\right)+\\frac{K_b}{L_a} s}\n",
    "$$"
   ]
  },
  {
   "cell_type": "markdown",
   "id": "d77f37fa",
   "metadata": {
    "slideshow": {
     "slide_type": "slide"
    }
   },
   "source": [
    "## Ejemplo #2: masa resorte\n",
    "\n",
    "### Resolución de las ecuaciones\n",
    "#### Ejemplo sistema mecánico\n",
    "<img style=\"display:block; margin-left: auto; margin-right: auto;\" src=\"ejemplo_sis_mec.png\" width=\"300\" alt=\"Ejemplo sistema mecánico\">"
   ]
  },
  {
   "cell_type": "markdown",
   "id": "ffdbeac1",
   "metadata": {
    "slideshow": {
     "slide_type": "subslide"
    }
   },
   "source": [
    "Las ecuaciones que dominan este sistema son:\n",
    "\n",
    "$$\n",
    "\\begin{eqnarray}\n",
    "F(t)-bv(t)-kx(t)&= Ma(t)\\\\\n",
    "F(t)-b\\dot{x}(t)-kx(t)&=M\\ddot{x}(t)\\\\\n",
    "u(t)&=F(t)\\\\\n",
    "y(t)&=x(t)\n",
    "\\end{eqnarray}\n",
    "$$"
   ]
  },
  {
   "cell_type": "markdown",
   "id": "c95afa87",
   "metadata": {
    "slideshow": {
     "slide_type": "subslide"
    }
   },
   "source": [
    "Podemos obtener la función transferencia de este sistema mediante reemplazando $x$ por $y$ y $F$ por $u$ y transformando por Laplace, usando la propiedad de la derivada de la transformada de Laplace. Esto es:\n",
    "\n",
    "$$F(s)-bsX(s)-kX(s)=Ms^2X(s)$$\n",
    "$$U(s)-bsY(s)-kY(s)=Ms^2Y(s)$$\n",
    "\n",
    "Despejando se tiene:\n",
    "\n",
    "$$H(s)=\\frac{Y(s)}{U(s)}=\\frac{1}{Ms^2+bs+k}$$"
   ]
  },
  {
   "cell_type": "markdown",
   "id": "fdce3997",
   "metadata": {
    "slideshow": {
     "slide_type": "slide"
    }
   },
   "source": [
    "Vamos a definir el sistema según el ejemplo anterior con valores de\n",
    "$M=1$, $b=0.1$ y $k = 10$."
   ]
  },
  {
   "cell_type": "code",
   "execution_count": 1,
   "id": "87b7b4a1",
   "metadata": {
    "slideshow": {
     "slide_type": "fragment"
    }
   },
   "outputs": [],
   "source": [
    "import control as ctrl\n",
    "import numpy as np\n",
    "import matplotlib.pyplot as plt\n",
    "# %matplotlib qt5 #descomentar para obtener ventanas emergentes de las figuras"
   ]
  },
  {
   "cell_type": "markdown",
   "id": "4f65ff61",
   "metadata": {},
   "source": [
    "Definamos primero las constantes del sistema"
   ]
  },
  {
   "cell_type": "code",
   "execution_count": 2,
   "id": "b381991f",
   "metadata": {
    "slideshow": {
     "slide_type": "fragment"
    }
   },
   "outputs": [],
   "source": [
    "M=1\n",
    "b=0.01\n",
    "k=1"
   ]
  },
  {
   "cell_type": "markdown",
   "id": "0f62e17f",
   "metadata": {},
   "source": [
    "Ahora deinamos la función transferencia"
   ]
  },
  {
   "cell_type": "code",
   "execution_count": 3,
   "id": "c3ac5ffa",
   "metadata": {
    "slideshow": {
     "slide_type": "fragment"
    }
   },
   "outputs": [],
   "source": [
    "G=ctrl.tf([1],[M,b,k])"
   ]
  },
  {
   "cell_type": "markdown",
   "id": "d6af30f7",
   "metadata": {},
   "source": [
    "Obtengamos los polos (ceros del denominador) de la función transfrencia $G$"
   ]
  },
  {
   "cell_type": "code",
   "execution_count": 4,
   "id": "bd0def00",
   "metadata": {},
   "outputs": [
    {
     "data": {
      "text/plain": [
       "array([-0.005+0.9999875j, -0.005-0.9999875j])"
      ]
     },
     "execution_count": 4,
     "metadata": {},
     "output_type": "execute_result"
    }
   ],
   "source": [
    "G.pole()"
   ]
  },
  {
   "cell_type": "markdown",
   "id": "55446b06",
   "metadata": {
    "slideshow": {
     "slide_type": "slide"
    }
   },
   "source": [
    "Ahora vamos a ver la respuesta al escalón."
   ]
  },
  {
   "cell_type": "code",
   "execution_count": 5,
   "id": "317ff4b8",
   "metadata": {
    "slideshow": {
     "slide_type": "subslide"
    }
   },
   "outputs": [],
   "source": [
    "T1=np.linspace(0,1000,101)\n",
    "t1,y1=ctrl.step_response(G, T=T1) # cantidad de puntos por defecto"
   ]
  },
  {
   "cell_type": "code",
   "execution_count": 6,
   "id": "7e69cbac",
   "metadata": {
    "slideshow": {
     "slide_type": "subslide"
    },
    "tags": [
     "hide-input"
    ]
   },
   "outputs": [],
   "source": [
    "fig, ax =  plt.subplots(1, 1, figsize=(10,4))\n",
    "ax.plot(t1,y1,label=\"101 puntos de sim\")\n",
    "ax.grid()\n",
    "ax.set_xlabel('Tiempo [s]')\n",
    "ax.set_ylabel('$x$')\n",
    "ax.legend();"
   ]
  },
  {
   "cell_type": "markdown",
   "id": "e7c5eee3",
   "metadata": {},
   "source": [
    "Vemos que esto no se ve del todo razonable. Esas lineas cortadas no se lucen muy armónicas. Vamos a agregar más puntos a la simulación."
   ]
  },
  {
   "cell_type": "code",
   "execution_count": 7,
   "id": "71b12be9",
   "metadata": {
    "slideshow": {
     "slide_type": "subslide"
    }
   },
   "outputs": [],
   "source": [
    "T2=np.linspace(0,1000,1001)\n",
    "t2,y2=ctrl.step_response(G,T=T2)"
   ]
  },
  {
   "cell_type": "code",
   "execution_count": 8,
   "id": "85393963",
   "metadata": {
    "slideshow": {
     "slide_type": "subslide"
    },
    "tags": [
     "hide-input"
    ]
   },
   "outputs": [],
   "source": [
    "fig, ax =  plt.subplots(1, 2, figsize=(12,4))\n",
    "ax[0].plot(t1,y1,label=\"101 puntos de sim\")\n",
    "ax[0].plot(t2,y2,alpha=0.6, label=\"1001 puntos de sim\")\n",
    "ax[0].grid()\n",
    "ax[0].set_xlabel('Tiempo [s]')\n",
    "ax[0].set_ylabel('$x$')\n",
    "ax[0].set_title('Evolución completa')\n",
    "ax[1].plot(t1, y1)\n",
    "ax[1].plot(t2, y2, alpha=0.6)\n",
    "ax[1].set_xlim([0,30])\n",
    "ax[1].grid()\n",
    "ax[1].set_xlabel('Tiempo [s]')\n",
    "ax[1].set_ylabel('$x$')\n",
    "ax[1].set_title('Primeros segundos de la evolución')\n",
    "fig.tight_layout()"
   ]
  },
  {
   "cell_type": "markdown",
   "id": "b2e0255b",
   "metadata": {},
   "source": [
    "En estas figuras podemos ver como la simulación que devuelve solo 100 puntos no nos muestra de forma correcta la evolución del sistema. Sin embargo, los puntos donde está calculado los valores de la respuesta al escalón si son correctos.\n",
    "\n",
    "Con 1001 puntos ya podemos ver una evolución mucho más prolija. Sin embargo, para no ver las puntas triangulares que vemos en la figura, debemos agregar algunos puntos más a la simulación."
   ]
  },
  {
   "cell_type": "code",
   "execution_count": 9,
   "id": "455f67f3",
   "metadata": {
    "slideshow": {
     "slide_type": "subslide"
    }
   },
   "outputs": [],
   "source": [
    "T3=np.linspace(0,1400,5001)\n",
    "t3,y3=ctrl.step_response(G,T=T3)"
   ]
  },
  {
   "cell_type": "code",
   "execution_count": 10,
   "id": "92ff5ddb",
   "metadata": {
    "slideshow": {
     "slide_type": "subslide"
    }
   },
   "outputs": [],
   "source": [
    "fig, ax =  plt.subplots(1, 2, figsize=(12,4))\n",
    "ax[0].plot(t3,y3,label=\"5001 puntos de sim\")\n",
    "ax[0].grid()\n",
    "ax[0].set_xlabel('Tiempo [s]')\n",
    "ax[0].set_ylabel('$x$')\n",
    "ax[0].set_title('Evolución completa')\n",
    "ax[1].plot(t3, y3)\n",
    "ax[1].set_xlim([0,30])\n",
    "ax[1].grid()\n",
    "ax[1].set_xlabel('Tiempo [s]')\n",
    "ax[1].set_ylabel('$x$')\n",
    "ax[1].set_title('Primeros segundos de la evolución');\n",
    "fig.tight_layout()"
   ]
  },
  {
   "cell_type": "markdown",
   "id": "ea7aa2f2",
   "metadata": {},
   "source": [
    "En los primeros segundos vemos una dinámica que produce rápidas oscilaciones, y se va que muy lentamente el sistema empieza a disminuir esas oscilaciones. En la figura de la izquierda vemos que esta oscilaciones tienden a 0, en un tiempo suficientemente grande. Estos sistemas que tienen dinámicas tan diferentes, por un lado la \"lentas\" como la que produce la extinción de las oscilaciones en un tiempo grande, y por otro lado las rápidas que se manifiestan en las oscilaciones se los conoce como `sistemas rígidos` o `sistemas stiff`."
   ]
  },
  {
   "cell_type": "code",
   "execution_count": null,
   "id": "369ce90f",
   "metadata": {},
   "outputs": [],
   "source": []
  }
 ],
 "metadata": {
  "jupytext": {
   "formats": "ipynb,md:myst",
   "text_representation": {
    "extension": ".md",
    "format_name": "myst",
    "format_version": 0.13,
    "jupytext_version": "1.10.2"
   }
  },
  "kernelspec": {
   "display_name": "Python 3",
   "language": "python",
   "name": "python3"
  },
  "language_info": {
   "codemirror_mode": {
    "name": "ipython",
    "version": 3
   },
   "file_extension": ".py",
   "mimetype": "text/x-python",
   "name": "python",
   "nbconvert_exporter": "python",
   "pygments_lexer": "ipython3",
   "version": "3.8.12"
  },
  "source_map": [
   13,
   17,
   31,
   37,
   47,
   81,
   88,
   103,
   114,
   128,
   142,
   150,
   163,
   174,
   179,
   188,
   192,
   200,
   204,
   210,
   214,
   218,
   222,
   231,
   243,
   247,
   256,
   277,
   283,
   292,
   310,
   314
  ]
 },
 "nbformat": 4,
 "nbformat_minor": 5
}