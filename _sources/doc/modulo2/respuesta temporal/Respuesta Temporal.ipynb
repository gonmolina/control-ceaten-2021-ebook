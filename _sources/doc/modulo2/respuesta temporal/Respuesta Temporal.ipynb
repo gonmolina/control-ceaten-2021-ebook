{
 "cells": [
  {
   "cell_type": "markdown",
   "id": "79595c6f",
   "metadata": {},
   "source": [
    "# Respuesta temporal de sistemas dinámicos\n",
    "\n",
    "## Respuesta según la ubicación de los polos\n",
    "\n",
    "Cuando el sistema en estudio está representado por ecuaciones diferenciales ordinarias simultáneas, la función de transferencia resulta ser una razón de polinomios, de la forma:\n",
    "\n",
    "$$G(s)=\\frac{b(s)}{a(s)}$$\n",
    "\n",
    "donde $a(s)$ y $b(s)$ son polinomios en $s$ y no tienen factores en común. Para sistemas físicamente reales el orden del polinomio denominador $a(s)$ siempre es mayor o igual al orden del numerador $b(s)$, por razones de causalidad.\n",
    "\n",
    "**Un sistema donde el orden del polinomio denominador de la función transferencia es menor que el del numerador, representa un sistema que depende de valores futuros de la entrada.**"
   ]
  },
  {
   "cell_type": "markdown",
   "id": "8e7fc8ff",
   "metadata": {},
   "source": [
    "### **Polos** y **Ceros** de una función transferencia\n",
    "\n",
    "Denominamos **polos** de $G(s)$, a aquellos lugares del plano complejo $s$, en donde la función de transferencia $G(s)$ se hace infinita, o sea donde $a(s) = 0$ (las raíces del polinomio denominador $a(s)$).\n",
    "\n",
    "Denominan **ceros** de $G(s)$, a aquellos lugares del plano complejo $s$, en donde la función de transferencia $G(s)$ se hace cero, o sea donde $b(s)=0$ (las raíces del polinomio numerador $b(s)$)."
   ]
  },
  {
   "cell_type": "markdown",
   "id": "5c4d0c03",
   "metadata": {},
   "source": [
    "Los **polos y ceros describen completamente a $G(s)$**, excepto por un multiplicador constante (ganancia en estado estacionario). Esto significa que las funciones $G(s)$ las podemos representar directamente en el plano $s$.\n",
    "\n",
    "Ya que la **respuesta de un sistema a un impulso está dada por su función de transferencia**, a dicha respuesta se la denomina **respuesta natural del sistema**. Podemos usar los polos y ceros para determinar la respuesta temporal y así identificar la forma de la respuestas temporales con las ubicaciones correspondientes de los polos y ceros de la función de transferencia."
   ]
  },
  {
   "cell_type": "markdown",
   "id": "cb7edec4",
   "metadata": {},
   "source": [
    "### Ejemplo de la respuesta temporal de sistema LTI\n",
    "\n",
    "Supongamos la siguiente función de transferencia:\n",
    "\n",
    "$$H(s) = \\frac{2s+1}{s^2+3s+2}$$\n",
    "\n",
    "a partir de la definición del sistema LTI, tanto por función de transferencia, `tf` o por variables de estado, `ss`, es posible usar métodos (o funciones propias del objeto) para obtener información relacionada al sistema, como ser `pole()`, `zero()` y `dcgain()`, que nos permite obtener los polos, los ceros y la ganancia estacionaria del sistema H(s), respectivamente:"
   ]
  },
  {
   "cell_type": "code",
   "execution_count": 1,
   "id": "67e42e48",
   "metadata": {},
   "outputs": [],
   "source": [
    "import control as ctrl\n",
    "import numpy as np\n",
    "import matplotlib.pyplot as plt"
   ]
  },
  {
   "cell_type": "code",
   "execution_count": 2,
   "id": "d5407d38",
   "metadata": {},
   "outputs": [
    {
     "name": "stdout",
     "output_type": "stream",
     "text": [
      "\n",
      "   2 s + 1\n",
      "-------------\n",
      "s^2 + 3 s + 2\n",
      "\n",
      "Polos de la función H(s): [-2. -1.]\n",
      "Polos de la función H(s): [-0.5]\n",
      "Polos de la función H(s): 0.5\n"
     ]
    }
   ],
   "source": [
    "H = ctrl.tf([2,1],[1,3,2])\n",
    "print(H)\n",
    "print('Polos de la función H(s):', H.pole())\n",
    "print('Polos de la función H(s):', H.zero())\n",
    "print('Polos de la función H(s):', H.dcgain())"
   ]
  },
  {
   "cell_type": "markdown",
   "id": "944405d1",
   "metadata": {},
   "source": [
    "**Nota:** también es posible usar las funciones anteriores (en lugar de los métodos del propio objeto) de la forma `ctrl.pole(H)`, `ctrl.zero(H)` y `ctrl.dcgain(H)`\n",
    "\n",
    "Otra forma de hallar los polo y ceros de un sistema es usando la función `roots()` de numpy, que permite calcular las raíces de un polinomio:"
   ]
  },
  {
   "cell_type": "code",
   "execution_count": 3,
   "id": "16d292b6",
   "metadata": {},
   "outputs": [
    {
     "data": {
      "text/plain": [
       "array([-2., -1.])"
      ]
     },
     "execution_count": 3,
     "metadata": {},
     "output_type": "execute_result"
    }
   ],
   "source": [
    "np.roots(H.den[0][0])"
   ]
  },
  {
   "cell_type": "markdown",
   "id": "096475ff",
   "metadata": {},
   "source": [
    "Las singularidade de una Función de Transferencia los dibujaremos en el plano-s, con cruces (x) para los polos y con círculos (o) para los ceros de la función, como lo muestra la función `pzmap` de la librería `control`"
   ]
  },
  {
   "cell_type": "code",
   "execution_count": 4,
   "id": "11a234e4",
   "metadata": {},
   "outputs": [],
   "source": [
    "ctrl.pzmap(H);"
   ]
  },
  {
   "cell_type": "markdown",
   "id": "3a53e200",
   "metadata": {},
   "source": [
    "### Ejemplo: respuesta impulsiva de un sistema LTI\n",
    "\n",
    "Tomando la función de transferencia del ejemplo anterior:\n",
    "\n",
    "$$H(s) = \\frac{2s+1}{s^2+3s+2}=\\frac{2s+1}{(s+1)(s+2)}$$\n",
    "\n",
    "Separando en **fracciones simples**:\n",
    "\n",
    "$$H(s) = \\frac{-1}{s+1} +\\frac{3}{s+2}$$\n",
    "\n",
    "Utilizando la **tabla de transformadas de Laplace**, obtenemos la **respuesta natural** del sistema:"
   ]
  },
  {
   "cell_type": "markdown",
   "id": "74b26407",
   "metadata": {},
   "source": [
    "$$h(t) = \\left\\{\n",
    "  \\begin{array}{cc}\n",
    "      -e^{-t}+3e^{-2t},& t\\ge 0\\\\\n",
    "      0,  & t<0\n",
    "    \\end{array}\n",
    "  \\right.\n",
    "  $$\n",
    "\n",
    "Graficamos $h(t)$ obtenido a partir de aplicar la antitransformada de Laplace (usando tablas) de la respuesta impulsiva del sistema.\n",
    "\n",
    "$$\\mathcal{L}^{-1}\\{Y(s)\\} =\\mathcal{L}^{-1}\\{ H(s)\\cdot U(s) \\}= \\mathcal{L}^{-1}\\{H(s)\\cdot 1\\}=\\mathcal{L}^{-1}\\{ H(s)\\}=h(t)$$"
   ]
  },
  {
   "cell_type": "code",
   "execution_count": 5,
   "id": "d3adf988",
   "metadata": {
    "tags": []
   },
   "outputs": [],
   "source": [
    "t=np.linspace(0,5,50)\n",
    "y1=-np.exp(-t)\n",
    "y2=3*np.exp(-2*t)"
   ]
  },
  {
   "cell_type": "code",
   "execution_count": 6,
   "id": "4a7e4756",
   "metadata": {
    "tags": [
     "hide-input"
    ]
   },
   "outputs": [],
   "source": [
    "fig, ax = plt.subplots(figsize=(12,4))\n",
    "ax.plot(t,y1, '--', label=r'$e^{-t}$')\n",
    "ax.plot(t,y2, ':', label=r'$3e^{-2t}$')\n",
    "ax.plot(t,y1+y2, label=r'$e^{-t}+3e^{-2t}$')\n",
    "ax.legend()\n",
    "plt.grid()"
   ]
  },
  {
   "cell_type": "markdown",
   "id": "77b6f6bc",
   "metadata": {},
   "source": [
    "Por lo dicho antes, como la función transferencia de un sistema es la transformada de Laplace de la respuesta al impulso, y la transformada del impulso es 1, podemos graficar esta función temporal, graficando la respuesta al impulso con el comando `impulse_response`:"
   ]
  },
  {
   "cell_type": "code",
   "execution_count": 7,
   "id": "837bc751",
   "metadata": {},
   "outputs": [],
   "source": [
    "t, y = ctrl.impulse_response(H)"
   ]
  },
  {
   "cell_type": "code",
   "execution_count": 8,
   "id": "67a4f9c6",
   "metadata": {
    "tags": [
     "hide-input"
    ]
   },
   "outputs": [],
   "source": [
    "fig, ax = plt.subplots(figsize=(12,4))\n",
    "ax.plot(t,y)\n",
    "ax.set_title(\"Respuesta al impulso\")\n",
    "ax.set_xlabel(\"Tiempo\")\n",
    "ax.set_ylabel(\"Amplitud\")\n",
    "ax.grid()"
   ]
  },
  {
   "cell_type": "markdown",
   "id": "8748e19a",
   "metadata": {},
   "source": [
    "Veremos otra forma de definir una Función de Transferencia a partir de la definición de la \"función de transferencia elemental, s\", luego es posible hacer operaciones algebraicas (sumas, restas, divisiones y productos) con esta función para definir la función de transferencia de un sistema dinámico cualquiera."
   ]
  },
  {
   "cell_type": "code",
   "execution_count": 9,
   "id": "d76db1a9",
   "metadata": {},
   "outputs": [],
   "source": [
    "s = ctrl.tf(\"s\")\n",
    "H1 = -1/(s+1)\n",
    "H2 = 3/(s+2)\n",
    "t1, y1 = ctrl.impulse_response(H1, T=np.linspace(0,7,100))\n",
    "t2, y2 = ctrl.impulse_response(H2, T=np.linspace(0,7,100))\n",
    "y = y1 + y2"
   ]
  },
  {
   "cell_type": "code",
   "execution_count": 10,
   "id": "a56d89f0",
   "metadata": {
    "tags": [
     "hide-input"
    ]
   },
   "outputs": [],
   "source": [
    "fig, ax = plt.subplots(figsize=(12,4))\n",
    "ax.plot(t1,y1,'r:', label=r\"$h_1$\")\n",
    "ax.plot(t2,y2, 'g:',label=r\"$h_2$\")\n",
    "ax.plot(t1,y, 'b-', label=r\"$h$\")\n",
    "ax.legend()\n",
    "ax.grid()\n",
    "ax.set_title(\"Respuesta al impulso\")\n",
    "ax.set_xlabel(\"Tiempo\")\n",
    "ax.set_ylabel(\"Amplitud\");"
   ]
  },
  {
   "cell_type": "markdown",
   "id": "5aa96a6a",
   "metadata": {},
   "source": [
    "### Ejemplo: Respuesta al escalón unitario\n",
    "\n",
    "Siguiendo con la misma función de transferencia, ahora veremos la respuesta a una señal de entrada del tipo escalón unitario $U(s)=\\frac{1}{s}$, por lo que la señal de salida $Y(s)$:\n",
    "\n",
    "$$Y(s)= H(s)U(s) = \\frac{2s+1}{s^2+3s+2}\\frac{1}{s} \\Longrightarrow \\frac{2s+1}{s(s+1)(s+2)}$$\n",
    "\n",
    "Separando en fracciones simples:\n",
    "\n",
    "$$Y(s) = \\frac{1/2}{s}+\\frac{1}{s+1} +\\frac{-3/2}{s+2}$$\n",
    "\n",
    "luego usando la tabla de transformadas de Laplace, obtenemos la respuesta al escalón del sistema en el tiempo:\n",
    "\n",
    "$$\n",
    "\\begin{matrix}\n",
    "y(t) = \\frac{1}{2} + e^{-t} - \\frac{3}{2}e^{-2t} & \\mbox{para} & t\\ge 0 & \\mbox{y,} & y(t)=0 & \\mbox{para} &  t<0\n",
    "\\end{matrix}\n",
    "$$\n",
    "\n",
    "Graficamos $y(t)$ la señal de salida del sistema cuando la entrada es un escalón unitario, pero antes calcularemos el valor final de la señal, usando el teorema del valor final (TVF):\n",
    "$$\n",
    "y(\\infty)=\\lim_{s\\rightarrow 0}sY(s)=\\lim_{s\\rightarrow 0} s\\frac{2s+1}{s(s^2+3s+2)}=\\frac{1}{2}\n",
    "$$"
   ]
  },
  {
   "cell_type": "code",
   "execution_count": 11,
   "id": "b45af410",
   "metadata": {},
   "outputs": [],
   "source": [
    "t=np.linspace(0,8,50)\n",
    "y=.5+np.exp(-t)-3/2*np.exp(-2*t)"
   ]
  },
  {
   "cell_type": "code",
   "execution_count": 12,
   "id": "80ed4fce",
   "metadata": {
    "tags": [
     "hide-input"
    ]
   },
   "outputs": [],
   "source": [
    "fig, ax = plt.subplots(figsize=(12,4))\n",
    "ax.plot(t,y)\n",
    "ax.set_title('Respuesta al escalón')\n",
    "ax.set_xlabel('Tiempo[s]')\n",
    "ax.set_ylabel('Salida')\n",
    "ax.grid()"
   ]
  },
  {
   "cell_type": "markdown",
   "id": "22e2f21b",
   "metadata": {},
   "source": [
    "## Respuesta al escalón de un sistema de **primer orden**\n",
    "\n",
    "Un sistema de primer orden se puede escribir de forma general:\n",
    "\n",
    "$$H(s) = \\frac{K}{\\tau .s+1}$$\n",
    "\n",
    "o de forma equivalente:\n",
    "\n",
    "$$H(s) = \\dfrac{K}{\\tau .s +1}$$\n",
    "\n",
    "Si queremos la respuesta al escalón, entonces hacemos:\n",
    "\n",
    "$$Y(s) = \\dfrac{K}{\\tau .s +1}\\cdot U(s )= \\frac{K}{\\tau .s +1}\\cdot \\frac{1}{s}$$\n",
    "\n",
    "Aplicando fracciones simples, podemos obtener:\n",
    "\n",
    "$$Y(s) = \\frac{A}{s} + \\frac{B}{\\tau .s +1} = \\frac{K}{s} - \\dfrac{K\\tau}{\\tau .s +1} = \\frac{K}{s} - \\frac{K}{s + \\frac{1}{\\tau}}$$\n",
    "\n",
    "Utilizando tablas podemos obtener:\n",
    "\n",
    "$$y(t) = K-Ke^{-t/\\tau} = K(1-e^{-t/\\tau})$$\n",
    "\n",
    "El parámetro $\\tau$, que es el reciproco del polo del sistema de primer orden, está relacionado con el tiempo de respuesta del sistema y se la conoce como constante de tiempo. Su unidad es tiempo (segundo, minuto , horas, etc).\n",
    "\n",
    "Vamos aver como se comporta según su valor de $\\tau$. Para Esto vamos a hacer  $K=1$, y tomaremos tres valors posibles de $\\tau$."
   ]
  },
  {
   "cell_type": "code",
   "execution_count": 13,
   "id": "d4573c97",
   "metadata": {},
   "outputs": [],
   "source": [
    "k=1\n",
    "tau_1=1/3\n",
    "tau_2=1\n",
    "tau_3=3\n",
    "\n",
    "h1 = k/(tau_1*s+1)\n",
    "h2 = k/(tau_2*s+1)\n",
    "h3 = k/(tau_3*s+1)\n",
    "\n",
    "t1, y1 = ctrl.step_response(h1, T=np.linspace(0,10,500))\n",
    "t2, y2 = ctrl.step_response(h2, T=np.linspace(0,10,500))\n",
    "t3, y3 = ctrl.step_response(h3, T=np.linspace(0,10,500))"
   ]
  },
  {
   "cell_type": "code",
   "execution_count": 14,
   "id": "72024566",
   "metadata": {
    "tags": [
     "hide-input"
    ]
   },
   "outputs": [],
   "source": [
    "fig, ax=plt.subplots(figsize=(12,4))\n",
    "ax.plot(t1, y1, 'r', label=r\"$y_1$\")\n",
    "ax.plot(t2, y2, 'g', label=r\"$y_2$\")\n",
    "ax.plot(t3, y3, 'b', label=r\"$y_3$\")\n",
    "ax.legend()\n",
    "ax.grid()\n",
    "ax.set_title(\"Respuesta al escalón\")\n",
    "ax.set_xlabel(\"Tiempo\")\n",
    "ax.set_ylabel(\"Amplitud\");"
   ]
  },
  {
   "cell_type": "markdown",
   "id": "1cf12d22",
   "metadata": {},
   "source": [
    "Vemos primero, que como los sistemas tienen el mismo valor de $K$ entonces el valor final es el mismo para los tres sistemas.\n",
    "\n",
    "Vemos que el sistema que tiene el $\\tau$ más chico, o lo que es lo mismo el polo $\\dfrac{1}{\\tau}$ más grande es el sistema más rápido.\n",
    "\n",
    "Voy a graficar unas lineas horizontales sobre la figura anterior"
   ]
  },
  {
   "cell_type": "code",
   "execution_count": 15,
   "id": "a2e39089",
   "metadata": {
    "tags": [
     "hide-input"
    ]
   },
   "outputs": [],
   "source": [
    "fig, ax=plt.subplots(figsize=(12,4))\n",
    "ax.plot(t1, y1, 'r', label=r\"$y_1$\")\n",
    "ax.plot(t2, y2, 'g', label=r\"$y_2$\")\n",
    "ax.plot(t3, y3, 'b', label=r\"$y_3$\")\n",
    "ax.legend()\n",
    "ax.grid()\n",
    "ax.set_title(\"Respuesta al escalón\")\n",
    "ax.set_xlabel(\"Tiempo\")\n",
    "ax.set_ylabel(\"Amplitud\")\n",
    "\n",
    "ax.plot([-1, 11],[1-np.exp(-1), 1-np.exp(-1)], color=\"grey\", alpha=0.9)\n",
    "ax.plot([-1, 11],[1-np.exp(-3), 1-np.exp(-3)], color=\"grey\", alpha=0.9)\n",
    "ax.set_xlim([0,10])\n",
    "ax.set_ylim([0,1.1]);"
   ]
  },
  {
   "cell_type": "markdown",
   "id": "34671acf",
   "metadata": {},
   "source": [
    "Podemos ver que los tres sistemas cortan a la linea gris inferior que está en $\\approx 0.63$ en el valor de $\\tau$. Por lo que podemos concluir que un sistema de primer orden llega al 63\\% de su valor final en $\\tau$ segundos.\n",
    "\n",
    "Análogamente, podemos ver que los tres sistemas cortan a la linea gris inferior que está en $\\approx 0.95$ en el valor de $\\tau$. Por lo que podemos concluir que un sistema de primer orden llega al 95\\% de su valor final en $3.\\tau$ segundos."
   ]
  },
  {
   "cell_type": "markdown",
   "id": "a5e65320",
   "metadata": {},
   "source": [
    "El parámetro $K$ es la ganancia del sistema. Esta relacionado con el valor final al cual llegará el sistema.\n",
    "\n",
    "Para analizar que sucede con $K$ vamos graficar tres sistemas con $\\tau=1$ variando la ganancia."
   ]
  },
  {
   "cell_type": "code",
   "execution_count": 16,
   "id": "3afe043f",
   "metadata": {},
   "outputs": [],
   "source": [
    "k_1=0.5\n",
    "k_2=1\n",
    "k_3=2\n",
    "tau=1\n",
    "\n",
    "h1 = k_1/(tau*s+1)\n",
    "h2 = k_2/(tau*s+1)\n",
    "h3 = k_3/(tau*s+1)\n",
    "\n",
    "t1, y1 = ctrl.step_response(h1, T=np.linspace(0,5,500))\n",
    "t2, y2 = ctrl.step_response(h2, T=np.linspace(0,5,500))\n",
    "t3, y3 = ctrl.step_response(h3, T=np.linspace(0,5,500))"
   ]
  },
  {
   "cell_type": "code",
   "execution_count": 17,
   "id": "b073dede",
   "metadata": {
    "tags": [
     "hide-input"
    ]
   },
   "outputs": [],
   "source": [
    "fig, ax=plt.subplots(figsize=(12,4))\n",
    "ax.plot(t1, y1, 'r', label=r\"$y_1$\")\n",
    "ax.plot(t2, y2, 'g', label=r\"$y_2$\")\n",
    "ax.plot(t3, y3, 'b', label=r\"$y_3$\")\n",
    "ax.legend()\n",
    "ax.grid()\n",
    "ax.set_title(\"Respuesta al escalón\")\n",
    "ax.set_xlabel(\"Tiempo\")\n",
    "ax.set_ylabel(\"Amplitud\");"
   ]
  },
  {
   "cell_type": "markdown",
   "id": "1c252739",
   "metadata": {},
   "source": [
    "Si se tiene un sistema de orden $n$ con todas raíces reales se puede descomponer por fracciones simples y analizar las repuesta de los $n$ polos por separados, y de estar forma analizar como se comporta el sistema.\n",
    "\n",
    "Por lo tanto nos quedaría analizar que pasa cunado los polos del sistema son complejos conjugados"
   ]
  },
  {
   "cell_type": "markdown",
   "id": "9319201d",
   "metadata": {},
   "source": [
    "## Sistema de **segundo orden**"
   ]
  },
  {
   "cell_type": "markdown",
   "id": "39e5f4c5",
   "metadata": {},
   "source": [
    "Para el caso de raíces complejas conjugadas obtenemos una conclusión similar: los polos determinan la forma de la respuesta temporal."
   ]
  },
  {
   "cell_type": "markdown",
   "id": "258eeb4f",
   "metadata": {},
   "source": [
    "### Ejemplo: Función de transferencia con polos complejos\n",
    "\n",
    "Dada la función de transferencia:\n",
    "\n",
    "$$G(s)=\\frac{2s+1}{s^2+2s+5}$$\n",
    "\n",
    "Separando en fracciones simples:\n",
    "\n",
    "$$G(s) = \\frac{(1+4i)/4i}{s+1+2i}+\\frac{(1-4i)/(-4i)}{s+1-2i} = \\frac{A}{2}\\frac{e^{-i\\theta}}{s+1+2i}+\\frac{A}{2}\\frac{e^{i\\theta}}{s+1-2i}$$\n",
    "\n",
    "Utilizando la tabla de transformadas de Laplace:\n",
    "\n",
    "$$g(t) = \\frac{A}{2}e^{-i\\theta}e^{-t}e^{-2it}+\\frac{A}{2}e^{i\\theta}e^{-t}e^{-2it} = Ae^{-t}\\cos(2t+\\theta)$$"
   ]
  },
  {
   "cell_type": "code",
   "execution_count": 18,
   "id": "85ffef50",
   "metadata": {},
   "outputs": [],
   "source": [
    "t=np.linspace(0,5,50)\n",
    "g=.5+np.exp(-t)-3/2*np.exp(-2*t)"
   ]
  },
  {
   "cell_type": "code",
   "execution_count": 19,
   "id": "80fb7dbe",
   "metadata": {},
   "outputs": [],
   "source": [
    "fig, ax = plt.subplots(figsize=(12,4))\n",
    "ax.plot(t,g)\n",
    "ax.set_title('Respuesta impulsiva de un sistema de segundo orden')\n",
    "ax.set_xlabel('Tiempo')\n",
    "ax.set_ylabel('Salida')\n",
    "plt.grid()"
   ]
  },
  {
   "cell_type": "markdown",
   "id": "4b9f4980",
   "metadata": {},
   "source": [
    "Como vemos, la respuesta al impulso a un par de polos complejos conjugados es una sinusoide amortiguada por una exponencial. Tanto la exponencial, como la frecuencia de la sinusoide depende solo de los polos."
   ]
  },
  {
   "cell_type": "markdown",
   "id": "05bf7037",
   "metadata": {},
   "source": [
    "Otra forma de resolver analíticamente cuando se tienen polos complejos conjugados es buscar la suma de un seno y un coseno de la misma frecuencia, ambos con fase 0. Es decir:\n",
    "\n",
    "$$G(s)=A_1\\frac{s+a}{(s+a)^2+\\omega^2}+A_2\\frac{\\omega}{(s+a)^2+\\omega^2}$$\n",
    "\n",
    "Para esto, primero se debe completar expresar el denominado de la forma anterior completando cuadrados, y luego separar lo que tiene $s$ con omega de ver lo que nos queda sin $s$ para obtener el $A_2$ del coseno.\n",
    "\n",
    "Para este ejemplo:\n",
    "\n",
    "$$G(s)=\\frac{(2s+1)}{(s+1)^2+4}=A_1\\frac{s+1}{(s+1)^2+4}+A_2\\frac{2}{(s+1)^2+4}=2\\frac{s+1}{(s+1)^2+4}-\\frac{1}{2}\\frac{2}{(s+1)^2+4}$$\n",
    "\n",
    "Entonces de tablas y propiedades trigonométricas se obtiene:\n",
    "\n",
    "$$g(t)=\\left(2\\cos(2t)-\\frac{1}{2}\\sin(2t)\\right)=\\sqrt{\\left(\\frac{1}{2}\\right)^2+2^2} \\cos\\left(2 t - \\tan^{-1}\\left(\\dfrac{-1/2}{2}\\right)\\right)$$"
   ]
  },
  {
   "cell_type": "markdown",
   "id": "b0f1effc",
   "metadata": {},
   "source": [
    "En la figura siguiente se esquematiza las respuestas naturales (al impulso) de los sistemas dependiendo de la ubicación de los polos."
   ]
  },
  {
   "cell_type": "markdown",
   "id": "817de827",
   "metadata": {
    "tags": [
     "remove-cell"
    ]
   },
   "source": [
    ":::{figure-md}\n",
    "<img style=\"display:block; margin-left: auto; margin-right: auto;\" src=\"fig1.gif\" width=\"600\" alt=\"fig1.gif\">\n",
    "\n",
    "Respuestas temporales asociadas con los respectivos polos en el plano $s$\n",
    ":::"
   ]
  },
  {
   "cell_type": "code",
   "execution_count": 20,
   "id": "fc383298",
   "metadata": {
    "tags": [
     "hide-input"
    ]
   },
   "outputs": [],
   "source": [
    "from matplotlib import ticker\n",
    "\n",
    "fig = plt.figure(figsize=(12,6))\n",
    "\n",
    "# Eje principal\n",
    "\n",
    "ax0 = fig.add_axes([0.1, 0.1, 0.9, 0.9])\n",
    "ax0.plot([0, -1, -2, 1, 2, -1, 1, 0, 0], [0, 0, 0, 0, 0, 1, 1, 0.5, 1.5], \n",
    "         lw=0, marker='x', markersize=11, markerfacecolor='white', markeredgewidth=2, markeredgecolor=\"black\") \n",
    "ax0.spines['right'].set_color('none')\n",
    "ax0.spines['top'].set_color('none')\n",
    "ax0.xaxis.set_ticks_position('bottom')\n",
    "ax0.spines['bottom'].set_position(('data',0)) # set position of x spine to x=0\n",
    "ax0.yaxis.set_ticks_position('left')\n",
    "ax0.spines['left'].set_position(('data',0))   # set position of y spine to y=0\n",
    "ax0.set_xlim([-1.96, 2.4])\n",
    "ax0.set_ylim([-1.2, 2.2])\n",
    "ax0.yaxis.set_major_formatter(ticker.NullFormatter())\n",
    "ax0.xaxis.set_major_formatter(ticker.NullFormatter())\n",
    "\n",
    "# Eje polo -2\n",
    "G1 = ctrl.tf(2,[1,2])\n",
    "t1,y1 = ctrl.impulse_response(G1,T=np.linspace(0,3))\n",
    "ax1 = fig.add_axes([0.15, 0.2, 0.15, 0.19])\n",
    "ax1.plot(t1,y1,'k')\n",
    "ax1.yaxis.set_major_formatter(ticker.NullFormatter())\n",
    "ax1.xaxis.set_major_formatter(ticker.NullFormatter())\n",
    "ax1.spines['right'].set_color('none')\n",
    "ax1.spines['top'].set_color('none')\n",
    "ax1.xaxis.set_ticks_position('bottom')\n",
    "ax1.spines['bottom'].set_position(('data',0)) # set position of x spine to x=0\n",
    "ax1.yaxis.set_ticks_position('left')\n",
    "ax1.spines['left'].set_position(('data',0))   # set position of y spine to y=0\n",
    "ax1.set_xlim([-0, 3])\n",
    "ax1.yaxis.set_major_formatter(ticker.NullFormatter())\n",
    "ax1.xaxis.set_major_formatter(ticker.NullFormatter())\n",
    "\n",
    "\n",
    "\n",
    "# Eje polo -1\n",
    "G2 = ctrl.tf(1,[1,1])\n",
    "t2,y2 = ctrl.impulse_response(G2,T=np.linspace(0,3))\n",
    "ax2 = fig.add_axes([0.33, 0.2, 0.15, 0.19])\n",
    "ax2.plot(t2,y2,'k')\n",
    "ax2.yaxis.set_major_formatter(ticker.NullFormatter())\n",
    "ax2.xaxis.set_major_formatter(ticker.NullFormatter())\n",
    "ax2.spines['right'].set_color('none')\n",
    "ax2.spines['top'].set_color('none')\n",
    "ax2.xaxis.set_ticks_position('bottom')\n",
    "ax2.spines['bottom'].set_position(('data',0)) # set position of x spine to x=0\n",
    "ax2.yaxis.set_ticks_position('left')\n",
    "ax2.spines['left'].set_position(('data',0))   # set position of y spine to y=0\n",
    "ax2.set_xlim([-0, 3])\n",
    "ax2.yaxis.set_major_formatter(ticker.NullFormatter())\n",
    "ax2.xaxis.set_major_formatter(ticker.NullFormatter())\n",
    "\n",
    "\n",
    "\n",
    "\n",
    "# Eje polo 0\n",
    "G3 = ctrl.tf(1,[1,0])\n",
    "t3,y3 = ctrl.impulse_response(G3,T=np.linspace(0,3))\n",
    "ax3 = fig.add_axes([0.51, 0.2, 0.15, 0.19])\n",
    "ax3.plot(t3,y3,'k')\n",
    "ax3.yaxis.set_major_formatter(ticker.NullFormatter())\n",
    "ax3.xaxis.set_major_formatter(ticker.NullFormatter())\n",
    "ax3.spines['right'].set_color('none')\n",
    "ax3.spines['top'].set_color('none')\n",
    "ax3.xaxis.set_ticks_position('bottom')\n",
    "ax3.spines['bottom'].set_position(('data',0)) # set position of x spine to x=0\n",
    "ax3.yaxis.set_ticks_position('left')\n",
    "ax3.spines['left'].set_position(('data',0))   # set position of y spine to y=0\n",
    "ax3.set_xlim([0, 3])\n",
    "ax3.set_ylim([0, 1.2])\n",
    "ax3.yaxis.set_major_formatter(ticker.NullFormatter())\n",
    "ax3.xaxis.set_major_formatter(ticker.NullFormatter())\n",
    "\n",
    "# Eje polo 1\n",
    "G4 = ctrl.tf(-1,[-1,1])\n",
    "t4,y4 = ctrl.impulse_response(G4,T=np.linspace(0,2))\n",
    "ax4 = fig.add_axes([0.68, 0.2, 0.15, 0.19])\n",
    "ax4.plot(t4,y4,'k')\n",
    "ax4.yaxis.set_major_formatter(ticker.NullFormatter())\n",
    "ax4.xaxis.set_major_formatter(ticker.NullFormatter())\n",
    "ax4.spines['right'].set_color('none')\n",
    "ax4.spines['top'].set_color('none')\n",
    "ax4.xaxis.set_ticks_position('bottom')\n",
    "ax4.spines['bottom'].set_position(('data',0)) # set position of x spine to x=0\n",
    "ax4.yaxis.set_ticks_position('left')\n",
    "ax4.spines['left'].set_position(('data',0))   # set position of y spine to y=0\n",
    "ax4.set_xlim([-0, 2])\n",
    "ax4.set_ylim([0, 8])\n",
    "ax4.yaxis.set_major_formatter(ticker.NullFormatter())\n",
    "ax4.xaxis.set_major_formatter(ticker.NullFormatter())\n",
    "\n",
    "# Eje polo 2\n",
    "G5 = ctrl.tf(-2,[-1,2])\n",
    "t5,y5 = ctrl.impulse_response(G5,T=np.linspace(0,2))\n",
    "ax5 = fig.add_axes([0.85, 0.2, 0.15, 0.19])\n",
    "ax5.plot(t5,y5,'k')\n",
    "ax5.yaxis.set_major_formatter(ticker.NullFormatter())\n",
    "ax5.xaxis.set_major_formatter(ticker.NullFormatter())\n",
    "ax5.spines['right'].set_color('none')\n",
    "ax5.spines['top'].set_color('none')\n",
    "ax5.xaxis.set_ticks_position('bottom')\n",
    "ax5.spines['bottom'].set_position(('data',0)) # set position of x spine to x=0\n",
    "ax5.yaxis.set_ticks_position('left')\n",
    "ax5.spines['left'].set_position(('data',0))   # set position of y spine to y=0\n",
    "ax5.set_xlim([-0, 2])\n",
    "ax5.set_ylim([0, 8])\n",
    "ax5.yaxis.set_major_formatter(ticker.NullFormatter())\n",
    "ax5.xaxis.set_major_formatter(ticker.NullFormatter())\n",
    "\n",
    "# polo en -0.5j\n",
    "G6 = ctrl.tf(0.5,[1,0,0.25])\n",
    "t6,y6 = ctrl.impulse_response(G6,T=np.linspace(0,30, 1000))\n",
    "ax6 = fig.add_axes([0.53, 0.45, 0.15, 0.19])\n",
    "ax6.plot(t6,y6,'k')\n",
    "ax6.yaxis.set_major_formatter(ticker.NullFormatter())\n",
    "ax6.xaxis.set_major_formatter(ticker.NullFormatter())\n",
    "ax6.spines['right'].set_color('none')\n",
    "ax6.spines['top'].set_color('none')\n",
    "ax6.xaxis.set_ticks_position('bottom')\n",
    "ax6.spines['bottom'].set_position(('data',0)) # set position of x spine to x=0\n",
    "ax6.yaxis.set_ticks_position('left')\n",
    "ax6.spines['left'].set_position(('data',0))   # set position of y spine to y=0\n",
    "ax6.set_xlim([0, 30])\n",
    "ax6.set_ylim([-1.1, 1.1])\n",
    "ax6.yaxis.set_major_formatter(ticker.NullFormatter())\n",
    "ax6.xaxis.set_major_formatter(ticker.NullFormatter())\n",
    "\n",
    "# polo en -1.5j\n",
    "G7 = ctrl.tf(1.5,[1,0,2.25])\n",
    "t7,y7 = ctrl.impulse_response(G7,T=np.linspace(0,30,1000))\n",
    "ax7 = fig.add_axes([0.53, 0.7, 0.15, 0.19])\n",
    "ax7.plot(t7,y7,'k')\n",
    "ax7.yaxis.set_major_formatter(ticker.NullFormatter())\n",
    "ax7.xaxis.set_major_formatter(ticker.NullFormatter())\n",
    "ax7.spines['right'].set_color('none')\n",
    "ax7.spines['top'].set_color('none')\n",
    "ax7.xaxis.set_ticks_position('bottom')\n",
    "ax7.spines['bottom'].set_position(('data',0)) # set position of x spine to x=0\n",
    "ax7.yaxis.set_ticks_position('left')\n",
    "ax7.spines['left'].set_position(('data',0))   # set position of y spine to y=0\n",
    "ax7.set_xlim([0, 30])\n",
    "ax7.set_ylim([-1.1, 1.1])\n",
    "ax7.yaxis.set_major_formatter(ticker.NullFormatter())\n",
    "ax7.xaxis.set_major_formatter(ticker.NullFormatter())\n",
    "\n",
    "# polo en -1-2j\n",
    "G8 = ctrl.tf(5,[1,-2,17])\n",
    "t8,y8 = ctrl.impulse_response(G8,T=np.linspace(0,3,1000))\n",
    "ax8 = fig.add_axes([0.75, 0.57, 0.15, 0.19])\n",
    "ax8.plot(t8,y8,'k')\n",
    "ax8.yaxis.set_major_formatter(ticker.NullFormatter())\n",
    "ax8.xaxis.set_major_formatter(ticker.NullFormatter())\n",
    "ax8.spines['right'].set_color('none')\n",
    "ax8.spines['top'].set_color('none')\n",
    "ax8.xaxis.set_ticks_position('bottom')\n",
    "ax8.spines['bottom'].set_position(('data',0)) # set position of x spine to x=0\n",
    "ax8.yaxis.set_ticks_position('left')\n",
    "ax8.spines['left'].set_position(('data',0))   # set position of y spine to y=0\n",
    "ax8.set_xlim([0, 3])\n",
    "ax8.set_ylim([-10,10])\n",
    "ax8.yaxis.set_major_formatter(ticker.NullFormatter())\n",
    "ax8.xaxis.set_major_formatter(ticker.NullFormatter())\n",
    "\n",
    "# polo en -1-2j\n",
    "G9 = ctrl.tf(5,[1,2,17])\n",
    "t9,y9 = ctrl.impulse_response(G9,T=np.linspace(0,3,1000))\n",
    "ax9 = fig.add_axes([0.33, 0.57, 0.15, 0.19])\n",
    "ax9.plot(t9,y9,'k')\n",
    "ax9.yaxis.set_major_formatter(ticker.NullFormatter())\n",
    "ax9.xaxis.set_major_formatter(ticker.NullFormatter())\n",
    "ax9.spines['right'].set_color('none')\n",
    "ax9.spines['top'].set_color('none')\n",
    "ax9.xaxis.set_ticks_position('bottom')\n",
    "ax9.spines['bottom'].set_position(('data',0)) # set position of x spine to x=0\n",
    "ax9.yaxis.set_ticks_position('left')\n",
    "ax9.spines['left'].set_position(('data',0))   # set position of y spine to y=0\n",
    "ax9.set_xlim([0, 3])\n",
    "ax9.set_ylim([-1,1])\n",
    "ax9.yaxis.set_major_formatter(ticker.NullFormatter())\n",
    "ax9.xaxis.set_major_formatter(ticker.NullFormatter())"
   ]
  },
  {
   "cell_type": "markdown",
   "id": "754dfc58",
   "metadata": {},
   "source": [
    "Los polos complejos conjugados los podemos definir en términos de sus partes real e imaginaria, tradicionalmente:\n",
    "\n",
    "$$ s=\\sigma\\pm i\\omega_d$$\n",
    "\n",
    "Ya que los polos complejos vienen de a pares, el denominador correspondiente al par de complejos es:\n",
    "\n",
    "$$a(s)=(s+\\sigma-i\\omega_d)(s+\\sigma+i\\omega_d)=(s+\\sigma)^2+\\omega_d^2$$"
   ]
  },
  {
   "cell_type": "markdown",
   "id": "8e79d620",
   "metadata": {},
   "source": [
    "Cuando encontramos la función de transferencia a partir de ecuaciones diferenciales, típicamente podemos escribir el resultado en la forma polinomial:\n",
    "\n",
    "$$G(s) = \\frac{\\omega_n^2}{s^2+2\\zeta\\omega_ns+\\omega_n^2}=\\frac{1}{\\frac{s^2}{\\omega_n^2}+2\\frac{\\zeta}{\\omega_n}s+1}$$"
   ]
  },
  {
   "cell_type": "markdown",
   "id": "141da7e7",
   "metadata": {},
   "source": [
    "Comparando las dos últimas ecuaciones, encontramos la relación entre los parámetros:\n",
    "\n",
    "$$\\sigma = \\zeta\\omega_n$$\n",
    "\n",
    "y\n",
    "\n",
    "$$\\omega_d = \\omega_n \\sqrt{1-\\zeta^2}$$\n",
    "\n",
    "A $\\zeta$ la conocemos como **coeficiente de amortiguamiento**, y a $\\omega_n$ como **frecuencia natural no-amortiguada**. A $\\omega_d$ se la conoce como **frecuencia amortiguada** del sistema y se corresponde con la parte imaginaria del sistema. Además, $\\sigma$ es la parte real de los polos complejos.\n",
    "\n",
    "En la figura siguiente observamos el significado gráfico de cada uno de estos parámetros.\n",
    ":::{figure-md}\n",
    "<img style=\"display:block; margin-left: auto; margin-right: auto;\" src=\"fig2.gif\" width=\"250\" alt=\"fig2.gif\">\n",
    "\n",
    "Significado de los parámetros parámetros respecto la ubicación de los polos en el plano $s$\n",
    ":::"
   ]
  },
  {
   "cell_type": "markdown",
   "id": "64e5d80e",
   "metadata": {},
   "source": [
    "Teniendo en cuenta la definición de los parámetro anteriores, podemos escribir la respuesta de un sistema con un par de polos complejos conjugados como:\n",
    "\n",
    "$$y(t)=1-e^{-\\sigma t}\\left(\\cos\\omega_d t +\\frac{\\sigma}{\\omega_d}\\sin\\omega_dt \\right) = 1-\\frac{e^{-\\sigma t}}{\\sqrt{(1-\\zeta^2)}}\\cos(\\omega t - \\beta)$$\n",
    "\n",
    "donde $\\beta = \\tan^{-1} \\left( \\dfrac{ \\zeta } { \\sqrt{1-\\zeta^2}}  \\right)= \\sin^{-1}(\\zeta)$."
   ]
  },
  {
   "cell_type": "markdown",
   "id": "d3745867",
   "metadata": {},
   "source": [
    "Podemos observar en la figura siguiente que cuando el coeficiente de amortiguamiento $\\zeta$ es cercano a cero las respuestas del sistema son oscilatorias. A medida que $\\zeta$ se acerca a 1 el amortiguamiento de las oscilaciones es mayor, hasta el punto de no presentarlas."
   ]
  },
  {
   "cell_type": "code",
   "execution_count": 21,
   "id": "a8276b70",
   "metadata": {
    "tags": [
     "hide-input"
    ]
   },
   "outputs": [],
   "source": [
    "t=np.linspace(0,12,200)\n",
    "wn=1\n",
    "xi=[0,.1,.2,.3,.4,.5,.6,.7,.8,.9,1.0]\n",
    "\n",
    "fig, ax = plt.subplots(figsize=(12, 5))\n",
    "\n",
    "for i in range(11):\n",
    "    G=ctrl.tf(wn**2,[1,2*xi[i]*wn,wn**2])\n",
    "    t,y=ctrl.step_response(G,T=t)\n",
    "    plt.plot(t,y)\n",
    "    indice=np.where(t>=3)\n",
    "    plt.text(3,y[(indice[0][0])]+0.01, r'$\\zeta$ = %s'%xi[i])\n",
    "\n",
    "ax.grid()\n",
    "ax.set_xlabel(r'$\\omega_n$ t')\n",
    "ax.set_ylabel('y(t)')\n",
    "ax.set_title(r' Respuesta de un sistema de segundo orden para distintos valores de $\\zeta$');"
   ]
  },
  {
   "cell_type": "markdown",
   "id": "d537daf4",
   "metadata": {
    "tags": [
     "hide-input"
    ]
   },
   "source": [
    "## Especificaciones en el dominio temporal\n",
    "\n",
    "Las especificaciones para el diseño de un sistema de control frecuentemente involucran ciertos requerimientos asociados a la respuesta temporal del sistema. Los requerimientos para una respuesta a un escalón los expresamos en términos de valores estándar ilustrados en la figura siguiente:\n",
    "\n",
    ":::{figure-md}\n",
    "<img style=\"display:block; margin-left: auto; margin-right: auto;\" src=\"fig4.png\" width=\"450\" alt=\"fig4.png\">\n",
    "\n",
    "Definiciones de tiempo de crecimiento, tiempo de establecimiento, tiempo del pico y sobrepico de una respuesta a un escalón.\n",
    "\n",
    ":::"
   ]
  },
  {
   "cell_type": "markdown",
   "id": "2593dc96",
   "metadata": {},
   "source": [
    "- *Tiempo de crecimiento (rise time)* $t_r$  es el tiempo que toma el sistema para alcanzar la vecindad de su nuevo set-point.\n",
    "\n",
    "- *Tiempo de establecimiento (settling time)* $t_s$ es el tiempo que toma el sistema para que el transitorio decaiga (en este curso se tomará por defecto el 1\\% del valor final).\n",
    "\n",
    "- *Sobrepico (overshoot)* $M_p$ es la cantidad máxima que el sistema se sobrepasa en el transitorio su valor final dividido ese valor final (frecuentemente se lo da en porcentaje).\n",
    "\n",
    "- *Tiempo del pico (peak time)* $t_p$ es el tiempo que toma el sistema para alcanzar el máximo valor (el sobrepico)."
   ]
  },
  {
   "cell_type": "markdown",
   "id": "efe9c83b",
   "metadata": {},
   "source": [
    "Analicemos el caso de una respuesta de un sistema de segundo orden (observemos la figura anterior). Examinando las curvas bajo las definiciones de las especificaciones podemos dar relaciones entre las especificaciones y los valores de $\\zeta$ y $\\omega_n$. Si consideramos, por ejemplo, la curva para $\\zeta = 0.5$ (como promedio), podemos decir que el tiempo de crecimiento es:\n",
    "\n",
    "$$t_r=\\frac{1.8}{\\omega_n}$$"
   ]
  },
  {
   "cell_type": "markdown",
   "id": "b6666636",
   "metadata": {},
   "source": [
    "Para el sobrepico podemos determinar una relación en forma más analítica, obteniendo para qué punto la derivada de la respuesta a un escalón de un sistema de segundo orden se hace cero, y luego evaluándola en ese punto. Así obtenemos:\n",
    "\n",
    "$$t_p =\\frac{\\pi}{\\omega_d}$$\n",
    "\n",
    "y\n",
    "\n",
    "$$M_P= e^{-\\dfrac{\\pi\\zeta}{\\sqrt{1-\\zeta^2}}}, \\quad 0\\leq \\zeta < 1$$"
   ]
  },
  {
   "cell_type": "markdown",
   "id": "9ba00f87",
   "metadata": {},
   "source": [
    "Para el caso del tiempo de establecimiento, la duración del mismo estará dada principalmente por la exponencial envolvente."
   ]
  },
  {
   "cell_type": "markdown",
   "id": "70fbabbe",
   "metadata": {},
   "source": [
    "Supongamos que queremos el tiempo de asentamiento al 1% entonces:\n",
    "\n",
    "$$e^{-\\zeta\\omega_nt_s}=0.01$$\n",
    "\n",
    "Aplicando el logaritmo natural a ambos miembros y despejando se tiene:\n",
    "\n",
    "$$t_s= \\frac{4.6}{\\sigma} =\\frac{4.6}{\\zeta\\omega_n} \\qquad \\text{(considerando la banda +/- 1%)}$$"
   ]
  },
  {
   "cell_type": "markdown",
   "id": "1248816b",
   "metadata": {},
   "source": [
    "Análogamente al 2%:\n",
    "\n",
    "$$e^{-\\zeta\\omega_nt_s}=0.02$$\n",
    "\n",
    "de donde se obtiene que:\n",
    "\n",
    "$$t_s = \\frac{4}{\\sigma} =\\frac{4}{\\zeta\\omega_n} \\qquad \\text{(considerando la banda +/- 2%)}$$"
   ]
  },
  {
   "cell_type": "markdown",
   "id": "7c452559",
   "metadata": {},
   "source": [
    "Este tipo de especificaciones nos darán inecuaciones que limitarán los parámetros $\\omega_n$, $\\zeta$, y $\\sigma$; que a su vez limitarán la ubicación de los polos en el plano s, como mostramos en la figura siguiente.\n",
    "\n",
    ":::{figure-md}\n",
    "<img style=\"display:block; margin-left: auto; margin-right: auto;\" src=\"fig5.png\" width=\"650\" alt=\"fig5.png\">\n",
    "\n",
    "Limitación de ubicación de los polos en el plano $s$ respecto a las especificaciones.\n",
    ":::"
   ]
  },
  {
   "cell_type": "markdown",
   "id": "6e638b79",
   "metadata": {},
   "source": [
    "## Reglas a considerar para el diseño de un sistema de control\n",
    "\n",
    "1. Para un sistema de segundo orden con ceros no finitos, los parámetros transitorios los aproximamos por:\n",
    "\n",
    "$$t_r\\approx \\frac{1.8}{\\omega_n}$$\n",
    "\n",
    "$$t_s\\approx \\frac{4.6}{\\zeta\\omega_n}\\qquad \\text{al 1%}$$\n",
    "\n",
    "1. Un cero adicional en el semiplano izquierdo aumentará el sobrepico si está en un factor 4 de la parte real de los polos complejos.\n",
    "1. Un cero adicional en el semiplano derecho bajará el sobrepico (y puede que la respuesta a un escalón parta en dirección contraria).\n",
    "1. Un polo adicional en el semiplano izquierdo aumentará el tiempo extra dentro de un factor 4 de la parte real de los polos complejos."
   ]
  }
 ],
 "metadata": {
  "jupytext": {
   "formats": "ipynb,md:myst",
   "text_representation": {
    "extension": ".md",
    "format_name": "myst",
    "format_version": 0.13,
    "jupytext_version": "1.11.0"
   }
  },
  "kernelspec": {
   "display_name": "Python 3",
   "language": "python",
   "name": "python3"
  },
  "language_info": {
   "codemirror_mode": {
    "name": "ipython",
    "version": 3
   },
   "file_extension": ".py",
   "mimetype": "text/x-python",
   "name": "python",
   "nbconvert_exporter": "python",
   "pygments_lexer": "ipython3",
   "version": "3.8.12"
  },
  "source_map": [
   13,
   27,
   35,
   41,
   51,
   57,
   63,
   69,
   71,
   75,
   77,
   91,
   106,
   114,
   123,
   127,
   131,
   140,
   144,
   153,
   165,
   190,
   195,
   204,
   232,
   247,
   259,
   267,
   284,
   290,
   296,
   311,
   323,
   329,
   333,
   337,
   353,
   358,
   365,
   369,
   385,
   389,
   397,
   584,
   594,
   600,
   619,
   627,
   631,
   653,
   666,
   676,
   682,
   692,
   696,
   706,
   716,
   726
  ]
 },
 "nbformat": 4,
 "nbformat_minor": 5
}