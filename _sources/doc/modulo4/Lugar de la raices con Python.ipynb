{
 "cells": [
  {
   "cell_type": "markdown",
   "id": "8cc6267b",
   "metadata": {},
   "source": [
    "# Lugar de las raíces usando Python"
   ]
  },
  {
   "cell_type": "code",
   "execution_count": 1,
   "id": "01a5cefa",
   "metadata": {
    "tags": [
     "remove-cell"
    ]
   },
   "outputs": [],
   "source": [
    "import control as ctrl\n",
    "import numpy as np\n",
    "import matplotlib.pyplot as plt"
   ]
  },
  {
   "cell_type": "code",
   "execution_count": 2,
   "id": "50e14133",
   "metadata": {},
   "outputs": [],
   "source": [
    "G=ctrl.tf([1,1],[1,9, 0, 0])\n",
    "_=ctrl.rlocus(G, grid=False, plot=True)"
   ]
  },
  {
   "cell_type": "markdown",
   "id": "a5058d18",
   "metadata": {},
   "source": [
    "El símbolo `_` evita que envíe a consola lo que devuelve la función `rlocus`. Si queremos obtener lo que devuelve deberíamos escribir."
   ]
  },
  {
   "cell_type": "code",
   "execution_count": 3,
   "id": "865d96bf",
   "metadata": {},
   "outputs": [
    {
     "data": {
      "text/plain": [
       "tuple"
      ]
     },
     "execution_count": 3,
     "metadata": {},
     "output_type": "execute_result"
    }
   ],
   "source": [
    "r=ctrl.rlocus(G, plot=False)\n",
    "type(r)"
   ]
  },
  {
   "cell_type": "markdown",
   "id": "abab1a39",
   "metadata": {},
   "source": [
    "Como podemos ver, r es una tupla con dos array. El primero contiene la posición de las raíces y la segunda la ganancia para las cuales se dan esas raíces.\n",
    "\n",
    "Recordando lo que vimos en la introducción a Python podemos expandir la tupla y poner los dos datos (ganancias y raíces para cada ganancia) en dos variables separadas."
   ]
  },
  {
   "cell_type": "code",
   "execution_count": 4,
   "id": "8b36c6a4",
   "metadata": {},
   "outputs": [],
   "source": [
    "roots_list, k = r"
   ]
  },
  {
   "cell_type": "markdown",
   "id": "00e57582",
   "metadata": {},
   "source": [
    "o bien directamente podemos hacer lo mismo con"
   ]
  },
  {
   "cell_type": "code",
   "execution_count": 5,
   "id": "f77f6bb4",
   "metadata": {},
   "outputs": [],
   "source": [
    "roots_list, k = ctrl.rlocus(G, plot=True, grid=False)"
   ]
  },
  {
   "cell_type": "markdown",
   "id": "a1915024",
   "metadata": {},
   "source": [
    "## Condición de Magnitud y Fase para un punto en particular del plano $s$"
   ]
  },
  {
   "cell_type": "markdown",
   "id": "0cc4a364",
   "metadata": {},
   "source": [
    "En Python para evaluar la función transferencia en un punto del plano $s$, solo es necesario:"
   ]
  },
  {
   "cell_type": "code",
   "execution_count": 6,
   "id": "74b1b5be",
   "metadata": {},
   "outputs": [
    {
     "data": {
      "text/plain": [
       "(-0.08439398595769328+1.89881723735337e-05j)"
      ]
     },
     "execution_count": 6,
     "metadata": {},
     "output_type": "execute_result"
    }
   ],
   "source": [
    "G2=ctrl.tf([1],[1, 4, 8, 0])\n",
    "pto=-0.667+2j\n",
    "G2(pto)"
   ]
  },
  {
   "cell_type": "markdown",
   "id": "ebc71e19",
   "metadata": {},
   "source": [
    "Para calcular $K$ debemos saber que en ese punto la modulo de $\\left|KG(s)\\right|$ debe ser 1. Entonces\n",
    "\n",
    "$$\n",
    "K=\\frac{1}{\\left|G(s_o)\\right|}\n",
    "$$\n",
    "\n",
    "Sabiendo que la función `abs` de `numpy` aplicada sobre un número complejo o un vector devuelve el módulo,  podemos realizar la cuenta anterior en Python de la siguiente manera:"
   ]
  },
  {
   "cell_type": "code",
   "execution_count": 7,
   "id": "5bdd8468",
   "metadata": {},
   "outputs": [
    {
     "data": {
      "text/plain": [
       "11.849185262917503"
      ]
     },
     "execution_count": 7,
     "metadata": {},
     "output_type": "execute_result"
    }
   ],
   "source": [
    "K=1/np.abs(G2(pto)) \n",
    "K"
   ]
  },
  {
   "cell_type": "markdown",
   "id": "5ef8ee2e",
   "metadata": {},
   "source": [
    "Para verificar que ese punto es efectivamente lugar geométrico de las raíces podemos hacer"
   ]
  },
  {
   "cell_type": "code",
   "execution_count": 8,
   "id": "34b3565f",
   "metadata": {},
   "outputs": [
    {
     "data": {
      "text/plain": [
       "179.98710877194665"
      ]
     },
     "execution_count": 8,
     "metadata": {},
     "output_type": "execute_result"
    }
   ],
   "source": [
    "np.angle(G2(pto))*180/np.pi"
   ]
  },
  {
   "cell_type": "code",
   "execution_count": 9,
   "id": "6bfa839b",
   "metadata": {},
   "outputs": [
    {
     "data": {
      "text/plain": [
       "179.98710877194665"
      ]
     },
     "execution_count": 9,
     "metadata": {},
     "output_type": "execute_result"
    }
   ],
   "source": [
    "# o en grados\n",
    "np.angle(G2(pto),deg=True)"
   ]
  },
  {
   "cell_type": "markdown",
   "id": "922ad162",
   "metadata": {},
   "source": [
    "Podemos ver que si bien el resultado no es 180, es un número muy cercando a este, por que el lugar de las raíces pasa por un punto muy cercano al evaluado cuando la ganancia es un número muy cercano a 11.85."
   ]
  },
  {
   "cell_type": "code",
   "execution_count": 10,
   "id": "9a6c61c7",
   "metadata": {},
   "outputs": [
    {
     "name": "stdout",
     "output_type": "stream",
     "text": [
      "179.25491462417511 -179.25491462417511\n"
     ]
    }
   ],
   "source": [
    "z1=G2(-.5+2.2j)\n",
    "z2=G2(-.5-2.2j)\n",
    "theta1=np.angle(z1,deg=True)\n",
    "theta2=np.angle(z2,deg=True)\n",
    "print(theta1,theta2)"
   ]
  },
  {
   "cell_type": "markdown",
   "id": "2bd44ec7",
   "metadata": {},
   "source": [
    "Con el cálculo anterior pretendo mostrar que la función `angle()` devuelve el ángulo de un número complejo, el signo depende del cuadrante donde se encuentre el número complejo. Por lo que, hay que tener cuidado a la hora de usarlo e interpretarlo."
   ]
  },
  {
   "cell_type": "markdown",
   "id": "b6702102",
   "metadata": {},
   "source": [
    "### Trazado del lugar geométrico de las raíces para ganancias negativas\n",
    "\n",
    "Internamente Python grafica el lugar de las raíces tomando una serie de ganancias y calculando los polos del sistema a lazo cerrado.\n",
    "\n",
    "Para obtener el Lugar geométrico de las raíces para ganancias negativas lo único necesario será cambiar el signo a la función transferencia.\n",
    "\n",
    "Para el ejemplo anterior, el lugar de las raíces sería:"
   ]
  },
  {
   "cell_type": "code",
   "execution_count": 11,
   "id": "bee7b6e1",
   "metadata": {},
   "outputs": [],
   "source": [
    "_=ctrl.rlocus(-G2, grid=False)"
   ]
  },
  {
   "cell_type": "code",
   "execution_count": null,
   "id": "61204dcf",
   "metadata": {},
   "outputs": [],
   "source": []
  }
 ],
 "metadata": {
  "jupytext": {
   "formats": "ipynb,md:myst",
   "text_representation": {
    "extension": ".md",
    "format_name": "myst",
    "format_version": 0.13,
    "jupytext_version": "1.11.0"
   }
  },
  "kernelspec": {
   "display_name": "Python 3",
   "language": "python",
   "name": "python3"
  },
  "language_info": {
   "codemirror_mode": {
    "name": "ipython",
    "version": 3
   },
   "file_extension": ".py",
   "mimetype": "text/x-python",
   "name": "python",
   "nbconvert_exporter": "python",
   "pygments_lexer": "ipython3",
   "version": "3.8.12"
  },
  "source_map": [
   13,
   17,
   25,
   28,
   32,
   35,
   41,
   43,
   47,
   49,
   53,
   57,
   61,
   71,
   74,
   78,
   82,
   85,
   89,
   95,
   99,
   109,
   113
  ]
 },
 "nbformat": 4,
 "nbformat_minor": 5
}