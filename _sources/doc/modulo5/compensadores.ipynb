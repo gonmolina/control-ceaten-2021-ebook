{
 "cells": [
  {
   "cell_type": "markdown",
   "id": "e34abc79",
   "metadata": {},
   "source": [
    "# Compensadores de adelanto y de retraso de fase\n",
    "\n",
    "Controlar un sistema dado es establecer en su funcionamiento de acuerdo con unos requisitos o especificaciones. En este capítulo se analizan los cambios que se pueden lograr en un dispositivo al añadir un nuevo polo y un nuevo cero al sistema, que se introduce en un lazo de control.\n",
    "\n",
    "Estos nuevos elementos no tienen por qué ser de las mismas características que la planta. Si la planta es un sistema mecánico, el  controlador puede estar constituido por nuevos elementos mecánicos o un dispositivo eléctrico. La implementación final del compensador no importa mientras su función de transferencia, la ecuación diferencial que gobierna su comportamiento, sea la misma.\n",
    "\n",
    "Se puede definir compensación como la modificación de la dinámica de un sistema para cumplir unas especificaciones determinadas."
   ]
  },
  {
   "cell_type": "markdown",
   "id": "f743bf5c",
   "metadata": {},
   "source": [
    "## Generalidades\n",
    "\n",
    "El compensador objeto de estudio en este capítulo actúa sobre la planta en función del error que existe entre la salida del sistema y la referencia que se desea seguir como se ve la figura siguiente, y posee una función de transferencia con una ganancia, un polo y un cero.\n",
    "\n",
    ":::{figure-md} compensador1\n",
    "\n",
    "<img style=\"display:block; margin-left: auto; margin-right: auto;\" src=\"fig1.png\" width=\"350\" alt=\"Diagrama de bloques de sistema a lazo cerrado compensado\">\n",
    "\n",
    "Compensador polo-cero\n",
    ":::\n",
    "\n",
    "Con estos presupuestos, se da por supuesto que el sistema se controla con un lazo de realimentación negativa unitaria. Sin embargo, en ocasiones pueden diseñarse compensadores que se coloquen en otras posiciones del lazo de control, resultando una realimentación negativa no unitaria. Este tipo de compensadores no se estudiarán en la presente asignatura."
   ]
  },
  {
   "cell_type": "markdown",
   "id": "2b93d316",
   "metadata": {},
   "source": [
    "### Especificaciones\n",
    "\n",
    "Las especificaciones exigibles a un sistema pueden ser de muy distinta índole.  Habitualmente se clasifican como restricciones del sistema en el dominio temporal:\n",
    "\n",
    "- *Régimen transitorio*: tiempo de establecimiento, tiempo de crecimiento, tiempo de pico, sobrevalor máximo, ancho de banda, etc.\n",
    "- *Régimen permanente*: error nulo o limitado ante un tipo determinado de entrada, rechazo a las perturbaciones, etc."
   ]
  },
  {
   "cell_type": "markdown",
   "id": "8598c51f",
   "metadata": {},
   "source": [
    "### Tipos de compensación\n",
    "\n",
    "Es posible lograr que un sistema cumpla una serie de especificaciones con distintos compensadores. Una posible clasificación para los tipos de compensador puede ser:\n",
    "\n",
    "- *Compensador de adelanto de fase.* El cero produce un adelanto de fase a bajas frecuencias respecto el polo. El resultado final es que el compensador adelanta fase en un determinado rango de frecuencias.\n",
    "- *Compensador de retraso de fase.* En este caso el polo produce un retraso de fase a más bajas frecuencias respecto el cero. El resultado final es que el compensador retrasa fase en un determinado rango de frecuencias.\n",
    "- *Compensador de adelanto-retraso de fase.* el compensador consiste el producto de las funciones de transferencia de un compensador de adelanto de fase y uno de retraso. El compensador de retraso se coloca a menores frecuencias que el de adelanto.\n",
    "\n",
    ":::{figure-md} compensador-adelanto-atraso\n",
    "\n",
    "<img style=\"display:block; margin-left: auto; margin-right: auto;\" src=\"fig2.png\" width=\"450\" alt=\"Compensación adelanto - Retraso\">\n",
    "\n",
    "Compensador adelanto-atraso\n",
    ":::"
   ]
  },
  {
   "cell_type": "markdown",
   "id": "f2eaea3f",
   "metadata": {},
   "source": [
    "## Método de ajuste por lugar de las raíces\n",
    "\n",
    "En el plano $s$ se añade el nuevo polo y cero del compensador. Se modifica el lugar de las raíces del sistema de forma que los polos dominantes de la planta en lazo cerrado queden ubicados donde se desee."
   ]
  },
  {
   "cell_type": "markdown",
   "id": "6aa97f48",
   "metadata": {},
   "source": [
    "### Compensador de adelanto de fase\n",
    "\n",
    "Un compensador de adelanto de fase tiene la siguiente expresión:\n",
    "\n",
    "$$D(s)=K\\frac{1+Ts}{1+\\alpha T s}=\\frac{K}{\\alpha}\\frac{s+\\frac{1}{T}}{s+\\frac{1}{\\alpha T}}=K_c\\frac{s+a}{s+b}$$\n",
    "\n",
    "con $0<\\alpha<1$ y $a<b$.\n",
    "\n",
    "La primera expresión es más útil cuando se trabaja en el diagrama de Bode, mientras que la segunda\n",
    "es preferible cuando se trabaja en el lugar de las raíces.  En los siguientes apartados se explicarán los procedimientos de ajuste de los tres parámetros del compensador. Para todos los métodos se usará siempre el mismo ejemplo de la figura siguiente:\n",
    "\n",
    ":::{figure-md} Sistema-sin-compensar\n",
    "\n",
    "<img style=\"display:block; margin-left: auto; margin-right: auto;\" src=\"fig3.png\" width=\"250\" alt=\"Sistema que se desea compensar\">\n",
    "\n",
    "Sistema a compensar\n",
    "\n",
    ":::\n",
    "\n",
    "Se trata de un sistema mecánico en el que un actuador mueve una compuerta de masa $m$ dentro de un medio con viscosidad $c$. El actuador debe colocar la compuerta siguiendo la referencia de posición que se le comande de tal forma que el tiempo de establecimiento sea menor o igual que 2 segundos y que el sobrevalor máximo respecto la referencia sea del 20% o menor. La masa de la compuerta es de 0.25 kg y el coeficiente viscoso es 0.5 Ns/m."
   ]
  },
  {
   "cell_type": "markdown",
   "id": "2c39ebf3",
   "metadata": {},
   "source": [
    "La función de transferencia que relaciona la fuerza $f$ aplicada a la masa y su desplazamiento, sustituyendo también los valores numéricos se ve en la siguiente expresión:\n",
    "\n",
    "$$G(s)=\\frac{1}{ms^2+cs}=\\frac{4}{s(s+2)}$$"
   ]
  },
  {
   "cell_type": "markdown",
   "id": "ad61ce63",
   "metadata": {},
   "source": [
    "## Ajuste por lugar de las raíces\n",
    "\n",
    "La introducción de un polo y un cero en el sistema puede beneficiar al régimen transitorio, es decir, puede hace el sistema más rápido si el nuevo cero está más cerca del origen que el nuevo polo. En ese caso, las ramas del lugar de las raíces se alejan del eje imaginario del plano $S$. Por tanto, se puede elegir una ganancia para el sistema que deje los polos dominantes del sistema con un tiempo de establecimiento menor.\n",
    "\n",
    ":::{figure-md} efecto-polo\n",
    "<img style=\"display:block; margin-left: auto; margin-right: auto;\" src=\"fig4.png\" width=\"900\" alt=\"Efecto de la adición de un polo y un cero en el lugar de las raíces\">\n",
    "\n",
    "Efecto de un polo en lugar de las raíces\n",
    ":::\n",
    "\n",
    "Este efecto se muestra cualitativamente en la figura anterior justifica la definición del compensador de adelanto de fase donde se decía $a < b$.\n",
    "Evidentemente, la localización de polo y del cero del compensador dependerá de cuánto se quiera alejar las ramas del lugar de las raíces del eje imaginario. Son las especificaciones que se deseen conseguir las que van a marcar la separación relativa del nuevo polo y cero. Resulta casi inmediato, a partir de los requerimientos de tiempo de  establecimiento y sobrevalor calcular los polos dominantes objeto del diseño.\n",
    "\n",
    "$$\n",
    "\\begin{eqnarray}\n",
    "M_p<0.2 & \\implies \\zeta \\ge 0.45, &\\text{se elije }\\zeta=0.5\\\\\n",
    "t_s<2\\text{seg} & \\implies \\omega_n \\ge 4\\text{rad/s}, &\\text{se elije }\\omega_n=4\\text{rad/s}\\\\\n",
    "p_{\\Delta}&=-\\zeta\\omega_n\\pm\\omega_n\\sqrt{1-\\zeta^2}j&=-2\\pm 3.46j\n",
    "\\end{eqnarray}\n",
    "$$"
   ]
  },
  {
   "cell_type": "markdown",
   "id": "9d7d6136",
   "metadata": {},
   "source": [
    "Con el valor de sobrevalor se elige un valor para el amortiguamiento de los polos objetivo, primer ecuación de las tres anteriores, y con éste y el tiempo de establecimiento se calcula la frecuencia natural.\n",
    "\n",
    "La posición final de los polos objetivo, depende de las elecciones que haya realizado el ingeniero. Es difícil que dos ingenieros obtengan exactamente la misma solución numérica para un mismo problema. Por tanto, las soluciones que se proponen en estos apuntes no son las únicas que se pueden dar correctamente para cada problema.\n",
    "\n",
    "Obtenida la localización de los polos objetivo, se aplica en ese punto la condición del ángulo. Esto se realiza precisamente porque se quiere garantizar que esos puntos pertenecen al nuevo lugar de las raíces del sistema.\n",
    "\n",
    "Evidentemente, la condición del ángulo se debe aplicar teniendo en cuenta el nuevo polo y cero que introduce el compensador, cuya posición todavía está por determinar, ver la figura siguiente:\n",
    "\n",
    ":::{figure-md} and-y-dist\n",
    "<img style=\"display:block; margin-left: auto; margin-right: auto;\" src=\"fig5.png\" width=\"400\" alt=\"Ángulos y distancias vistas al polo objetivo\">\n",
    "\n",
    "Ángulos y distancias vistas al polo objetivo\n",
    ":::"
   ]
  },
  {
   "cell_type": "markdown",
   "id": "9c247cf7",
   "metadata": {},
   "source": [
    "$$\\sum_{i=1}^m \\hat{z_ip_\\Delta}-\\hat{z_jp_\\Delta}=\\theta_z-\\theta_p-\\theta_1-\\theta_2=\\phi_c-\\theta_1-\\theta_2 = -180$$"
   ]
  },
  {
   "cell_type": "markdown",
   "id": "03c1e069",
   "metadata": {},
   "source": [
    "En la ecuación anterior los ángulos vistos desde los polos o ceros de la planta son conocidos. La única incógnita es la diferencia de ángulos del cero y polo del compensador. A esa diferencia se le llamará $\\phi_c$ y es el ángulo con que el polo objetivo “ve” al polo y cero del compensador. Cualquier pareja polo-cero que el polo objetivo vea con el mismo ángulo $\\phi_c$ es una posible solución al problema.\n",
    "\n",
    "$$\\phi_c =-180^0+\\theta_1+\\theta_2= -180^0+120^0+90^0=30^0$$"
   ]
  },
  {
   "cell_type": "markdown",
   "id": "5beffef3",
   "metadata": {},
   "source": [
    "En el caso concreto del ejemplo $\\phi_c$ vale $30^0$. Siempre que se trate de un compensador de adelanto de fase este ángulo debe dar positivo, ya que el cero está más cercano al origen y verá al polo objetivo con mayor ángulo que el polo del compensador. Cualquier pareja polo-cero que sea vista por el polo objetivo con 30$^0$ es una hipotética solución al problema.\n",
    "\n",
    ":::{figure-md}\n",
    "\n",
    "<img style=\"display:block; margin-left: auto; margin-right: auto;\" src=\"fig6.png\" width=\"800\" alt=\"Posiciones del par polo-cero posibles del compensador\">\n",
    "\n",
    "Posiciones del par polo-cero posibles del compensador\n",
    ":::"
   ]
  },
  {
   "cell_type": "markdown",
   "id": "6d6fe86f",
   "metadata": {},
   "source": [
    "Sin embargo, la elección de la posición del par polo-cero no es absolutamente arbitraria. Efectivamente se puede conseguir que el lugar de las raíces pase por el polo objetivo, pero puede ser que en la configuración final del sistema, el polo dominante sea otro. Esta posibilidad hay que evitarla. Si se busca que el régimen transitorio lo caracterice la posición de los polos objetivo, éstos deben quedar como dominantes del sistema.\n",
    "\n",
    "Incluso es posible colocar el par polo-cero en la zona del plano $S$ de parte real positiva y cumplir el deseo de que el polo objetivo pertenezca al lugar de las raíces, pero dejar el tercer polo del sistema de forma que lo hace inestable.\n",
    "En conclusión, la posición del polo y del cero del compensador es libre mientras el polo objetivo los vea con el ángulo $\\phi_c$ adecuado y éstos queden como dominantes del sistema.\n",
    "\n",
    "Dejando claro que el ingeniero puede elegir la posición del polo y del cero del compensador, cumpliendo lo que se ha enunciado en el párrafo anterior, en los siguientes apartados se explican algunos criterios que se han propuesto para su colocación. Dependiendo de la planta es posible que alguno de los criterios sea inviable o no consiga que el polo objetivo quede dominante en el sistema compensado. Siempre habrá que comprobar este último extremo, aunque sea de forma cualitativa.\n",
    "\n",
    "En cuanto al cálculo de la ganancia del compensador, se debe aplicar la condición del módulo en el polo objetivo empleando lógicamente la posición del polo y el cero del compensador que se haya elegido.\n",
    "\n",
    "$$K_cK_{la}=\\frac{\\prod_{j=1}^n \\overline{p_jp_\\Delta}}{\\prod_{i=1}^m\\overline{z_ip_\\Delta}}=\\frac{d_1d_2d_p}{d_z}$$\n",
    "\n",
    "La única incógnita de la ecuación anterior es la ganancia $K_c$ del compensador. En el ejemplo, la ganancia $K$ la de la planta en lazo abierto expresando los polos y ceros en monomios es 4, la distancia $d_1$ es 4, la distancia $d_2$ es 3.46 y las distancias $d_z$ y $d_p$ se miden en el lugar de las raíces y dependen de la posición elegida para el polo y el cero del compensador."
   ]
  },
  {
   "cell_type": "markdown",
   "id": "5f8ec21f",
   "metadata": {},
   "source": [
    "### Criterio de la bisectriz (opcional)\n",
    "\n",
    "La posición del polo y del cero del compensador se elige centrándolos sobre la bisectriz del arco que forma la recta que une el polo objetivo con el origen del plano $S$, y una recta horizontal que pasa por el polo objetivo, como se ve en la siguiente figura:\n",
    "\n",
    ":::{figure-md} Criterio-bisectriz\n",
    "\n",
    "<img style=\"display:block; margin-left: auto; margin-right: auto;\" src=\"fig7.png\" width=\"350\" alt=\"Criterio de la bisectriz\">\n",
    "\n",
    "Criterio de la bisectriz\n",
    ":::"
   ]
  },
  {
   "cell_type": "markdown",
   "id": "990e77ef",
   "metadata": {},
   "source": [
    "En el ejemplo propuesto, el polo del compensador queda aproximadamente en −5.4 y el cero en −2.9. Al aplicar la condición del módulo en el polo objetivo, la ganancia del compensador resulta ser aproximadamente 4.7, por tanto, el compensador tiene la siguiente expresión:\n",
    "\n",
    "$$D(s)=4.7\\frac{s+2.9}{s+5.4}$$\n",
    "\n",
    "Se puede observar en la figura anterior que en el caso del ejemplo, este criterio no hubiera sido recomendable si el ángulo $\\phi_c$ hubiera sido mayor que 60$^0$ . Si así fuera, el cero del compensador quedaría entre los dos polos de la planta y el lugar de las raíces tendría un tercer polo real en lazo cerrado más dominante que los polos objetivo."
   ]
  },
  {
   "cell_type": "markdown",
   "id": "306a39cd",
   "metadata": {},
   "source": [
    "### Criterio de anular el segundo polo dominante (muy útil y fácil)\n",
    "\n",
    "El cero del compensador se sitúa sobre el segundo polo dominante de la planta en lazo abierto y el polo donde quede, manteniendo el ángulo $\\phi_c$. El resultado es un sistema compensado con igual número de polos que sin compensar: no aparece ningún polo nuevo.\n",
    "\n",
    ":::{figure-md} segundo-polo\n",
    "\n",
    "<img style=\"display:block; margin-left: auto; margin-right: auto;\" src=\"fig8.png\" width=\"250\" alt=\"Criterio de anular le segundo polo dominante de la planta\">\n",
    "\n",
    "Criterio segundo polo dominante\n",
    ":::"
   ]
  },
  {
   "cell_type": "markdown",
   "id": "bf52a975",
   "metadata": {},
   "source": [
    "En el ejemplo propuesto, el cero del compensador queda en −2 y el cero en −4. Al aplicar la condición del módulo en el polo objetivo, la ganancia del compensador resulta ser 4, por tanto, el compensador tiene la siguiente expresión:\n",
    "\n",
    "$$D(s)=\\frac{s+2}{s+4}$$\n",
    "\n",
    "La limitación de uso de este criterio dependerá evidentemente de la posición del segundo polo dominante de la planta en lazo abierto. En el caso del ejemplo, este criterio no se puede emplear para un ángulo $\\phi_c$ mayor que 90$^0$."
   ]
  },
  {
   "cell_type": "markdown",
   "id": "f2a1b8e0",
   "metadata": {},
   "source": [
    "### Criterio del cero bajo el polo objetivo (sencillo)\n",
    "\n",
    "El cero del compensador se sitúa justo debajo del polo objetivo y el polo donde quede, manteniendo el ángulo $\\phi_c$. En este ejemplo, el resultado es el mismo que en el apartado anterior, porque ha coincidido que el segundo polo dominante de la planta en lazo abierto queda debajo del polo objetivo. Sin embargo, lo habitual es que den resultados distintos.\n",
    "\n",
    "Este método se puede emplear sólo en el caso de que queden a la derecha del cero del compensador al menos dos polos de la planta en lazo abierto. Se puede observar en la figura anterior que el ejemplo se encuentra en el caso límite de uso, ya que si el segundo polo de la planta hubiese estado más a la izquierda, el tercer polo en lazo cerrado del sistema quedaría más dominante que los polos objetivo.\n",
    "\n",
    "Si se cumple lo dicho en el párrafo anterior, para cualquier planta que se desee compensar, este criterio se puede emplear siempre que el ángulo $\\phi_c$ sea igual o menor que 90$^0$."
   ]
  },
  {
   "cell_type": "markdown",
   "id": "5cfde1c2",
   "metadata": {},
   "source": [
    "### Criterio de un compensador proporcional-derivativo (IMPORTANTE)\n",
    "\n",
    "El polo del compensador se sitúa en el $−\\infty$ del plano $S$ y el cero del compensador donde quede, manteniendo el ángulo $\\phi_c$. El compensador, por tanto, está compuesto por un único cero y ningún polo, (ver la figura siguiente).\n",
    "\n",
    ":::{figure-md} criterio-PD\n",
    "\n",
    "<img style=\"display:block; margin-left: auto; margin-right: auto;\" src=\"fig9.png\" width=\"300\" alt=\"Criterio de un compensador proporcional-derivativo\">\n",
    "\n",
    "Criterio de un compensador proporcional-derivativo\n",
    ":::"
   ]
  },
  {
   "cell_type": "markdown",
   "id": "61fc421e",
   "metadata": {},
   "source": [
    "El ángulo $\\phi_c$ coincide exactamente con el ángulo del que ve el cero al polo objetivo. En el ejemplo propuesto, el cero del compensador queda en −8 y la ganancia resulta ser 0.5, por tanto, el compensador tiene la siguiente expresión:\n",
    "\n",
    "$$D(s)=0.5(s+8)$$\n",
    "\n",
    "Este criterio, como la anulación de un polo de la planta en lazo abierto, no añade ningún polo nuevo en el sistema en lazo cerrado. El nombre de compensador proporcional-derivativo es coherente si se calcula en el dominio del tiempo cuál es la actuación sobre la planta $u(t)$ en función del error $e(t)$ de la ecuación siguiente donde se observa que hay una componente proporcional al error y otra proporcional a la derivada del error.\n",
    "\n",
    "$$U(s)=K_c(s+a)E(s)=K_cE(s)+aK_cE(s)\\xrightarrow{\\mathcal{L}^{-1}}u(t)=K_c\\frac{de(t)}{dt}+aK_ce(t)$$"
   ]
  },
  {
   "cell_type": "markdown",
   "id": "5e56fb03",
   "metadata": {},
   "source": [
    "### Comparación de la respuesta temporal de los distintos criterios (IMPORTANTE)\n",
    "\n",
    "Resulta interesante comparar la respuesta temporal que consiguen los distintos criterios que se han enunciado. En la figura siguiente se nuestra la respuesta ante una entrada escalón unidad del sistema en lazo cerrado con los distintos compensadores que se han ido calculando.\n",
    "\n",
    "Evidentemente, todos los compensadores consiguen cumplir las especificaciones de partida: tiempo de establecimiento menor que 2 segundos y sobrevalor del orden del 20 %. El compensador PD es fácilmente reconocible porque la pendiente inicial no es nula. El compensador del criterio de la bisectriz es un poco más rápido que el que anula el polo de la planta porque tiene la influencia del cero del compensador — también por eso tiene un poco más de sobrevalor.\n",
    "\n",
    "Antes de continuar, conviene señalar que el método del lugar de las raíces que se ha descrito no permite el cumplimiento de especificaciones de error en régimen permanente. Los parámetros $K_c$ , $a$ y $b$ del compensador se emplean para localizar los polos del sistema en lazo cerrado. Por tanto sólo puede lograr especificaciones de régimen transitorio.\n",
    "\n",
    "Ha quedado patente en el ejemplo que se ha empleado que existe más de un compensador válido para unas especificaciones dadas. Sin embargo, a la hora de resolver un problema hay que decir explícitamente qué elecciones se están tomando en cada momento de forma justificada.\n",
    "\n",
    "Se puede diseñar el compensador sin llegar a dibujar exactamente el lugar de las raíces del sistema, compensado o no, porque todas las operaciones se hacen con la posición de los polos y ceros de la planta y compensador en lazo abierto. El único punto que se conoce de forma exacta del lugar de las raíces puede ser el polo objetivo. Sin embargo, es muy conveniente al menos imaginar cómo va a quedar el lugar de las raíces del sistema compensado, de forma cualitativa.\n",
    "\n",
    "Siempre que se pretendan mejorar el régimen transitorio, en el sentido de hacer el sistema más rápido de lo que de suyo es, el ángulo $\\phi_c$ va a dar positivo. Si da un ángulo pequeño, por ejemplo menos de 10$^0$, significa que el lugar de las raíces del sistema sin compensador pasa bastante cerca de los polos objetivo. En este caso, es suficiente con diseñar un compensador puramente proporcional que deje los polo en lazo cerrado lo más cerca posible de los polos objetivo.\n",
    "\n",
    "Si $\\phi_c$ da un ángulo muy grande, por ejemplo mayor que 70$^0$, significa que el polo objetivo queda muy lejos del lugar de las raíces del sistema sin compensador. Quizá se pueden modificar las elecciones realizadas para el cálculo de los polos objetivo para que de un ángulo algo menor. Si no es así, no es recomendable elegir el compensador de adelanto de fase para cumplir las especificaciones exigidas. Habría que ir a otro tipo de controlador o afirmar que no se pueden cumplir dichas especificaciones."
   ]
  },
  {
   "cell_type": "code",
   "execution_count": 1,
   "id": "9424e786",
   "metadata": {},
   "outputs": [],
   "source": [
    "import control as ctrl\n",
    "import numpy as np\n",
    "import matplotlib.pyplot as plt"
   ]
  },
  {
   "cell_type": "code",
   "execution_count": 2,
   "id": "3590207b",
   "metadata": {},
   "outputs": [],
   "source": [
    "G=ctrl.tf([4],[1, 2, 0])\n",
    "po=-2+3.46j\n",
    "\n",
    "D1=4.7*ctrl.tf([1,2.9],[1,5.4])\n",
    "D2=4*ctrl.tf([1,2],[1,4])\n",
    "D3=0.5*ctrl.tf([1,8],[1])\n",
    "\n",
    "T1=ctrl.feedback(G*D1,1)\n",
    "T2=ctrl.feedback(G*D2,1)\n",
    "T3=ctrl.feedback(G*D3,1)\n",
    "\n",
    "t1,y1=ctrl.step_response(T1)\n",
    "t2,y2=ctrl.step_response(T2)\n",
    "t3,y3=ctrl.step_response(T3)"
   ]
  },
  {
   "cell_type": "code",
   "execution_count": 3,
   "id": "0c405d8b",
   "metadata": {
    "tags": [
     "hide-input"
    ]
   },
   "outputs": [],
   "source": [
    "fig, ax=plt.subplots(figsize=(12,4))\n",
    "ax.set_title(\"Comparación de los diferentes criterios\")\n",
    "ax.plot(t1,y1, alpha=0.7, label=\"bisectriz\")\n",
    "ax.plot(t2,y2, alpha=0.7, label=\"Anular 2do\")\n",
    "ax.plot(t3,y3, alpha=0.7, label=\"PD\")\n",
    "ax.grid()\n",
    "ax.set_xlabel('Tiempo [s]')\n",
    "ax.set_ylabel('Salida [m]')\n",
    "ax.legend();"
   ]
  },
  {
   "cell_type": "markdown",
   "id": "0ff9444a",
   "metadata": {},
   "source": [
    "## Compensador por retraso de fase\n",
    "\n",
    "Un compensador de retraso de fase tiene la siguiente forma:\n",
    "\n",
    "$$D(s)=K\\frac{1+Ts}{1+\\beta Ts}= \\frac{K}{\\beta}\\frac{s+\\frac{1}{T}}{s+\\frac{1}{\\beta T}}=K_c\\frac{s+a}{s+b}$$\n",
    "\n",
    "con $\\beta>1$, y $a>b$\n",
    "\n",
    "La primera expresión es más útil cuando se trabaja en el diagrama de Bode, mientras que la última es preferible cuando se trabaja en el lugar de las raíces."
   ]
  },
  {
   "cell_type": "markdown",
   "id": "7a747750",
   "metadata": {},
   "source": [
    "### Compensador que mejora el error\n",
    "\n",
    "Un compensador de retraso de fase puede utilizarse para disminuir el error en régimen permanente sin empeorar el régimen transitorio del sistema. Haciendo $K$ igual a $\\beta$ la ganancia y fase del compensador valen ambos 0 para altas frecuencias y por tanto no se modifica notoriamente el lugar de las raíces de la planta. Sin embargo, a bajas frecuencias se produce un aumento de ganancia, por lo que aumenta el coeficiente de error del sistema y por tanto disminuye el error del mismo.\n",
    "\n",
    "$$D(s)=\\beta\\frac{1+Ts}{1+\\beta Ts}= \\frac{s+\\frac{1}{T}}{s+\\frac{1}{\\beta T}}=\\frac{s+a}{s+b}$$\n",
    "\n",
    "Si se emplea el compensador de retraso de fase exclusivamente para disminuir el error en régimen transitorio, lo único que hay que hacer es: calcular $\\beta$ con la expresión siguiente\n",
    "\n",
    "$$K_P=\\lim_{s\\rightarrow 0}\\beta\\frac{1+Ts}{1+\\beta Ts}G(s)=\\beta G(0)$$\n",
    "\n",
    "igualar la ganancia $K$ a $\\beta$ para que el compensador no modifique el lugar de las raíces y elegir $T$ de tal forma que el cero del compensador quede entre una década y una octava antes del $\\omega_n$ de los polos objetivos. Esto último se hace para asegurar precisamente que el compensador no modifica el lugar de las raíces en la zona del transitorio."
   ]
  },
  {
   "cell_type": "markdown",
   "id": "ed2dcf4c",
   "metadata": {},
   "source": [
    "### Compensador de retraso que anula el error o compensador proporcional-integral\n",
    "\n",
    "Se trata de la misma idea que en el apartado anterior, pero en lugar de disminuir el error del sistema, se anula. Para ello se incrementa el tipo del sistema en una unidad, haciendo que el polo del compensador se sitúe en el origen del plano $S$.\n",
    "\n",
    "$$D(s)=\\frac{1+Ts}{Ts}=\\frac{s+\\frac{1}{T}}{s}=\\frac{s+a}{s}$$\n",
    "\n",
    "Este tipo de compensador se llama proporcional-integral porque en el dominio del tiempo la actuación en la planta es la suma de una parte proporcional al error y otra proporcional a la integral del error.\n",
    "\n",
    "$$U(s)=\\frac{s+a}{s}E(s)=E(s)+a\\frac{E(s)}{s}\\xrightarrow{\\mathcal{L}^{-1}}u(t)=e(t)+a\\int_{0}^{t}e(\\tau)d\\tau$$\n",
    "\n",
    "El método de diseño es todavía más sencillo que el caso anterior porque sólo haya que elegir la constante de tiempo $T$ del cero del compensador de forma que éste quede entre una década y una octava antes de la frecuencia de cruce de ganancias de la planta cuyo transitorio no se quiere modificar."
   ]
  },
  {
   "cell_type": "markdown",
   "id": "b1a52c86",
   "metadata": {},
   "source": [
    "## Ejemplo de diseño usando lugar de las raíces (MUY DIFÍCIL)\n",
    "\n",
    "El avión Piper Dakota tiene una función transferencia entre la entrada ángulo del elevador y el ángulo de ataque del avión (attitude pitch)\n",
    "\n",
    "$$ G(s) = \\dfrac{\\theta(s)}{\\delta_e(s)} = \\dfrac{160(s+2.5)(s+0.7)}{(s^2+5s+40)(s^2+0.03s+0.06)} $$\n",
    "\n",
    "1. Diseñar un piloto automático tal que la respuesta a una entrada de referencia en el ángulo de ataque tenga un tiempo de crecimiento (rise time) menor a 1 segundo y que su sobrevalor sea menor al 10%\n",
    "1. Cuando hay una perturbación constante sobre el avión  tal que el piloto automático tenga que suministrar una fuerza constante sobre los controles para un vuelo estacionario, se dice que el vuela está sin ajustar (out of trim). La función transferencia entre la perturbación y el ángulo de ataque es la misma que la de la anterior, es decir:\n",
    "\n",
    "$$G_d(s) = \\dfrac{\\theta(s)}{M_d(s)} = \\dfrac{160(s+2.5)(s+0.7)}{(s^2+5s+40)(s^2+0.03s+0.06)}$$\n",
    "\n",
    "donde $M_d$ es la perturbación, que es el momento perturbativo actuante sobre el avión. Existe una superficie aerodinámica para ajustar esto, $\\delta_t$ que puede ser actuada y cambiará el momento actuante sobre el avión.\n",
    "\n",
    "La influencia de esta perturbación $M_d$ y $\\theta_t$ se muestra en el diagrama de la izquierda."
   ]
  },
  {
   "cell_type": "markdown",
   "id": "730dd36c",
   "metadata": {},
   "source": [
    "Para las formas de actuación manual y con piloto automático es deseable que haya un ajuste del trim para que no haya esfuerzo de control por el elevador (eso es, $\\delta_e=0$). En vuelo manual, esto significa el que piloto no tiene que hacer fuerza sobre los mandos para mantener la altitud, mientas que para el control de piloto automático, se reduce la cantidad de potencia eléctrica requerida y el ahorro de mantenimiento y recambio de los servomotores y actuadores del elevador. Diseñar un piloto automático que comande el ajuste de trim con el uso de $\\delta_t$ tal que lleve a $\\delta_e=0$ para una perturbación constante $M_d$ y que además cumpla con las especificaciones del punto anterior."
   ]
  },
  {
   "cell_type": "markdown",
   "id": "e6938417",
   "metadata": {},
   "source": [
    "### Solución\n",
    "\n",
    "Para satisfacer el requerimiento de  que el tiempo de crecimiento $t_r <1$seg indica que para un sistema de segundo orden ideal, $\\omega_n$ debe ser más grande que 1.8 rad/seg. Y para lograr un sobrevalor menor al 10% se debe tener un coeficiente de amortiguamiento $\\zeta >0.6$. En el proceso de diseño, podemos examinar el lugar de raíces para buscar un candidato compensar mediante realimentación y luego observar la respuesta de tiempo resultante cuando las raíces parecen satisfacer las pautas de diseño.\n",
    "\n",
    "Sin embargo, dado que este es un sistema de cuarto orden, las pautas de diseño pueden no ser suficientes o pueden ser demasiado restrictivas.\n",
    "\n",
    "Para iniciar el proceso de diseño, a menudo es útil observar las características del sistema con realimentación proporcional, es decir, el compensador $D(s) = 1$. Los comandos para crear el lugar de raíces con respecto a $K$ y una respuesta de tiempo para el caso de realimentación proporcional con $K = 0.3$ son las siguientes:"
   ]
  },
  {
   "cell_type": "code",
   "execution_count": 4,
   "id": "dce8e597",
   "metadata": {},
   "outputs": [],
   "source": [
    "s = ctrl.tf('s')\n",
    "sysG = (160* (s+2.5)*(s+0.7))/((s**2+5*s+40)*(s**2+0.03*s+0.06))\n",
    "_=ctrl.rlocus(sysG, grid=False) # el guión bajo es para no tener las puntos de las raíces y las ganancias como salidas por pantalla\n",
    "plt.gcf().set_size_inches(8,6)"
   ]
  },
  {
   "cell_type": "markdown",
   "id": "82aca6b1",
   "metadata": {},
   "source": [
    "Podemos ver que para lograr el tiempo de respuesta con las dos raíces rápidas deseadas como mínimo tenemos que darle una ganancia de 0.3. Sin embargo para esta ganancia el sobrevalor va a dar más grande ya que que coeficiente de amortiguamiento es de 0.19 que es menor 0.6 requerido."
   ]
  },
  {
   "cell_type": "markdown",
   "id": "dae7f0ab",
   "metadata": {},
   "source": [
    "Estos polos lentos tendrán algún efecto en las respuesta y causarán un establecimiento más largo. Sin embargo, la característica dominante de la respuesta que determina si la compensación cumple o no con las especificaciones es el comportamiento en los primeros segundos, dictado por las raíces rápidas. El bajo amortiguamiento debido a las raíces rápidas hace que la respuesta temporal sea oscilatoria, lo que conduce a un sobrevalor excesivo y a un tiempo de asentamiento más prolongado de lo deseado. Esto lo podemos ver en la siguiente simulación:"
   ]
  },
  {
   "cell_type": "code",
   "execution_count": 5,
   "id": "5f2e5386",
   "metadata": {},
   "outputs": [],
   "source": [
    "K=0.3\n",
    "sysT= ctrl.feedback(sysG*K, 1)"
   ]
  },
  {
   "cell_type": "markdown",
   "id": "095e224a",
   "metadata": {},
   "source": [
    "Defino una función en python para no tener que andar escribiendo siempre lo mismo o evitar el peligroso \"copiar/pegar\""
   ]
  },
  {
   "cell_type": "code",
   "execution_count": 6,
   "id": "e30b88a7",
   "metadata": {},
   "outputs": [],
   "source": [
    "def graficar_respuesta_escalon(sys,T=None, title='Respuesta al escalón'): \n",
    "    t,y = ctrl.step_response(sys, T)\n",
    "    fig, ax= plt.subplots(figsize=(12,4))\n",
    "    ax.plot(t,y)\n",
    "    ax.set_title(title)\n",
    "    ax.set_xlabel(\"Tiempo\")\n",
    "    ax.grid()"
   ]
  },
  {
   "cell_type": "markdown",
   "id": "6d3db69f",
   "metadata": {
    "tags": []
   },
   "source": [
    "Ahora si puedo utilizar la función creada recientemente"
   ]
  },
  {
   "cell_type": "code",
   "execution_count": 7,
   "id": "2e7df922",
   "metadata": {},
   "outputs": [],
   "source": [
    "graficar_respuesta_escalon(sysT, T=np.linspace(0,8,500))"
   ]
  },
  {
   "cell_type": "markdown",
   "id": "073aedfd",
   "metadata": {},
   "source": [
    "Vimos anteriormente que la compensación de lead hace que el lugar se desplace hacia la izquierda. Aquí es necesario un compensador de este para aumentar el amortiguamiento y para el $\\omega_n$ requerido. Se requerirá alguna prueba y error para llegar a la ubicación de un polo y cero adecuado. Valores de $z = 3$ y $p = 20$ en la ecuación tienen un efecto sustancial al mover las ramas rápidas del lugar hacia la izquierda; así resultaría:\n",
    "\n",
    "$$D(s) = \\frac{s+3}{s+20}$$\n",
    "\n",
    "También se requiere alguna iteración mediante prueba y error para llegar a un valor de $K$ que cumpla con las especificaciones."
   ]
  },
  {
   "cell_type": "code",
   "execution_count": 8,
   "id": "c3e45d5b",
   "metadata": {},
   "outputs": [],
   "source": [
    "sysD = (s+3)/(s+20)\n",
    "sysDG=sysG*sysD\n",
    "_=ctrl.rlocus(sysDG, grid=False)\n",
    "plt.gcf().set_size_inches(8,6)"
   ]
  },
  {
   "cell_type": "markdown",
   "id": "a5494a8d",
   "metadata": {},
   "source": [
    "Entonces probamos con esta ganancia de $K=1.5$"
   ]
  },
  {
   "cell_type": "code",
   "execution_count": 9,
   "id": "74d0014f",
   "metadata": {},
   "outputs": [],
   "source": [
    "K=1.5\n",
    "sysKDG=sysDG*K\n",
    "sysT = ctrl.feedback(sysKDG,1)\n",
    "graficar_respuesta_escalon(sysT, T=np.linspace(0,6, 600))"
   ]
  },
  {
   "cell_type": "markdown",
   "id": "c97443af",
   "metadata": {},
   "source": [
    "Hay que tener en cuenta que el amortiguamiento debido a las raíces rápidas que corresponde a $K = 1.5$ es $\\zeta = 0.52$, que es ligeramente menor de lo que nos gustaría; Además, la frecuencia natural es $\\omega_n= 15$ rad/seg, mucho más rápido de lo que necesitamos. Sin embargo, estos valores son lo suficientemente cercanos como para cumplir con las pautas para sugerir un vistazo a la respuesta temporal. De hecho, la respuesta temporal que $t_r \\approx 1.1$ seg y $M_p \\approx 8\\%$, que están muy cerca de cumplir especificaciones.\n",
    "\n",
    "En resumen, la forma de diseño consistió en ajustar la compensación para influir en las raíces rápidas, examinar su efecto en la respuesta temporal y continuar la iteración de diseño hasta que se cumplieran las especificaciones.\n",
    "\n",
    "Para estar seguro de que se cumplen las especificaciones debemos hacer:"
   ]
  },
  {
   "cell_type": "code",
   "execution_count": 10,
   "id": "b59d7daf",
   "metadata": {},
   "outputs": [
    {
     "data": {
      "text/plain": [
       "{'RiseTime': 0.12012012012012012,\n",
       " 'SettlingTime': 5.205205205205205,\n",
       " 'SettlingMin': 0.7521738729990624,\n",
       " 'SettlingMax': 1.0465819498526368,\n",
       " 'Overshoot': 8.64517384184515,\n",
       " 'Undershoot': 0,\n",
       " 'Peak': 1.0465819498526368,\n",
       " 'PeakTime': 2.4324324324324325,\n",
       " 'SteadyStateValue': 0.963302752293578}"
      ]
     },
     "execution_count": 10,
     "metadata": {},
     "output_type": "execute_result"
    }
   ],
   "source": [
    "ctrl.step_info(sysT, T=np.linspace(0,10,1000))"
   ]
  },
  {
   "cell_type": "markdown",
   "id": "9beeb751",
   "metadata": {},
   "source": [
    "Que vemos que en realidad da un poco afuera de especificaciones el tiempo de respuesta.. pero lo dejaremos así. Quizás aumentando $K$ podamos mejorar un poco, siempre cuidando de no quedar afuera con el sobrevalor."
   ]
  },
  {
   "cell_type": "code",
   "execution_count": 11,
   "id": "67087453",
   "metadata": {},
   "outputs": [
    {
     "data": {
      "text/plain": [
       "{'RiseTime': 0.10277692351445958,\n",
       " 'SettlingTime': 4.815832987534678,\n",
       " 'SettlingMin': 0.776729850431055,\n",
       " 'SettlingMax': 1.0395168591973922,\n",
       " 'Overshoot': 7.078052413565962,\n",
       " 'Undershoot': 0,\n",
       " 'Peak': 1.0395168591973922,\n",
       " 'PeakTime': 2.3051395702528796,\n",
       " 'SteadyStateValue': 0.9708029197080292}"
      ]
     },
     "execution_count": 11,
     "metadata": {},
     "output_type": "execute_result"
    }
   ],
   "source": [
    "K=1.9\n",
    "sysKDG=sysDG*K\n",
    "sysT = ctrl.feedback(sysKDG,1)\n",
    "ctrl.step_info(sysT)"
   ]
  },
  {
   "cell_type": "markdown",
   "id": "dd145a18",
   "metadata": {},
   "source": [
    "El propósito del ajuste es proporcionar un momento que elimine el valor distinto de cero en estado estacionario (después que pse mucho tiempo) del elevador $\\delta_e$. Por lo tanto, si integramos el comando del elevador $\\delta_e$ y alimentamos esta integral al dispositivo de compensación, la compensación eventualmente debería proporcionar el momento requerido para mantener una altitud arbitraria, eliminando así la necesidad de un estado estacionario $\\delta_e$.\n",
    "\n",
    "Si la ganancia en el término integral $K_i$ es lo suficientemente pequeña, el efecto desestabilizador de agregar la integral debería ser pequeño y el sistema debería comportarse aproximadamente como antes, ya que ese lazo de realimentación se ha dejado intacto. El diagrama de bloques se puede reducir a lo que se ve en la parte de la derecha de la figura anterior. Sin embargo, es importante tener en cuenta que, físicamente, habrá dos salidas de la compensación:$\\delta_e$ (utilizada por el servomotor del ascensor) y $\\delta_t$ (utilizado por el servomotor de compensación de trim)."
   ]
  },
  {
   "cell_type": "markdown",
   "id": "a275b414",
   "metadata": {},
   "source": [
    "Así podemos definir un nuevo controlador $D_I$ que representará todo lo azul de la figura anterior.\n",
    "\n",
    "$$D_I(s) = KD(s)\\left(1+\\frac{K_i}{s}\\right)$$\n",
    "\n",
    "La ecuación característica del sistema con el término integral será:\n",
    "\n",
    "$$1+KDG+\\dfrac{K_I}{s}KDG=0$$\n",
    "\n",
    "Para ayudar en el proceso de diseño, es deseable encontrar el lugar geométrico de las raíces cuando se varía  $K_I$, pero la ecuación característica no se encuentra\n",
    "en las formas en que el lugar geométrico se pueda graficar. Por lo tanto, podemos dividir por $1 + KDG$ y obtenemos:\n",
    "\n",
    "$$ 1 + \\dfrac{(K_I/s)KDG}{1+KDG} = 0 $$\n",
    "\n",
    "Entonces para hacer el lugar de las raíces cuando se varía $K_I$ debemos introducir en Python:\n",
    "\n",
    "$$L(s) = \\frac{1}{s}\\frac{KDG}{1+KDG}$$\n",
    "\n",
    "Notar que la expresión anterior es la que habíamos definido anteriormente con el nombre `sysT`. Haría falta multiplicarla por un integrador:"
   ]
  },
  {
   "cell_type": "code",
   "execution_count": 12,
   "id": "e67cc68b",
   "metadata": {},
   "outputs": [],
   "source": [
    "sysL=sysT*1/s\n",
    "_=ctrl.rlocus(sysL)\n",
    "plt.gcf().set_size_inches(8,6)"
   ]
  },
  {
   "cell_type": "markdown",
   "id": "3958d282",
   "metadata": {},
   "source": [
    "La segunda figura es la ampliación de lo que está sucediendo con los polos lentos. Podemos ver que están todos muy cerca de ceros por lo que la influencia neta que tendrán en la respuesta será muy pequeña."
   ]
  },
  {
   "cell_type": "markdown",
   "id": "dbcbee98",
   "metadata": {},
   "source": [
    "Implementamos un escalón entonces para la perturbación y vemos como se comporta el lazo cerrado."
   ]
  },
  {
   "cell_type": "code",
   "execution_count": 13,
   "id": "6b3fc088",
   "metadata": {},
   "outputs": [],
   "source": [
    "Ki=0.1\n",
    "Di=K*sysD*(1+Ki/s)"
   ]
  },
  {
   "cell_type": "markdown",
   "id": "80e08e78",
   "metadata": {},
   "source": [
    "Para probar tenemos que generar el sistema realimentado. Notar que para la perturbación la función de lazo quedaría:"
   ]
  },
  {
   "cell_type": "code",
   "execution_count": 14,
   "id": "fe3c24fc",
   "metadata": {},
   "outputs": [],
   "source": [
    "Td=ctrl.feedback(G,Di) #Ki=0.19"
   ]
  },
  {
   "cell_type": "code",
   "execution_count": 15,
   "id": "bb8d95ce",
   "metadata": {},
   "outputs": [],
   "source": [
    "graficar_respuesta_escalon(Td)"
   ]
  },
  {
   "cell_type": "code",
   "execution_count": 16,
   "id": "a7803c62",
   "metadata": {},
   "outputs": [],
   "source": [
    "T=ctrl.feedback(G*Di,1)\n",
    "graficar_respuesta_escalon(T)"
   ]
  },
  {
   "cell_type": "code",
   "execution_count": 17,
   "id": "e5a326ac",
   "metadata": {},
   "outputs": [
    {
     "data": {
      "text/plain": [
       "{'RiseTime': 2.5957216515744497,\n",
       " 'SettlingTime': 23.118145959334942,\n",
       " 'SettlingMin': 0.9106676824506756,\n",
       " 'SettlingMax': 1.1159845187563178,\n",
       " 'Overshoot': 11.598451875631778,\n",
       " 'Undershoot': 0,\n",
       " 'Peak': 1.1159845187563178,\n",
       " 'PeakTime': 7.138234541829736,\n",
       " 'SteadyStateValue': 1.0}"
      ]
     },
     "execution_count": 17,
     "metadata": {},
     "output_type": "execute_result"
    }
   ],
   "source": [
    "ctrl.step_info(T)"
   ]
  },
  {
   "cell_type": "markdown",
   "id": "00f742ae",
   "metadata": {},
   "source": [
    "Si quisiésemos graficar como se comporta el ángulo $\\delta_e$ frente a un cambio en la referencia deberíamos pensar que esta es la salida (hacer diagrama de bloques), es decir:"
   ]
  },
  {
   "cell_type": "code",
   "execution_count": 18,
   "id": "50bc9819",
   "metadata": {},
   "outputs": [],
   "source": [
    "T_re = ctrl.feedback(Di,G)\n",
    "graficar_respuesta_escalon(T_re, T=np.linspace(0,30,1000))"
   ]
  }
 ],
 "metadata": {
  "jupytext": {
   "formats": "ipynb,md:myst",
   "text_representation": {
    "extension": ".md",
    "format_name": "myst",
    "format_version": 0.13,
    "jupytext_version": "1.11.0"
   }
  },
  "kernelspec": {
   "display_name": "Python 3",
   "language": "python",
   "name": "python3"
  },
  "language_info": {
   "codemirror_mode": {
    "name": "ipython",
    "version": 3
   },
   "file_extension": ".py",
   "mimetype": "text/x-python",
   "name": "python",
   "nbconvert_exporter": "python",
   "pygments_lexer": "ipython3",
   "version": "3.8.12"
  },
  "source_map": [
   13,
   23,
   38,
   47,
   64,
   70,
   93,
   99,
   122,
   138,
   142,
   148,
   159,
   174,
   187,
   195,
   208,
   216,
   226,
   239,
   249,
   267,
   273,
   290,
   302,
   314,
   328,
   342,
   359,
   363,
   373,
   378,
   382,
   386,
   389,
   393,
   403,
   407,
   409,
   417,
   422,
   426,
   431,
   439,
   441,
   445,
   450,
   456,
   477,
   481,
   485,
   489,
   492,
   496,
   500,
   504,
   509,
   511,
   515
  ]
 },
 "nbformat": 4,
 "nbformat_minor": 5
}