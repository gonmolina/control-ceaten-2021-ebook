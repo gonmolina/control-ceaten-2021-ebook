{
 "cells": [
  {
   "cell_type": "markdown",
   "id": "4c520800",
   "metadata": {},
   "source": [
    "# Figuras en Python - MATPLOTLIB"
   ]
  },
  {
   "cell_type": "markdown",
   "id": "370276a9",
   "metadata": {},
   "source": [
    "## Introducción\n",
    "\n",
    "Matplotlib es una excelente biblioteca de gráficos 2D y 3D para generar figuras científicas. Algunas de las muchas ventajas de esta biblioteca incluyen:\n",
    "\n",
    "* Fácil de empezar, y cuenta con un gran soporte para etiquetas y textos con formato $\\LaTeX$\n",
    "\n",
    "* Gran control de cada elemento de una figura, incluidos el tamaño de la figura y el DPI.\n",
    "\n",
    "* Salida de alta calidad en muchos formatos, incluidos PNG, PDF, SVG, EPS y PGF.\n",
    "\n",
    "* GUI para explorar de forma interactiva los valores en una figura.\n",
    "\n",
    "Una de las características clave de matplotlib que me gustaría enfatizar, y que creo que hace que matplotlib sea muy adecuado para generar figuras para publicaciones científicas, es que todos los aspectos de la figura pueden controlarse mediante programación. Esto es importante para la reproducir resultados y es conveniente cuando se necesita regenerar la figura con datos actualizados o cambiar su apariencia.\n",
    "\n",
    "Se puede encontrar una gran cantidad de información al respecto en la página web de [Matplotlib](http://matplotlib.org).\n",
    "\n",
    "Para comenzar a utilizar Matplotlib en un programa de Python, incluya los símbolos del módulo `pyplot` (de manera sencilla):"
   ]
  },
  {
   "cell_type": "code",
   "execution_count": 1,
   "id": "2c0d3179",
   "metadata": {},
   "outputs": [],
   "source": [
    "import matplotlib.pyplot as plt\n",
    "# importamos ademas la librería de calculo numérico numpy\n",
    "import numpy as np"
   ]
  },
  {
   "cell_type": "markdown",
   "id": "d56b1fe7",
   "metadata": {},
   "source": [
    "## API similar a MATLAB\n",
    "\n",
    "La forma más fácil de comenzar con el trazado de matplotlib es usar la API similar a MATLAB proporcionada por matplotlib.\n",
    "\n",
    "Está diseñado para ser compatible con las funciones de trazado de MATLAB, por lo que es fácil comenzar si está familiarizado con MATLAB.\n",
    "\n",
    "Para usar esta API de matplotlib, necesitamos incluir los símbolos en el módulo `pylab`:"
   ]
  },
  {
   "cell_type": "code",
   "execution_count": 2,
   "id": "5a3d6c02",
   "metadata": {},
   "outputs": [],
   "source": [
    "from pylab import *"
   ]
  },
  {
   "cell_type": "markdown",
   "id": "1055b08c",
   "metadata": {},
   "source": [
    "### Ejemplo\n",
    "\n",
    "Haremos una figura simple con la API de trazado de MATLAB. Primero generamos datos en $x$ e $y$:"
   ]
  },
  {
   "cell_type": "code",
   "execution_count": 3,
   "id": "08490e96",
   "metadata": {},
   "outputs": [],
   "source": [
    "x = np.linspace(0, 5, 10)\n",
    "y = x ** 2"
   ]
  },
  {
   "cell_type": "markdown",
   "id": "03ba6567",
   "metadata": {},
   "source": [
    "y luego los hacemos la gráfica:"
   ]
  },
  {
   "cell_type": "code",
   "execution_count": 4,
   "id": "a9f00037",
   "metadata": {},
   "outputs": [
    {
     "data": {
      "image/png": "[encoded data removed]",
      "text/plain": [
       "<Figure size 640x480 with 1 Axes>"
      ]
     },
     "metadata": {
      "filenames": {
       "image/png": "/home/runner/work/control-ceaten-2021-ebook/control-ceaten-2021-ebook/ceaten_2021/_build/jupyter_execute/doc/intro_python/Intro-Matplotlib_8_0.png"
      }
     },
     "output_type": "display_data"
    }
   ],
   "source": [
    "figure()\n",
    "plot(x, y, 'r')\n",
    "xlabel('x')\n",
    "ylabel('y')\n",
    "title('title')\n",
    "show()"
   ]
  },
  {
   "cell_type": "markdown",
   "id": "b508821f",
   "metadata": {},
   "source": [
    "La mayoría de las funciones relacionadas con el trazado en MATLAB están cubiertas por el módulo `pylab`. Por ejemplo, subplot y selección de color / símbolo:"
   ]
  },
  {
   "cell_type": "code",
   "execution_count": 5,
   "id": "94509a59",
   "metadata": {},
   "outputs": [],
   "source": [
    "subplot(1,2,1)\n",
    "plot(x, y, 'r--')\n",
    "subplot(1,2,2)\n",
    "plot(y, x, 'g*-');"
   ]
  },
  {
   "cell_type": "markdown",
   "id": "e7497bd0",
   "metadata": {},
   "source": [
    "Lo bueno de la API de estilo MATLAB de Pylab es que es fácil comenzar si se está familiarizado con MATLAB, y tiene un mínimo de sobrecarga de codificación para diagramas simples.\n",
    "\n",
    "Sin embargo, recomendaría no usar la API compatible con MATLAB para nada más que las figuras más simples.\n",
    "\n",
    "En su lugar, recomiendo aprender y usar la API de trazado orientado a objetos de matplotlib. Es notablemente poderoso. Para figuras avanzadas con sub-figuras, inserciones y otros componentes, es muy agradable trabajar con ellos."
   ]
  },
  {
   "cell_type": "markdown",
   "id": "463074c4",
   "metadata": {},
   "source": [
    "## La API orientada a objetos matplotlib\n",
    "\n",
    "La idea principal de la programación orientada a objetos es tener objetos en los que se puedan aplicar funciones y acciones, y ningún estado de objeto o programa debe ser global (como la API similar a MATLAB). La ventaja real de este enfoque se hace evidente cuando se crea más de una figura, o cuando una figura contiene más de un argumento secundario.\n",
    "\n",
    "Para utilizar la API orientada a objetos, comenzamos como en el ejemplo anterior, pero en lugar de crear una nueva instancia de figura global, almacenamos una referencia a la instancia de figura recién creada en la variable `fig`, y a partir de ella creamos una instancia de ejes o `axes` usando el método `add_axes` en la instancia de la clase `Figure`,  `fig`:"
   ]
  },
  {
   "cell_type": "code",
   "execution_count": 6,
   "id": "b608c8f7",
   "metadata": {},
   "outputs": [],
   "source": [
    "fig = plt.figure()\n",
    "axes = fig.add_axes([0.1, 0.1, 0.8, 0.8]) # izquierda, inferior, ancho, alto (rango 0 a 1)\n",
    "\n",
    "axes.plot(x, y, 'r')\n",
    "axes.set_xlabel('x')\n",
    "axes.set_ylabel('y')\n",
    "axes.set_title('title');"
   ]
  },
  {
   "cell_type": "markdown",
   "id": "60c417b0",
   "metadata": {
    "lang": "es"
   },
   "source": [
    "Aunque está involucrado un poco más de código, la ventaja es que ahora tenemos el control total de dónde se colocan los ejes de trazado, y podemos agregar fácilmente más de un eje a la figura:"
   ]
  },
  {
   "cell_type": "code",
   "execution_count": 7,
   "id": "99c7d110",
   "metadata": {},
   "outputs": [],
   "source": [
    "fig = plt.figure()\n",
    "axes1 = fig.add_axes([0.1, 0.1, 0.8, 0.8]) # eje principal\n",
    "axes2 = fig.add_axes([0.2, 0.5, 0.4, 0.3]) # eje interior\n",
    "\n",
    "# figura principal\n",
    "axes1.plot(x, y, 'r')\n",
    "axes1.set_xlabel('x')\n",
    "axes1.set_ylabel('y')\n",
    "axes1.set_title('title')\n",
    "\n",
    "# figura interior\n",
    "axes2.plot(y, x, 'g')\n",
    "axes2.set_xlabel('y')\n",
    "axes2.set_ylabel('x')\n",
    "axes2.set_title('insert title');"
   ]
  },
  {
   "cell_type": "markdown",
   "id": "bfc33f0a",
   "metadata": {},
   "source": [
    "Si no nos importa ser explícitos acerca de dónde se ubican nuestros ejes de trazado en la figura, entonces podemos usar uno de los muchos administradores de diseño de ejes en matplotlib. Mi favorito es `subplots`, que se puede usar así:"
   ]
  },
  {
   "cell_type": "code",
   "execution_count": 8,
   "id": "faf7acdd",
   "metadata": {},
   "outputs": [],
   "source": [
    "fig, axes = plt.subplots()\n",
    "\n",
    "axes.plot(x, y, 'r')\n",
    "axes.set_xlabel('x')\n",
    "axes.set_ylabel('y')\n",
    "axes.set_title('title');"
   ]
  },
  {
   "cell_type": "code",
   "execution_count": 9,
   "id": "69b58f12",
   "metadata": {},
   "outputs": [],
   "source": [
    "fig, axes = plt.subplots(nrows=1, ncols=2)\n",
    "\n",
    "for ax in axes:\n",
    "    ax.plot(x, y, 'r')\n",
    "    ax.set_xlabel('x')\n",
    "    ax.set_ylabel('y')\n",
    "    ax.set_title('title')"
   ]
  },
  {
   "cell_type": "markdown",
   "id": "b64bbcfc",
   "metadata": {
    "lang": "es"
   },
   "source": [
    "Eso fue fácil, pero no resulta del todo bonito ya que las etiquetas se superponen a los ejes.\n",
    "\n",
    "Podemos lidiar con eso usando el método `fig.tight_layout`, que ajusta automáticamente las posiciones de los ejes en la ventana de la figura para que no haya contenido superpuesto:"
   ]
  },
  {
   "cell_type": "code",
   "execution_count": 10,
   "id": "468ebc22",
   "metadata": {},
   "outputs": [],
   "source": [
    "fig, axes = plt.subplots(nrows=1, ncols=2)\n",
    "\n",
    "for ax in axes:\n",
    "    ax.plot(x, y, 'r')\n",
    "    ax.set_xlabel('x')\n",
    "    ax.set_ylabel('y')\n",
    "    ax.set_title('title')\n",
    "    \n",
    "fig.tight_layout()"
   ]
  },
  {
   "cell_type": "markdown",
   "id": "9743fd2d",
   "metadata": {
    "lang": "es"
   },
   "source": [
    "### Tamaño de la figura, relación de aspecto y DPI"
   ]
  },
  {
   "cell_type": "markdown",
   "id": "b22b3750",
   "metadata": {
    "lang": "es"
   },
   "source": [
    "Matplotlib permite especificar la relación de aspecto, el DPI y el tamaño de la figura cuando se crea el objeto de la clase `Figure`, utilizando los argumentos claves `figsize` y `dpi`. `figsize` es una tupla del ancho y alto de la figura en pulgadas, y `dpi` es la cantidad de pixels por pulgada. Para crear una figura de 800x400 pixels, 100 puntos por pulgada (DPI), podemos hacer:"
   ]
  },
  {
   "cell_type": "code",
   "execution_count": 11,
   "id": "8cbfa23a",
   "metadata": {},
   "outputs": [],
   "source": [
    "fig = plt.figure(figsize=(8,4), dpi=100);"
   ]
  },
  {
   "cell_type": "markdown",
   "id": "9033f697",
   "metadata": {
    "lang": "es"
   },
   "source": [
    "Los mismos argumentos también se pueden pasar a los gestores de diseño de figuras , como la función `subplots`:"
   ]
  },
  {
   "cell_type": "code",
   "execution_count": 12,
   "id": "35c500a5",
   "metadata": {},
   "outputs": [],
   "source": [
    "fig, axes = plt.subplots(figsize=(12,3))\n",
    "\n",
    "axes.plot(x, y, 'r')\n",
    "axes.set_xlabel('x')\n",
    "axes.set_ylabel('y')\n",
    "axes.set_title('title');"
   ]
  },
  {
   "cell_type": "markdown",
   "id": "b8a77ad3",
   "metadata": {},
   "source": [
    "### Guardando figuras\n",
    "\n",
    "Para guardar una figura en un archivo, podemos utilizar el método `savefig` en la clase `Figure`:"
   ]
  },
  {
   "cell_type": "code",
   "execution_count": 13,
   "id": "c67cbd90",
   "metadata": {},
   "outputs": [],
   "source": [
    "fig.savefig(\"filename.png\")"
   ]
  },
  {
   "cell_type": "markdown",
   "id": "1c827f9e",
   "metadata": {
    "lang": "es"
   },
   "source": [
    "Aquí también podemos especificar opcionalmente el DPI y elegir entre diferentes formatos de salida:"
   ]
  },
  {
   "cell_type": "code",
   "execution_count": 14,
   "id": "e3d564c1",
   "metadata": {},
   "outputs": [],
   "source": [
    "fig.savefig(\"filename.png\", dpi=200)"
   ]
  },
  {
   "cell_type": "markdown",
   "id": "18752cf9",
   "metadata": {
    "lang": "es"
   },
   "source": [
    "### Formatos disponibles: ¿cuáles deben usarse para obtener la mejor calidad?\n",
    "\n",
    "Matplotlib puede generar resultados de alta calidad en varios formatos, incluidos PNG, JPG, EPS, SVG, PGF y PDF. Para artículos científicos, recomiendo usar PDF siempre que sea posible. (Los documentos LaTeX compilados con `pdflatex` pueden incluir archivos PDF usando el comando `includegraphics`). En algunos casos, PGF también puede ser una buena alternativa."
   ]
  },
  {
   "cell_type": "markdown",
   "id": "7c9b9f4c",
   "metadata": {},
   "source": [
    "### Leyendas, etiquetas y títulos\n",
    "\n",
    "Ahora que hemos cubierto los conceptos básicos de cómo crear un lienzo de figura y agregar instancias de ejes al lienzo, veamos cómo decorar una figura con títulos, etiquetas de ejes y leyendas."
   ]
  },
  {
   "cell_type": "markdown",
   "id": "b96c3ad5",
   "metadata": {},
   "source": [
    "#### Títulos de las figuras\n",
    "\n",
    "Se puede agregar un título a cada instancia de eje en una figura. Para establecer el título, use el método `set_title` en la instancia de los ejes:"
   ]
  },
  {
   "cell_type": "code",
   "execution_count": 15,
   "id": "58af2703",
   "metadata": {},
   "outputs": [],
   "source": [
    "ax.set_title(\"title\");"
   ]
  },
  {
   "cell_type": "markdown",
   "id": "3953a29c",
   "metadata": {
    "lang": "es"
   },
   "source": [
    "#### Nombres de eje\n",
    "\n",
    "De manera similar, con los métodos `set_xlabel` y `set_ylabel`, podemos establecer los nombres o etiquetas de los ejes X e Y:"
   ]
  },
  {
   "cell_type": "code",
   "execution_count": 16,
   "id": "3a7e3bb9",
   "metadata": {},
   "outputs": [],
   "source": [
    "ax.set_xlabel(\"x\")\n",
    "ax.set_ylabel(\"y\");"
   ]
  },
  {
   "cell_type": "markdown",
   "id": "baf2375e",
   "metadata": {},
   "source": [
    "#### Leyendas\n",
    "\n",
    "Las leyendas para las curvas en una figura se pueden agregar de dos maneras. Un método es usar el método `legend` del objeto de eje y pasar una lista/tupla de textos de leyenda para las curvas definidas previamente:"
   ]
  },
  {
   "cell_type": "code",
   "execution_count": 17,
   "id": "98fdb832",
   "metadata": {},
   "outputs": [],
   "source": [
    "ax.legend([\"curva1\", \"curva2\", \"curva3\"]);"
   ]
  },
  {
   "cell_type": "markdown",
   "id": "f368f299",
   "metadata": {},
   "source": [
    "El método descrito anteriormente sigue la API de MATLAB. Es algo propenso a errores y no es flexible si se agregan o eliminan curvas de la figura (lo que resulta en una curva mal etiquetada).\n",
    "\n",
    "Un método mejor es usar como argumento la palabra clave `label=\"label text\"` cuando se agregan sub-figuras u otros objetos a la figura, y luego usar el método `legend` sin argumentos para agregar la leyenda a la figura:"
   ]
  },
  {
   "cell_type": "code",
   "execution_count": 18,
   "id": "9c9e96ad",
   "metadata": {},
   "outputs": [],
   "source": [
    "ax.plot(x, x**2, label=\"curva1\")\n",
    "ax.plot(x, x**3, label=\"curva2\")\n",
    "ax.legend();"
   ]
  },
  {
   "cell_type": "markdown",
   "id": "2459d4b2",
   "metadata": {},
   "source": [
    "La ventaja de este método es que si se agregan o eliminan curvas de la figura, la leyenda se actualiza automáticamente en consecuencia.\n",
    "\n",
    "La función `legend` toma un argumento de palabra clave opcional `loc` que se puede usar para especificar dónde se dibujará la leyenda en la figura. Los valores permitidos de `loc` son códigos numéricos para los distintos lugares donde se puede dibujar la leyenda. Consulte [la documentación de Matplotlib](http://matplotlib.org/users/legend_guide.html#legend-location) para obtener más información.\n",
    "\n",
    "Algunos de los valores más comunes de `loc` son:"
   ]
  },
  {
   "cell_type": "code",
   "execution_count": 19,
   "id": "a07a9621",
   "metadata": {},
   "outputs": [],
   "source": [
    "ax.legend(loc=0) # matplotlib decide la ubicación óptima\n",
    "ax.legend(loc=1) # arriba a la derecha\n",
    "ax.legend(loc=2) # arriba a la izquierda\n",
    "ax.legend(loc=3) # abajo a la izquierda\n",
    "ax.legend(loc=4); # abajo a la derecha\n",
    "# .. many more options are available"
   ]
  },
  {
   "cell_type": "markdown",
   "id": "2f0d2be9",
   "metadata": {
    "lang": "es"
   },
   "source": [
    "En el siguiente ejemplo se muestra cómo usar el título de la figura, las etiquetas de los ejes y las leyendas descritas anteriormente:"
   ]
  },
  {
   "cell_type": "code",
   "execution_count": 20,
   "id": "ad65e0be",
   "metadata": {},
   "outputs": [],
   "source": [
    "fig, ax = plt.subplots()\n",
    "\n",
    "ax.plot(x, x**2, label=\"y = x**2\")\n",
    "ax.plot(x, x**3, label=\"y = x**3\")\n",
    "ax.legend(loc=2); # arriba a la izquierda \n",
    "ax.set_xlabel('x')\n",
    "ax.set_ylabel('y')\n",
    "ax.set_title('title');"
   ]
  },
  {
   "cell_type": "markdown",
   "id": "a397d1fd",
   "metadata": {
    "lang": "es"
   },
   "source": [
    "### Formato de texto: LaTeX, tamaño de fuente, familia de fuentes"
   ]
  },
  {
   "cell_type": "markdown",
   "id": "e32d359e",
   "metadata": {
    "lang": "es"
   },
   "source": [
    "La figura anterior es funcional, pero (aún) no cumple los criterios de una figura utilizada en una publicación. Primero y ante todo, necesitamos tener texto con formato LaTeX, y segundo, debemos poder ajustar el tamaño de la fuente para que aparezca en una publicación.\n",
    "\n",
    "Matplotlib tiene un gran soporte para LaTeX. Todo lo que tenemos que hacer es usar signos de dólar para encapsular LaTeX en cualquier texto (leyenda, título, etiqueta, etc.). Por ejemplo, `\"$y=x^3$\"`.\n",
    "\n",
    "Pero aquí podemos encontrar un problema ligeramente sutil con el código LaTeX y las cadenas de texto de Python. En LaTeX, frecuentemente usamos la barra invertida en los comandos, por ejemplo `\\alpha` para producir el símbolo $\\alpha$. Pero la barra invertida ya tiene un significado en las cadenas de Python (el carácter del código de escape). Para evitar que Python estropee nuestro código de látex, necesitamos usar cadenas de texto \"sin procesar\". Las cadenas de texto sin formato se añaden con una '`r`', como `r\"\\alpha\"` o `r'\\alpha'` en lugar de `\"\\alpha\"` o `'\\alpha'`:"
   ]
  },
  {
   "cell_type": "code",
   "execution_count": 21,
   "id": "c5bcffe9",
   "metadata": {},
   "outputs": [],
   "source": [
    "fig, ax = plt.subplots()\n",
    "\n",
    "ax.plot(x, x**2, label=r\"$y = \\alpha^2$\")\n",
    "ax.plot(x, x**3, label=r\"$y = \\alpha^3$\")\n",
    "ax.legend(loc=2) # upper left corner\n",
    "ax.set_xlabel(r'$\\alpha$', fontsize=18)\n",
    "ax.set_ylabel(r'$y$', fontsize=18)\n",
    "ax.set_title('title');"
   ]
  },
  {
   "cell_type": "markdown",
   "id": "80418eef",
   "metadata": {},
   "source": [
    "También podemos cambiar el tamaño de fuente global y la familia de fuentes, que se aplica a todos los elementos de texto en una figura (etiquetas y títulos de ejes, leyendas, etc.):"
   ]
  },
  {
   "cell_type": "code",
   "execution_count": 22,
   "id": "5d4d6d26",
   "metadata": {},
   "outputs": [],
   "source": [
    "# Actualiza los parámetros de configuración de Matplotlib \n",
    "matplotlib.rcParams.update({'font.size': 18, 'font.family': 'serif'})"
   ]
  },
  {
   "cell_type": "code",
   "execution_count": 23,
   "id": "e06416a0",
   "metadata": {},
   "outputs": [],
   "source": [
    "fig, ax = plt.subplots()\n",
    "\n",
    "ax.plot(x, x**2, label=r\"$y = \\alpha^2$\")\n",
    "ax.plot(x, x**3, label=r\"$y = \\alpha^3$\")\n",
    "ax.legend(loc=2) # upper left corner\n",
    "ax.set_xlabel(r'$\\alpha$')\n",
    "ax.set_ylabel(r'$y$')\n",
    "ax.set_title('title');"
   ]
  },
  {
   "cell_type": "markdown",
   "id": "879f4b41",
   "metadata": {},
   "source": [
    "Una buena elección de fuentes globales son las fuentes STIX:"
   ]
  },
  {
   "cell_type": "code",
   "execution_count": 24,
   "id": "99659811",
   "metadata": {},
   "outputs": [],
   "source": [
    "matplotlib.rcParams.update({'font.size': 18, 'font.family': 'STIXGeneral', 'mathtext.fontset': 'stix'})"
   ]
  },
  {
   "cell_type": "code",
   "execution_count": 25,
   "id": "760a27c7",
   "metadata": {},
   "outputs": [],
   "source": [
    "fig, ax = plt.subplots()\n",
    "\n",
    "ax.plot(x, x**2, label=r\"$y = \\alpha^2$\")\n",
    "ax.plot(x, x**3, label=r\"$y = \\alpha^3$\")\n",
    "ax.legend(loc=2) # upper left corner\n",
    "ax.set_xlabel(r'$\\alpha$')\n",
    "ax.set_ylabel(r'$y$')\n",
    "ax.set_title('title');"
   ]
  },
  {
   "cell_type": "markdown",
   "id": "dab61c55",
   "metadata": {},
   "source": [
    "### Configuración de colores, tipos de línea y marcadores"
   ]
  },
  {
   "cell_type": "markdown",
   "id": "a9930205",
   "metadata": {},
   "source": [
    "#### Colores"
   ]
  },
  {
   "cell_type": "markdown",
   "id": "59640abe",
   "metadata": {},
   "source": [
    "Con matplotlib se puede definir los colores de las lineas y de otros elementos gráficos de varias maneras. Primero podemos usar una sintaxis parecida a la de MATLAB donde `'b'` significa blue (azul), `'g'` significa green (verde), etc. El API de MATLAB para seleccionar estilos de lineas también es soportado: donde  `'b.-'`  significa azul con linea estilo linea punto."
   ]
  },
  {
   "cell_type": "code",
   "execution_count": 26,
   "id": "37997f20",
   "metadata": {},
   "outputs": [
    {
     "data": {
      "text/plain": [
       "[<matplotlib.lines.Line2D at 0x7fb2dbea9070>]"
      ]
     },
     "execution_count": 26,
     "metadata": {},
     "output_type": "execute_result"
    }
   ],
   "source": [
    "# MATLAB style line color and style \n",
    "ax.plot(x, x**2, 'b.-') # blue line with dots\n",
    "ax.plot(x, x**3, 'g--') # green dashed line"
   ]
  },
  {
   "cell_type": "markdown",
   "id": "743145f6",
   "metadata": {
    "lang": "es"
   },
   "source": [
    "También podemos definir los colores por sus nombres o códigos hexadecimales RGB y, opcionalmente, proporcionar un valor alfa utilizando los argumentos de las palabras clave `color` y `alpha`:"
   ]
  },
  {
   "cell_type": "code",
   "execution_count": 27,
   "id": "232918b8",
   "metadata": {},
   "outputs": [],
   "source": [
    "fig, ax = plt.subplots()\n",
    "\n",
    "ax.plot(x, x+1, color=\"red\", alpha=0.5) # transparencia media\n",
    "ax.plot(x, x+2, color=\"#1155dd\")        # código hexadecimal RGB para un color azulado\n",
    "ax.plot(x, x+3, color=\"#15cc55\");        # # código hexadecimal RGB para un color verdoso"
   ]
  },
  {
   "cell_type": "markdown",
   "id": "f97f5e3b",
   "metadata": {},
   "source": [
    "#### Estilos de líneas y marcadores"
   ]
  },
  {
   "cell_type": "markdown",
   "id": "b746b802",
   "metadata": {
    "lang": "es"
   },
   "source": [
    "Para cambiar el ancho de línea, podemos usar el argumento de la palabra clave `linewidth` o `lw`. El estilo de línea se puede seleccionar usando los argumentos de la palabra clave `linestyle` o `ls`:"
   ]
  },
  {
   "cell_type": "code",
   "execution_count": 28,
   "id": "32947f45",
   "metadata": {},
   "outputs": [],
   "source": [
    "fig, ax = plt.subplots(figsize=(12,6))\n",
    "\n",
    "ax.plot(x, x+1, color=\"blue\", lw=0.25) # lw=linewidth\n",
    "ax.plot(x, x+2, color=\"blue\", lw=0.50)\n",
    "ax.plot(x, x+3, color=\"blue\", lw=1.00)\n",
    "ax.plot(x, x+4, color=\"blue\", lw=2.00)\n",
    "\n",
    "# posibles opciones de tipos de linea ‘-‘, ‘--’, ‘-.’, ‘:’, ‘steps’\n",
    "ax.plot(x, x+5, color=\"red\", lw=2, ls='-')\n",
    "ax.plot(x, x+6, color=\"red\", lw=2, ls='-.')\n",
    "ax.plot(x, x+7, color=\"red\", lw=2, ls=':')\n",
    "\n",
    "# trazo a tramos personalizado\n",
    "line, = ax.plot(x, x+8, color=\"black\", lw=1.50)\n",
    "line.set_dashes([5, 10, 15, 10]) # formato: largo de linea, largo del espacio, ...\n",
    "\n",
    "# símbolos de marcadores posibles: marker = '+', 'o', '*', 's', ',', '.', '1', '2', '3', '4', ...\n",
    "ax.plot(x, x+ 9, color=\"green\", lw=2, ls='--', marker='+')\n",
    "ax.plot(x, x+10, color=\"green\", lw=2, ls='--', marker='o')\n",
    "ax.plot(x, x+11, color=\"green\", lw=2, ls='--', marker='s')\n",
    "ax.plot(x, x+12, color=\"green\", lw=2, ls='--', marker='1')\n",
    "\n",
    "# tamaño y color de los marcadores\n",
    "ax.plot(x, x+13, color=\"purple\", lw=1, ls='-', marker='o', markersize=2)\n",
    "ax.plot(x, x+14, color=\"purple\", lw=1, ls='-', marker='o', markersize=4)\n",
    "ax.plot(x, x+15, color=\"purple\", lw=1, ls='-', marker='o', markersize=8, markerfacecolor=\"red\")\n",
    "ax.plot(x, x+16, color=\"purple\", lw=1, ls='-', marker='s', markersize=8, \n",
    "        markerfacecolor=\"yellow\", markeredgewidth=2, markeredgecolor=\"blue\");"
   ]
  },
  {
   "cell_type": "markdown",
   "id": "c93021db",
   "metadata": {},
   "source": [
    "### Control sobre la apariencia del eje"
   ]
  },
  {
   "cell_type": "markdown",
   "id": "ca9f664c",
   "metadata": {},
   "source": [
    "La apariencia de los ejes es un aspecto importante de una figura que a menudo necesitamos modificar para hacer una publicación con calidad gráfica. Necesitamos poder controlar dónde se colocan las marcas y las etiquetas, modificar el tamaño de la fuente y posiblemente las etiquetas utilizadas en los ejes. En esta sección veremos cómo controlar esas propiedades en una figura de matplotlib."
   ]
  },
  {
   "cell_type": "markdown",
   "id": "9a9342bc",
   "metadata": {},
   "source": [
    "#### Rango"
   ]
  },
  {
   "cell_type": "markdown",
   "id": "373cc344",
   "metadata": {},
   "source": [
    "Lo primero que podríamos querer configurar es el rango de los ejes. Podemos hacerlo utilizando los métodos `set_ylim` y `set_xlim` en el objeto de eje, o `axis('tight')` para obtener rangos de ejes \"ajustados\" de manera automática:"
   ]
  },
  {
   "cell_type": "code",
   "execution_count": 29,
   "id": "f5c9b01f",
   "metadata": {},
   "outputs": [],
   "source": [
    "fig, axes = plt.subplots(1, 3, figsize=(12, 4))\n",
    "\n",
    "axes[0].plot(x, x**2, x, x**3)\n",
    "axes[0].set_title(\"rangos default de los ejes\")\n",
    "\n",
    "axes[1].plot(x, x**2, x, x**3)\n",
    "axes[1].axis('tight')\n",
    "axes[1].set_title(\"Ejes ajustados 'apretados' axes\")\n",
    "\n",
    "axes[2].plot(x, x**2, x, x**3)\n",
    "axes[2].set_ylim([0, 60])\n",
    "axes[2].set_xlim([2, 5])\n",
    "axes[2].set_title(\"Rango de los ejes personalizados\");"
   ]
  },
  {
   "cell_type": "markdown",
   "id": "70d0ad2c",
   "metadata": {},
   "source": [
    "#### Escala logarítmica"
   ]
  },
  {
   "cell_type": "markdown",
   "id": "8d042cd8",
   "metadata": {},
   "source": [
    "También es posible establecer una escala logarítmica para uno o ambos ejes. De hecho, esta funcionalidad es solo una aplicación de un sistema de transformación más general en Matplotlib. Cada una de las escalas de los ejes se establece por separado utilizando los métodos `set _xscale` y `set_yscale` que aceptan un parámetro (con el valor \"log\" en este caso):"
   ]
  },
  {
   "cell_type": "code",
   "execution_count": 30,
   "id": "ef4ff4bb",
   "metadata": {},
   "outputs": [],
   "source": [
    "fig, axes = plt.subplots(1, 2, figsize=(10,4))\n",
    "      \n",
    "axes[0].plot(x, x**2, x, np.exp(x))\n",
    "axes[0].set_title(\"Normal scale\")\n",
    "\n",
    "axes[1].plot(x, x**2, x, np.exp(x))\n",
    "axes[1].set_yscale(\"log\")\n",
    "axes[1].set_title(\"Logarithmic scale (y)\");"
   ]
  },
  {
   "cell_type": "markdown",
   "id": "de611a47",
   "metadata": {},
   "source": [
    "### Ubicación de las etiquetas y etiquetas personalizadas"
   ]
  },
  {
   "cell_type": "markdown",
   "id": "971684fb",
   "metadata": {},
   "source": [
    "Podemos determinar explícitamente dónde queremos que los tics del eje con `set_xticks` y `set_yticks`, que toman una lista de valores para los lugares donde se colocarán los tics en el eje. También podemos usar los métodos `set_xticklabels` y `set_yticklabels` para proporcionar una lista de etiquetas de texto personalizadas para cada ubicación de marca:"
   ]
  },
  {
   "cell_type": "code",
   "execution_count": 31,
   "id": "efc4be55",
   "metadata": {},
   "outputs": [],
   "source": [
    "fig, ax = plt.subplots(figsize=(10, 4))\n",
    "\n",
    "ax.plot(x, x**2, x, x**3, lw=2)\n",
    "\n",
    "ax.set_xticks([1, 2, 3, 4, 5])\n",
    "ax.set_xticklabels([r'$\\alpha$', r'$\\beta$', r'$\\gamma$', r'$\\delta$', r'$\\epsilon$'], fontsize=18)\n",
    "\n",
    "yticks = [0, 50, 100, 150]\n",
    "ax.set_yticks(yticks)\n",
    "ax.set_yticklabels([\"$%.1f$\" % y for y in yticks], fontsize=18); # usa latex para formatear los tics"
   ]
  },
  {
   "cell_type": "markdown",
   "id": "e13fbd00",
   "metadata": {},
   "source": [
    "Hay una serie de métodos más avanzados para controlar la colocación de marcas mayores y menores en las cifras de matplotlib, como la ubicación automática de acuerdo con diferentes políticas. Consulte la [documentación de matplotlib](http://matplotlib.org/api/ticker_api.html) para obtener más información."
   ]
  },
  {
   "cell_type": "markdown",
   "id": "bdf99aae",
   "metadata": {},
   "source": [
    "#### Notación científica"
   ]
  },
  {
   "cell_type": "markdown",
   "id": "90f25bcf",
   "metadata": {},
   "source": [
    "Con grandes números en los ejes, a menudo es mejor usar la notación científica:"
   ]
  },
  {
   "cell_type": "code",
   "execution_count": 32,
   "id": "5dfd5fc1",
   "metadata": {},
   "outputs": [],
   "source": [
    "fig, ax = plt.subplots(1, 1)\n",
    "      \n",
    "ax.plot(x, x**2, x, np.exp(x))\n",
    "ax.set_title(\"Notación científica\")\n",
    "\n",
    "ax.set_yticks([0, 50, 100, 150])\n",
    "\n",
    "from matplotlib import ticker\n",
    "formatter = ticker.ScalarFormatter(useMathText=True)\n",
    "formatter.set_scientific(True) \n",
    "formatter.set_powerlimits((-1,1)) \n",
    "ax.yaxis.set_major_formatter(formatter)"
   ]
  },
  {
   "cell_type": "markdown",
   "id": "20c789be",
   "metadata": {},
   "source": [
    "### Número de eje y espaciado de la etiqueta del eje"
   ]
  },
  {
   "cell_type": "code",
   "execution_count": 33,
   "id": "05848e79",
   "metadata": {},
   "outputs": [],
   "source": [
    "# distancia entre x e y y el numero del eje\n",
    "matplotlib.rcParams['xtick.major.pad'] = 5\n",
    "matplotlib.rcParams['ytick.major.pad'] = 5\n",
    "\n",
    "fig, ax = plt.subplots(1, 1)\n",
    "      \n",
    "ax.plot(x, x**2, x, np.exp(x))\n",
    "ax.set_yticks([0, 50, 100, 150])\n",
    "\n",
    "ax.set_title(\"label and axis spacing\")\n",
    "\n",
    "# separación entre la etiqueta del eje y los números del eje \n",
    "ax.xaxis.labelpad = 5\n",
    "ax.yaxis.labelpad = 5\n",
    "\n",
    "ax.set_xlabel(\"x\")\n",
    "ax.set_ylabel(\"y\");"
   ]
  },
  {
   "cell_type": "code",
   "execution_count": 34,
   "id": "ce3702c4",
   "metadata": {},
   "outputs": [],
   "source": [
    "# Recuperamos los valores por defecto\n",
    "matplotlib.rcParams['xtick.major.pad'] = 3\n",
    "matplotlib.rcParams['ytick.major.pad'] = 3"
   ]
  },
  {
   "cell_type": "markdown",
   "id": "c770ffa1",
   "metadata": {},
   "source": [
    "#### Ajustes de posición del eje"
   ]
  },
  {
   "cell_type": "markdown",
   "id": "14533caf",
   "metadata": {},
   "source": [
    "Desafortunadamente, al guardar figuras, las etiquetas a veces se recortan, y puede ser necesario ajustar un poco las posiciones de los ejes. Esto se puede hacer usando `subplots_adjust`:"
   ]
  },
  {
   "cell_type": "code",
   "execution_count": 35,
   "id": "18a90004",
   "metadata": {},
   "outputs": [],
   "source": [
    "fig, ax = plt.subplots(1, 1)\n",
    "      \n",
    "ax.plot(x, x**2, x, np.exp(x))\n",
    "ax.set_yticks([0, 50, 100, 150])\n",
    "\n",
    "ax.set_title(\"title\")\n",
    "ax.set_xlabel(\"x\")\n",
    "ax.set_ylabel(\"y\")\n",
    "\n",
    "fig.subplots_adjust(left=0.15, right=.9, bottom=0.1, top=0.9)"
   ]
  },
  {
   "cell_type": "markdown",
   "id": "cec3bd55",
   "metadata": {},
   "source": [
    "### Grillas"
   ]
  },
  {
   "cell_type": "markdown",
   "id": "74c0be09",
   "metadata": {},
   "source": [
    "Con el método `grid` en el objeto de eje, podemos activar y desactivar las líneas de la cuadrícula. También podemos personalizar el aspecto de las líneas de la cuadrícula utilizando los mismos argumentos de palabras clave que la función `plot`:"
   ]
  },
  {
   "cell_type": "code",
   "execution_count": 36,
   "id": "d654f745",
   "metadata": {},
   "outputs": [
    {
     "name": "stderr",
     "output_type": "stream",
     "text": [
      "<ipython-input-36-2d9dd61f53bd>:1: RuntimeWarning: More than 20 figures have been opened. Figures created through the pyplot interface (`matplotlib.pyplot.figure`) are retained until explicitly closed and may consume too much memory. (To control this warning, see the rcParam `figure.max_open_warning`).\n",
      "  fig, axes = plt.subplots(1, 2, figsize=(10,3))\n"
     ]
    }
   ],
   "source": [
    "fig, axes = plt.subplots(1, 2, figsize=(10,3))\n",
    "\n",
    "# apariencia default de la grilla\n",
    "axes[0].plot(x, x**2, x, x**3, lw=2)\n",
    "axes[0].grid(True)\n",
    "\n",
    "# apariencia de la grilla personalizada\n",
    "axes[1].plot(x, x**2, x, x**3, lw=2)\n",
    "axes[1].grid(color='b', alpha=0.5, linestyle='dashed', linewidth=0.5)"
   ]
  },
  {
   "cell_type": "markdown",
   "id": "4da56a56",
   "metadata": {},
   "source": [
    "### Lineas de eje"
   ]
  },
  {
   "cell_type": "markdown",
   "id": "cc7c2617",
   "metadata": {},
   "source": [
    "También podemos cambiar las propiedades de las lineas de los ejes:"
   ]
  },
  {
   "cell_type": "code",
   "execution_count": 37,
   "id": "258c5eb1",
   "metadata": {},
   "outputs": [],
   "source": [
    "fig, ax = plt.subplots(figsize=(6,2))\n",
    "\n",
    "ax.spines['bottom'].set_color('blue')\n",
    "ax.spines['top'].set_color('blue')\n",
    "\n",
    "ax.spines['left'].set_color('red')\n",
    "ax.spines['left'].set_linewidth(2)\n",
    "\n",
    "# sacamos las lineas del lado de la derecha\n",
    "ax.spines['right'].set_color(\"none\")\n",
    "ax.yaxis.tick_left() # ponemos solos los tics de la izquierda"
   ]
  },
  {
   "cell_type": "markdown",
   "id": "b65318a8",
   "metadata": {},
   "source": [
    "### Ejes gemelos"
   ]
  },
  {
   "cell_type": "markdown",
   "id": "a7d71801",
   "metadata": {},
   "source": [
    "A veces es útil tener ejes x o y duales en una figura; por ejemplo, al trazar curvas con diferentes unidades juntas. Matplotlib admite esto con las funciones `twinx` y `twiny`:"
   ]
  },
  {
   "cell_type": "code",
   "execution_count": 38,
   "id": "a69a38c7",
   "metadata": {},
   "outputs": [],
   "source": [
    "fig, ax1 = plt.subplots()\n",
    "\n",
    "ax1.plot(x, x**2, lw=2, color=\"blue\")\n",
    "ax1.set_ylabel(r\"area $(m^2)$\", fontsize=18, color=\"blue\")\n",
    "for label in ax1.get_yticklabels():\n",
    "    label.set_color(\"blue\")\n",
    "    \n",
    "ax2 = ax1.twinx()\n",
    "ax2.plot(x, x**3, lw=2, color=\"red\")\n",
    "ax2.set_ylabel(r\"volume $(m^3)$\", fontsize=18, color=\"red\")\n",
    "for label in ax2.get_yticklabels():\n",
    "    label.set_color(\"red\")"
   ]
  },
  {
   "cell_type": "markdown",
   "id": "51a9a387",
   "metadata": {
    "lang": "es"
   },
   "source": [
    "### Ejes donde x e y son cero"
   ]
  },
  {
   "cell_type": "code",
   "execution_count": 39,
   "id": "a1e6c9dd",
   "metadata": {},
   "outputs": [],
   "source": [
    "fig, ax = plt.subplots()\n",
    "\n",
    "ax.spines['right'].set_color('none')\n",
    "ax.spines['top'].set_color('none')\n",
    "\n",
    "ax.xaxis.set_ticks_position('bottom')\n",
    "ax.spines['bottom'].set_position(('data',0)) # set position of x spine to x=0\n",
    "\n",
    "ax.yaxis.set_ticks_position('left')\n",
    "ax.spines['left'].set_position(('data',0))   # set position of y spine to y=0\n",
    "\n",
    "xx = np.linspace(-0.75, 1., 100)\n",
    "ax.plot(xx, xx**3);"
   ]
  },
  {
   "cell_type": "markdown",
   "id": "6cd5ee5c",
   "metadata": {
    "lang": "es"
   },
   "source": [
    "### Otros estilos de trama 2D"
   ]
  },
  {
   "cell_type": "markdown",
   "id": "0acd2b5b",
   "metadata": {
    "lang": "es"
   },
   "source": [
    "Además del método regular 'plot', hay una serie de otras funciones para generar diferentes tipos de gráficos. Consulte la [galería de gráficos de matplotlib](http://matplotlib.org/gallery.html) para obtener una lista completa de los tipos de gráficos disponibles. Algunos de los más útiles se muestran a continuación:"
   ]
  },
  {
   "cell_type": "code",
   "execution_count": 40,
   "id": "ef4e1902",
   "metadata": {},
   "outputs": [],
   "source": [
    "n = np.array([0,1,2,3,4,5])"
   ]
  },
  {
   "cell_type": "code",
   "execution_count": 41,
   "id": "225267c2",
   "metadata": {},
   "outputs": [],
   "source": [
    "fig, axes = plt.subplots(1, 4, figsize=(12,3))\n",
    "\n",
    "axes[0].scatter(xx, xx + 0.25*np.random.randn(len(xx)))\n",
    "axes[0].set_title(\"scatter\")\n",
    "\n",
    "axes[1].step(n, n**2, lw=2)\n",
    "axes[1].set_title(\"step\")\n",
    "\n",
    "axes[2].bar(n, n**2, align=\"center\", width=0.5, alpha=0.5)\n",
    "axes[2].set_title(\"bar\")\n",
    "\n",
    "axes[3].fill_between(x, x**2, x**3, color=\"green\", alpha=0.5);\n",
    "axes[3].set_title(\"fill_between\");"
   ]
  },
  {
   "cell_type": "code",
   "execution_count": 42,
   "id": "657cd9e6",
   "metadata": {},
   "outputs": [],
   "source": [
    "# gráfico polar usando add_axes y una proyección polar\n",
    "fig = plt.figure()\n",
    "ax = fig.add_axes([0.0, 0.0, .6, .6], polar=True)\n",
    "t = np.linspace(0, 2 * np.pi, 100)\n",
    "ax.plot(t, t, color='blue', lw=3);"
   ]
  },
  {
   "cell_type": "code",
   "execution_count": 43,
   "id": "b3ed7540",
   "metadata": {},
   "outputs": [],
   "source": [
    "# Un histograma\n",
    "n = np.random.randn(100000)\n",
    "fig, axes = plt.subplots(1, 2, figsize=(12,4))\n",
    "\n",
    "axes[0].hist(n)\n",
    "axes[0].set_title(\"Default histogram\")\n",
    "axes[0].set_xlim((min(n), max(n)))\n",
    "\n",
    "axes[1].hist(n, cumulative=True, bins=50)\n",
    "axes[1].set_title(\"Cumulative detailed histogram\")\n",
    "axes[1].set_xlim((min(n), max(n)));"
   ]
  },
  {
   "cell_type": "markdown",
   "id": "dfc3f6b1",
   "metadata": {
    "lang": "es"
   },
   "source": [
    "### Anotación de texto"
   ]
  },
  {
   "cell_type": "markdown",
   "id": "337ceea8",
   "metadata": {
    "lang": "es"
   },
   "source": [
    "La anotación de texto en las figuras de matplotlib se puede hacer usando la función `text`. Admite el formateo LaTeX al igual que los textos y títulos de etiquetas de ejes:"
   ]
  },
  {
   "cell_type": "code",
   "execution_count": 44,
   "id": "871ea626",
   "metadata": {},
   "outputs": [],
   "source": [
    "fig, ax = plt.subplots()\n",
    "\n",
    "ax.plot(xx, xx**2, xx, xx**3)\n",
    "\n",
    "ax.text(0.15, 0.2, r\"$y=x^2$\", fontsize=20, color=\"blue\")\n",
    "ax.text(0.65, 0.1, r\"$y=x^3$\", fontsize=20, color=\"green\");"
   ]
  },
  {
   "cell_type": "markdown",
   "id": "dfb2c9ca",
   "metadata": {},
   "source": [
    "### Figuras con múltiples sub-figuras e inserciones"
   ]
  },
  {
   "cell_type": "markdown",
   "id": "b724b2cc",
   "metadata": {},
   "source": [
    "Los ejes se pueden agregar a una figura de matplotlib manualmente usando `fig.add_axes` o usando un administrador de diseño de sub-figuras como `subplots`, `subplot2grid` o `gridspec`:"
   ]
  },
  {
   "cell_type": "markdown",
   "id": "30b0656b",
   "metadata": {},
   "source": [
    "#### subplots"
   ]
  },
  {
   "cell_type": "code",
   "execution_count": 45,
   "id": "cf1c85af",
   "metadata": {},
   "outputs": [],
   "source": [
    "fig, ax = plt.subplots(2, 3)\n",
    "fig.tight_layout()"
   ]
  },
  {
   "cell_type": "markdown",
   "id": "386c610e",
   "metadata": {},
   "source": [
    "#### subplot2grid"
   ]
  },
  {
   "cell_type": "code",
   "execution_count": 46,
   "id": "21938495",
   "metadata": {},
   "outputs": [],
   "source": [
    "fig = plt.figure()\n",
    "ax1 = plt.subplot2grid((3,3), (0,0), colspan=3)\n",
    "ax2 = plt.subplot2grid((3,3), (1,0), colspan=2)\n",
    "ax3 = plt.subplot2grid((3,3), (1,2), rowspan=2)\n",
    "ax4 = plt.subplot2grid((3,3), (2,0))\n",
    "ax5 = plt.subplot2grid((3,3), (2,1))\n",
    "fig.tight_layout()"
   ]
  },
  {
   "cell_type": "markdown",
   "id": "3d9ee85e",
   "metadata": {},
   "source": [
    "#### gridspec"
   ]
  },
  {
   "cell_type": "code",
   "execution_count": 47,
   "id": "7a1bc77b",
   "metadata": {},
   "outputs": [],
   "source": [
    "import matplotlib.gridspec as gridspec"
   ]
  },
  {
   "cell_type": "code",
   "execution_count": 48,
   "id": "9ab4a477",
   "metadata": {},
   "outputs": [],
   "source": [
    "fig = plt.figure()\n",
    "\n",
    "gs = gridspec.GridSpec(2, 3, height_ratios=[2,1], width_ratios=[1,2,1])\n",
    "for g in gs:\n",
    "    ax = fig.add_subplot(g)\n",
    "    \n",
    "fig.tight_layout()"
   ]
  },
  {
   "cell_type": "markdown",
   "id": "5cb89fd8",
   "metadata": {},
   "source": [
    "#### add_axes"
   ]
  },
  {
   "cell_type": "markdown",
   "id": "509dbb84",
   "metadata": {
    "lang": "es"
   },
   "source": [
    "La adición manual de ejes con `add_axes` es útil para agregar inserciones a las figuras:"
   ]
  },
  {
   "cell_type": "code",
   "execution_count": 49,
   "id": "5a18b935",
   "metadata": {},
   "outputs": [],
   "source": [
    "fig, ax = plt.subplots()\n",
    "\n",
    "ax.plot(xx, xx**2, xx, xx**3)\n",
    "fig.tight_layout()\n",
    "\n",
    "# interno\n",
    "inset_ax = fig.add_axes([0.2, 0.55, 0.35, 0.35]) # X, Y, ancho, alto\n",
    "\n",
    "inset_ax.plot(xx, xx**2, xx, xx**3)\n",
    "inset_ax.set_title('zoom cerca del origen')\n",
    "\n",
    "# set axis range\n",
    "inset_ax.set_xlim(-.2, .2)\n",
    "inset_ax.set_ylim(-.005, .01)\n",
    "\n",
    "# set axis tick locations\n",
    "inset_ax.set_yticks([0, 0.005, 0.01])\n",
    "inset_ax.set_xticks([-0.1,0,.1]);"
   ]
  },
  {
   "cell_type": "markdown",
   "id": "8103e9c4",
   "metadata": {
    "lang": "es"
   },
   "source": [
    "### Figuras de colores y contornos"
   ]
  },
  {
   "cell_type": "markdown",
   "id": "6d99cec7",
   "metadata": {
    "lang": "es"
   },
   "source": [
    "Los mapas de colores y las figuras de contorno son útiles para trazar funciones de dos variables. En la mayoría de estas funciones, utilizaremos un mapa de colores para codificar una dimensión de los datos. Hay una serie de mapas de color predefinidos. Es relativamente sencillo definir mapas de colores personalizados. Para obtener una lista de mapas de colores predefinidos, consulte [aquí](http://www.scipy.org/Cookbook/Matplotlib/Show_colormaps)"
   ]
  },
  {
   "cell_type": "code",
   "execution_count": 50,
   "id": "a7f82a36",
   "metadata": {},
   "outputs": [],
   "source": [
    "alpha = 0.7\n",
    "phi_ext = 2 * np.pi * 0.5\n",
    "\n",
    "def flux_qubit_potential(phi_m, phi_p):\n",
    "    return 2 + alpha - 2 * np.cos(phi_p) * np.cos(phi_m) - alpha * np.cos(phi_ext - 2*phi_p)"
   ]
  },
  {
   "cell_type": "code",
   "execution_count": 51,
   "id": "6b7e76c5",
   "metadata": {},
   "outputs": [],
   "source": [
    "phi_m = np.linspace(0, 2*np.pi, 100)\n",
    "phi_p = np.linspace(0, 2*np.pi, 100)\n",
    "X,Y = np.meshgrid(phi_p, phi_m)\n",
    "Z = flux_qubit_potential(X, Y).T"
   ]
  },
  {
   "cell_type": "markdown",
   "id": "363b7c0b",
   "metadata": {},
   "source": [
    "#### pcolor"
   ]
  },
  {
   "cell_type": "code",
   "execution_count": 52,
   "id": "a7e7102f",
   "metadata": {},
   "outputs": [],
   "source": [
    "fig, ax = plt.subplots()\n",
    "\n",
    "p = ax.pcolor(X/(2*np.pi), Y/(2*np.pi), Z, cmap=matplotlib.cm.RdBu, vmin=abs(Z).min(), vmax=abs(Z).max(), shading='auto')\n",
    "cb = fig.colorbar(p, ax=ax)"
   ]
  },
  {
   "cell_type": "markdown",
   "id": "7c6e1e73",
   "metadata": {},
   "source": [
    "#### imshow"
   ]
  },
  {
   "cell_type": "code",
   "execution_count": 53,
   "id": "627230f6",
   "metadata": {},
   "outputs": [],
   "source": [
    "fig, ax = plt.subplots()\n",
    "\n",
    "im = ax.imshow(Z, cmap=matplotlib.cm.RdBu, vmin=abs(Z).min(), vmax=abs(Z).max(), extent=[0, 1, 0, 1])\n",
    "im.set_interpolation('bilinear')\n",
    "\n",
    "cb = fig.colorbar(im, ax=ax)"
   ]
  },
  {
   "cell_type": "markdown",
   "id": "6db354c8",
   "metadata": {},
   "source": [
    "#### contour"
   ]
  },
  {
   "cell_type": "code",
   "execution_count": 54,
   "id": "4a2ba15b",
   "metadata": {},
   "outputs": [],
   "source": [
    "fig, ax = plt.subplots()\n",
    "\n",
    "cnt = ax.contour(Z, cmap=matplotlib.cm.RdBu, vmin=abs(Z).min(), vmax=abs(Z).max(), extent=[0, 1, 0, 1])"
   ]
  },
  {
   "cell_type": "markdown",
   "id": "894a9d45",
   "metadata": {},
   "source": [
    "### Otras lecturas"
   ]
  },
  {
   "cell_type": "markdown",
   "id": "f56438b1",
   "metadata": {},
   "source": [
    "* [The project web page for matplotlib](http://www.matplotlib.org).\n",
    "* [The source code for matplotlib](https://github.com/matplotlib/matplotlib).\n",
    "* [A large gallery with various types of plots matplotlib can create](http://matplotlib.org/gallery.html). Recomendada!\n",
    "* [A good matplotlib tutorial](http://www.loria.fr/~rougier/teaching/matplotlib ).\n",
    "* [Another good matplotlib reference](http://scipy-lectures.github.io/matplotlib/matplotlib.html)."
   ]
  }
 ],
 "metadata": {
  "jupytext": {
   "formats": "ipynb,md:myst",
   "text_representation": {
    "extension": ".md",
    "format_name": "myst",
    "format_version": 0.13,
    "jupytext_version": "1.11.0"
   }
  },
  "kernelspec": {
   "display_name": "Python 3",
   "language": "python",
   "name": "python3"
  },
  "language_info": {
   "codemirror_mode": {
    "name": "ipython",
    "version": 3
   },
   "file_extension": ".py",
   "mimetype": "text/x-python",
   "name": "python",
   "nbconvert_exporter": "python",
   "pygments_lexer": "ipython3",
   "version": "3.8.12"
  },
  "source_map": [
   13,
   17,
   37,
   41,
   51,
   53,
   59,
   62,
   66,
   73,
   77,
   82,
   90,
   98,
   108,
   112,
   128,
   132,
   141,
   151,
   157,
   169,
   173,
   177,
   181,
   185,
   192,
   198,
   202,
   206,
   210,
   216,
   222,
   228,
   232,
   238,
   241,
   247,
   249,
   255,
   259,
   267,
   276,
   280,
   291,
   295,
   303,
   312,
   316,
   321,
   330,
   334,
   338,
   347,
   351,
   355,
   359,
   365,
   369,
   375,
   379,
   383,
   412,
   416,
   420,
   424,
   428,
   442,
   446,
   450,
   459,
   463,
   467,
   478,
   482,
   486,
   490,
   503,
   507,
   527,
   531,
   535,
   539,
   550,
   554,
   558,
   568,
   572,
   576,
   588,
   592,
   596,
   611,
   615,
   631,
   635,
   639,
   643,
   659,
   667,
   681,
   685,
   689,
   696,
   700,
   704,
   708,
   711,
   715,
   723,
   727,
   731,
   739,
   743,
   747,
   768,
   772,
   776,
   784,
   789,
   793,
   798,
   802,
   809,
   813,
   817,
   821
  ]
 },
 "nbformat": 4,
 "nbformat_minor": 5
}